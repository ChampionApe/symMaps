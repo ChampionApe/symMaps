{
 "cells": [
  {
   "cell_type": "code",
   "execution_count": 1,
   "id": "80aa1a90-ee11-413f-bb4e-7cfe42a60359",
   "metadata": {},
   "outputs": [],
   "source": [
    "import numpy as np, scipy, pandas as pd, pyDbs\n",
    "from scipy import stats\n",
    "rng = np.random.default_rng(seed = 105)\n",
    "stats.truncnorm.random_state = rng\n",
    "from symMaps.__init__ import *\n",
    "from symMaps.lpSys import _adjF\n",
    "_numtypes = (int,float,np.generic)"
   ]
  },
  {
   "cell_type": "markdown",
   "id": "e0922039-7028-43f7-8b26-e85c15f14abb",
   "metadata": {},
   "source": [
    "# Documentation for `LPSys` "
   ]
  },
  {
   "cell_type": "markdown",
   "id": "31994030-6aaa-4222-93a9-0a1c999ff36c",
   "metadata": {},
   "source": [
    "The ```LPSys``` is designed for Linear Programming (LP) problems. This means stacking vectors as in `symmaps.SimpleSys`, but also methods for setting up coefficient matrices that specify linear constraints on the variables.\n",
    "\n",
    "To remind ourselves of the task at hand, we formulate models in an \"augmented form\" as follows (as opposed to the \"standard form\" that does not feature explicit equality constraints):\n",
    "$$\\begin{align} \n",
    "    &\\min_{x} \\ c^T\\cdot x \\tag{1A}\\\\ \n",
    "    &A_{ub}\\times x \\leq b_{ub} \\tag{1B}\\\\ \n",
    "    &A_{eq}\\times x  = b_{eq} \\tag{1C}\\\\ \n",
    "    &l\\leq x\\leq u, \\tag{1D}\n",
    "\\end{align}$$\n",
    "where: \n",
    "* $x$ is the vector of choice variables of length ($N$).\n",
    "* $c, l, u$ are coefficient vectors of the same length ($N$).\n",
    "* $b_{eq}, b_{ub}$ are coefficient vectors of lengths $N_{eq}, N_{ub}$, \n",
    "* and $A_{eq}, A_{ub}$ are coefficient matrices of sizes $(N_{eq}\\times N)$ and $(N_{ub} \\times N)$ respectively.\n",
    "\n",
    "We will generally refer to the inequality constraints $l\\leq x \\leq u$ as *domain constraints*, whereas the constraints that combine multiple variables as *variational constraints* (1B-1C). \n",
    "\n",
    "The `LPSys` class helps specify (1A)-(1D) building on symbols and constrains defined over indices. This is particularly helpful if we have a relatively large/complex system with many symbols and constraints and if model constraints/variables are naturally defined over indices (i.e. some structures repeated). As with before,"
   ]
  },
  {
   "cell_type": "markdown",
   "id": "ab936707-4abf-43df-8744-af4fd430f91a",
   "metadata": {
    "jp-MarkdownHeadingCollapsed": true
   },
   "source": [
    "## 1. The overall structure and workflow of the `LPSys` class"
   ]
  },
  {
   "cell_type": "markdown",
   "id": "70c3563c-285e-43c9-b432-bf6f81e225de",
   "metadata": {},
   "source": [
    "The `LPSys` class is initialized with the following specified structure/attributes:\n",
    "* `self.db`: An instance of the `pyDbs.SimpleDB` database - a simple (key, value) database with a few custom methods. Some of the useful features in this database class is that symbols are stored as `pyDbs.Gpy_` instances that ensure a common structure building on pandas series or indices. Other useful features is that they always have a `self.name` attribute that we can reference and variables have methods for returning levels, lower, and upper bounds both as pandas objects and as numpy arrays. The package `pyDbs` includes further documentation on this.\n",
    "* `self.v`: Dictionary used to establish domains of symbols in $x$ from problem (1) with key = symbol name, value = domain (specified as pd.Index) of the variable. We use `value = None` to indicate scalar symbols in $x$. \n",
    "* `self.eq`: Dictionary used to establish domains of equality constraints in (1C) with key = constraint name, value = domain (specified as pd.Index). We use `value = None` to indicate a scalar constraint.\n",
    "* `self.ub`: Dictionary used to establish domains of inequality constrains in (1B) with key = constraint name, value = domain (specified as pd.Index). We use `value = None` to indicate a scalar constraint.\n",
    "* `self.lp`: Dictionary with either containers for the 7 vectors/matrices required to set up the linear problem - $c$, $b_{ub}$, $b_{eq}$, $l$, $u$, $A_{ub}$, and $A_{eq}$.\n",
    "    * `self.lp['c']`: `pyDbs.GpyDict` instance - a simple (key,value) database with a few custom methods (akin to `pyDbs.SimpleDB`). This collects parameters for establishing the $c$-vector (examples below). *Note*: All vectors (`self.lp['c'], self.lp['b_eq'], self.lp['b_ub'], self.lp['l'], self.lp['u']`) are handled in the same way. \n",
    "    * `self.lp['A_ub']`: `symMaps.AMDict` instance - a simple (key,value) database with custom methods for setting up matrices. Matrices are themselves initialized as `symMaps.AMatrix` instances. We elaborate on the structure of these below.*Note:* The `self.lp['A_eq']` is equivalent to `self.lp['A_ub']`.\n",
    "* `self.out`: Dictionary with final objects that can be passed to `scipy.optimize.linprog` (vectors `c`, `b_eq`, `b_ub`, matrices `A_ub`, `A_eq`, and `bounds` defined by stacking `l`, `u`). This is an attribute that is updated by calling the `self.compile()` method, but the object is stored as an attribute to make it possible to avoid compiling after minor adjustments to the data.\n",
    "* `self.len`: Dictionary that - after compilation - contains the length $N$ of the solution vector (in `self.len['v']`), the number of rows in the equality matrix $N_{eq}$ (in `self.lp['eq']`), and the number of rows in the inequality matrix $N_{ub}$ (in `self.lp['ub']`).\n",
    "* `self.maps`: Dictionary that - after compilation - contains mappings from symbols/constraint indices to \"global indices\".\n",
    "    * `self.maps['v']` is a dictionary with mappings from pandas indices in  `self.v` to the global index for the stacked vector $x$.\n",
    "    * `self.maps['eq']` is a dictionary with mappings from pandas indices in `self.eq` to the global (row) index for the stacked matrix $A_{eq}$.\n",
    "    * `self.mpas['ub']` is a dictionary with mappings from pandas indices in `self.ub` to the global (row) index for the stacked matrix $A_{ub}$.\n",
    "* `self.scalarDual`: Boolean that specifies how to handle values of dual variables (shadow variables) on domain constraints when $l = u$  (i.e. the bounds are the same). If `True`, the shadow value is always assigned to the upper bound (and none to the lower bound); otherwise we use default from `scipy.optimize.linprog` algorithm."
   ]
  },
  {
   "cell_type": "markdown",
   "id": "48182f34-f352-44d0-b5b1-63de27ad19da",
   "metadata": {},
   "source": [
    "The following elaborates on all of these bits through different examples. The notebook `docs_ModelShell.ipynb` shows how it can be used to specify power system models and goes through a specific example from A-Z. "
   ]
  },
  {
   "cell_type": "markdown",
   "id": "b66add65-cbe5-47b0-85cb-a908a95e851c",
   "metadata": {},
   "source": [
    "## 2. Example of usage"
   ]
  },
  {
   "cell_type": "markdown",
   "id": "8e5bfdaa-161d-4bfe-b710-42b728a0114e",
   "metadata": {},
   "source": [
    "### A. Domains"
   ]
  },
  {
   "cell_type": "markdown",
   "id": "1f26c14b-7621-485b-8a06-61e149fafaab",
   "metadata": {},
   "source": [
    "We start by adding a few building blocks to use in the LP system."
   ]
  },
  {
   "cell_type": "code",
   "execution_count": 2,
   "id": "81a7d43d-e227-43ac-bbfa-4d5e19a5ce1b",
   "metadata": {},
   "outputs": [],
   "source": [
    "self = LPSys()"
   ]
  },
  {
   "cell_type": "markdown",
   "id": "7d27fc5b-19df-4cff-be7b-a9a2ff1cccc3",
   "metadata": {},
   "source": [
    "Add some time indices:"
   ]
  },
  {
   "cell_type": "code",
   "execution_count": 3,
   "id": "cc1430c3-4eca-48b0-a892-bf2299ad3820",
   "metadata": {},
   "outputs": [],
   "source": [
    "t = pd.Index(range(2), name = 't')\n",
    "i = pd.Index(range(10,13), name = 'i')\n",
    "j = pd.Index(range(20,24), name = 'j')"
   ]
  },
  {
   "cell_type": "markdown",
   "id": "954cf4b5-5841-42cb-942d-52bb52304f19",
   "metadata": {},
   "source": [
    "Add some variables defined over these indices:"
   ]
  },
  {
   "cell_type": "code",
   "execution_count": 4,
   "id": "2e3d000d-aa37-4313-b44d-476241b49578",
   "metadata": {},
   "outputs": [],
   "source": [
    "self.v = {'p': t,\n",
    "          'y': pd.MultiIndex.from_product([t,i]),\n",
    "          'z': CPI([pd.MultiIndex.from_product([t,i]), j]),\n",
    "          'k': None} # scalar"
   ]
  },
  {
   "cell_type": "markdown",
   "id": "2e26d689-29b8-4a1a-b625-99e5efa9164d",
   "metadata": {},
   "source": [
    "Add some constraints over these incides (note that equality and inequality constraints are added in exactly the same way (only calling one `eq` and the other `ub`), so we only consider `eq` constrains for simplicity her):"
   ]
  },
  {
   "cell_type": "code",
   "execution_count": 5,
   "id": "06cd4291-3a17-4f1a-a435-7de7c47c5859",
   "metadata": {},
   "outputs": [],
   "source": [
    "self.eq = {'sclr': None, # scalar constraint\n",
    "           'vec_t': t, # entire t index\n",
    "           'vec_tx0': t[1:], # t index except initial value\n",
    "           'vec_tj': self.v['z'].droplevel('i').unique()} # combination of t,j that is used in z index "
   ]
  },
  {
   "cell_type": "markdown",
   "id": "e9a41636-123b-4d7c-94c8-2c978c7bf586",
   "metadata": {},
   "source": [
    "This system thus splits up the solution vector $x$ from problem (1) into four symbols. If we use `self.compileMaps()`, we can see how the four symbols are going to be stacked to the vector $x$. If we look under `self.maps['v']`, we have a dictionary that maps from the domains of the four symbols ($p$, $y$, $z$, $k$), to the ordering used in the stacked solution vector:"
   ]
  },
  {
   "cell_type": "code",
   "execution_count": 6,
   "id": "bec890e2-9409-41b7-91f5-edce358716e6",
   "metadata": {},
   "outputs": [
    {
     "data": {
      "text/plain": [
       "t\n",
       "0    0\n",
       "1    1\n",
       "dtype: int64"
      ]
     },
     "execution_count": 6,
     "metadata": {},
     "output_type": "execute_result"
    }
   ],
   "source": [
    "self.compileMaps() # create maps\n",
    "self.maps['v']['p'] # the symbol 'p' is placed first in the stacked vector. Thus, the element x[0] from the stacked vector represents the symbol p[t = 0]."
   ]
  },
  {
   "cell_type": "code",
   "execution_count": 7,
   "id": "1bbcbcd7-6859-4246-af52-512b0a5d1558",
   "metadata": {},
   "outputs": [
    {
     "data": {
      "text/plain": [
       "t  i \n",
       "0  10    2\n",
       "   11    3\n",
       "   12    4\n",
       "1  10    5\n",
       "   11    6\n",
       "   12    7\n",
       "dtype: int64"
      ]
     },
     "execution_count": 7,
     "metadata": {},
     "output_type": "execute_result"
    }
   ],
   "source": [
    "self.maps['v']['y'] # the symbol 'y' is placed second in the stacked vector. The small print here shows that the element x[2] represents the symbol y[t=0, i=10]"
   ]
  },
  {
   "cell_type": "markdown",
   "id": "9cd370db-b3bb-431a-9cf6-d2089a437419",
   "metadata": {},
   "source": [
    "Similar maps are established for `eq` and `ub` representing the different equality and inequality constraints in the system. For instance:"
   ]
  },
  {
   "cell_type": "code",
   "execution_count": 8,
   "id": "c35536a2-c50e-4fcd-8722-fc410439d202",
   "metadata": {},
   "outputs": [
    {
     "data": {
      "text/plain": [
       "t\n",
       "0    1\n",
       "1    2\n",
       "dtype: int64"
      ]
     },
     "execution_count": 8,
     "metadata": {},
     "output_type": "execute_result"
    }
   ],
   "source": [
    "self.maps['eq']['vec_t'] # the constraint 'vec_t' is placed second in the stacked constraints. Thus element 1 represents the constraint vec[t = 0]. "
   ]
  },
  {
   "cell_type": "markdown",
   "id": "83bf007c-dbc5-469f-96d7-3d632a75a8fa",
   "metadata": {},
   "source": [
    "### B. Add vectors (1d) "
   ]
  },
  {
   "cell_type": "markdown",
   "id": "cbf354ca-c98e-42ea-8e7e-cb452061e0db",
   "metadata": {},
   "source": [
    "Vector coefficients are added as ```GpyDict``` instances. These store dictionaries of ```Gpy``` symbols. We add by specifying id, name, parameter, and where id is a unique identifier, name specifies what of the four symbols in `self.v` the coefficient pertains to ($p$, $y$, $z$, or $k$), and parameter is a pandas series specifying the actual coefficients. Note that this means that the index in the parameter we pass has to be consistent with what we have declared about the variable in `self.v`."
   ]
  },
  {
   "cell_type": "markdown",
   "id": "e2f4883f-9370-4388-936e-99de30eb70ec",
   "metadata": {
    "jp-MarkdownHeadingCollapsed": true
   },
   "source": [
    "#### *i)* Examples - $c$"
   ]
  },
  {
   "cell_type": "markdown",
   "id": "70c92782-5320-4fc0-9244-c66cb4b8c7f1",
   "metadata": {},
   "source": [
    "**Example: Add parameter that applies to part of a symbol**\n",
    "\n",
    "*Here, we add a component with identfier 'p[t=0]' that applies to the symbol 'p'. Specifically, we add a coefficient 1 on the parts of the index t[0:1]:*"
   ]
  },
  {
   "cell_type": "code",
   "execution_count": 9,
   "id": "08723d1b-1bb8-476f-bac4-bfb130711a0f",
   "metadata": {},
   "outputs": [],
   "source": [
    "self.lp['c'][('p[t=0]','p')] = pd.Series(1, index = t[0:1]) # Note: The first entry is a unique identifier, the second identifies name of Gpy"
   ]
  },
  {
   "cell_type": "markdown",
   "id": "289cd224-c827-41e7-bd07-7ef10dd50cb3",
   "metadata": {},
   "source": [
    "*Note the parameter we add here is added with an index that is consistent with what we have referenced for $p$ in `self.v`, thus the following should return `True`:*"
   ]
  },
  {
   "cell_type": "code",
   "execution_count": 10,
   "id": "0c9faf30-e1f4-4691-98ca-1dc7f0e316ca",
   "metadata": {},
   "outputs": [],
   "source": [
    "attr, comp = 'c', 'p[t=0]'\n",
    "gpyInst = self.lp[attr][comp] # the specific gpy element we are checking here\n",
    "assert all(gpyInst.index.isin(self.v[gpyInst.name])), f\"The component {comp} in self.lp[{attr}] is defined over an index inconsistent with declared in self.v\""
   ]
  },
  {
   "cell_type": "markdown",
   "id": "72bc1540-c505-448a-872e-0c3d74c2953f",
   "metadata": {},
   "source": [
    "**Example: Add parameter on scalar symbol 'k':**"
   ]
  },
  {
   "cell_type": "markdown",
   "id": "16870d2d-aba2-4030-bb9c-097810de88f2",
   "metadata": {},
   "source": [
    "*With a scalar, by construction, we can only apply one coefficient, and thus there is not use for splitting up the specification into several components. In general, if a component specifies the coefficients for the entire domain of the symbol, we do not need to give it a unique identifier different from the symbol name:*"
   ]
  },
  {
   "cell_type": "code",
   "execution_count": 11,
   "id": "d03cb5e2-e3f4-465d-a48e-3d6f8b6a75a9",
   "metadata": {},
   "outputs": [],
   "source": [
    "self.lp['c']['k'] = 10 # this specifies that the element in th stacked vector x that represents the scalar 'k' is 10."
   ]
  },
  {
   "cell_type": "markdown",
   "id": "12c5445b-1720-4154-87b0-7b0cb59d58c7",
   "metadata": {},
   "source": [
    "*As the scalar is not defined over any index, the only check we do here to see that we have added it properly, is to check that symbol is a `GpyScalar`:*"
   ]
  },
  {
   "cell_type": "code",
   "execution_count": 12,
   "id": "57066c5f-6740-4baf-8329-3432df247157",
   "metadata": {},
   "outputs": [],
   "source": [
    "attr, comp = 'c', 'k'\n",
    "gpyInst = self.lp[attr][comp] # \n",
    "if gpyInst.type == 'scalar':\n",
    "    assert self.v[gpyInst.name] is None, f\"The component {comp} in self.lp[{attr}] is defined over an index inconsistent with declared in self.v\""
   ]
  },
  {
   "cell_type": "markdown",
   "id": "1514b2c5-f6a3-4ef0-b323-1a07a6e06a57",
   "metadata": {},
   "source": [
    "*We can also add the coefficient on scalar with a different name, for instance:*"
   ]
  },
  {
   "cell_type": "code",
   "execution_count": 13,
   "id": "509e0948-fdd7-47ff-8e3e-2534af00f14d",
   "metadata": {},
   "outputs": [],
   "source": [
    "self.lp['c'][('otherNameForK', 'k')] = 10 # this is equivalent with the other method, except it now has a different identifier in self.lp['c']\n",
    "del self.lp['c']['otherNameForK'] # delete again, we don't need it here"
   ]
  },
  {
   "cell_type": "markdown",
   "id": "2a46ce45-ab10-4512-812d-e94afbda4e2a",
   "metadata": {},
   "source": [
    "**Example: Add parameter on full vector for $p$**"
   ]
  },
  {
   "cell_type": "markdown",
   "id": "dd4f306c-6e7a-4959-80f1-33703a6147ac",
   "metadata": {},
   "source": [
    "*This adds random uniform numbers for the full vector 'p'.*"
   ]
  },
  {
   "cell_type": "code",
   "execution_count": 14,
   "id": "f16f6eee-226c-4e1d-83d7-fef224019aa9",
   "metadata": {},
   "outputs": [],
   "source": [
    "self.lp['c']['p'] = pd.Series(np.random.uniform(0, 1, len(self.v['p'])), index = self.v['p'], name = 'p')"
   ]
  },
  {
   "cell_type": "markdown",
   "id": "4ffc60e4-a85c-48cd-8bbb-0ab7322970f4",
   "metadata": {},
   "source": [
    "**Example: Add partial vector for $z$. This leaves the rest of the model sparse.**"
   ]
  },
  {
   "cell_type": "code",
   "execution_count": 15,
   "id": "7144c4d6-31ec-4602-b40b-2770bead1987",
   "metadata": {},
   "outputs": [],
   "source": [
    "self.lp['c'][('zPart1','z')] = pd.Series(np.random.uniform(1, 2, 10), index = self.v['z'][:10])"
   ]
  },
  {
   "cell_type": "markdown",
   "id": "1c231ed6-87c4-42df-b7a5-53d9dfc71dd4",
   "metadata": {
    "jp-MarkdownHeadingCollapsed": true
   },
   "source": [
    "#### *ii)* Examples - $b_{eq}, b_{ub}$"
   ]
  },
  {
   "cell_type": "markdown",
   "id": "94d833db-3064-447f-9e47-2d2c949355d7",
   "metadata": {},
   "source": [
    "Vectors $b_{eq},b_{ub}$ are added in the exact. For example:"
   ]
  },
  {
   "cell_type": "code",
   "execution_count": 16,
   "id": "622fc897-7c4d-41d9-9663-763e31f4fceb",
   "metadata": {},
   "outputs": [],
   "source": [
    "constr = 'vec_t'\n",
    "self.lp['b_eq'][constr] = pd.Series(1, index = self.eq[constr]) # add ones for entire domain of the relevant constraint"
   ]
  },
  {
   "cell_type": "markdown",
   "id": "032e3945-3d68-4571-bfe6-0506dea70673",
   "metadata": {},
   "source": [
    "This is by construction consistent with the declared domains:"
   ]
  },
  {
   "cell_type": "code",
   "execution_count": 17,
   "id": "adc4ddd2-1583-48d8-a249-c3ad3a12148a",
   "metadata": {},
   "outputs": [],
   "source": [
    "attr, comp = 'b_eq', 'vec_t'\n",
    "gpyInst = self.lp[attr][comp] # the specific gpy element we are checking here\n",
    "assert all(gpyInst.index.isin(self.eq[gpyInst.name])), f\"The component {comp} in self.lp[{attr}] is defined over an index inconsistent with declared in self.eq\""
   ]
  },
  {
   "cell_type": "markdown",
   "id": "ea530a9e-909b-4e48-96ae-232ff511bf7d",
   "metadata": {
    "jp-MarkdownHeadingCollapsed": true
   },
   "source": [
    "#### *iii)* Examples - $l, u$"
   ]
  },
  {
   "cell_type": "markdown",
   "id": "1966d8b0-f65d-47e0-be6b-0b5321ce5311",
   "metadata": {},
   "source": [
    "Bounds are defined in exact same way cost coefficients. For instance, lower bound on the entire vector 'p':"
   ]
  },
  {
   "cell_type": "code",
   "execution_count": 18,
   "id": "f17dc2a4-d34f-434a-b6a5-40663db8dafa",
   "metadata": {},
   "outputs": [],
   "source": [
    "self.lp['l']['p'] = pd.Series(1, index = self.v['p']) "
   ]
  },
  {
   "cell_type": "markdown",
   "id": "2648fcdb-3b91-4326-bcbe-0df0a9799ff1",
   "metadata": {},
   "source": [
    "This is also by construction consistent with the declared domains (as we rely on those to define the index):"
   ]
  },
  {
   "cell_type": "code",
   "execution_count": 19,
   "id": "2dba6e5b-4c9c-4a8a-ac75-9d1355a5cfd6",
   "metadata": {},
   "outputs": [],
   "source": [
    "attr, comp = 'l', 'p'\n",
    "gpyInst = self.lp[attr][comp] # the specific gpy element we are checking here\n",
    "assert all(gpyInst.index.isin(self.v[gpyInst.name])), f\"The component {comp} in self.lp[{attr}] is defined over an index inconsistent with declared in self.v\""
   ]
  },
  {
   "cell_type": "markdown",
   "id": "eb607d4f-d5a3-4e7c-8289-f60f55a1f30d",
   "metadata": {},
   "source": [
    "Another example where we add upper bound on part of the domains:"
   ]
  },
  {
   "cell_type": "code",
   "execution_count": 20,
   "id": "bee57435-96fe-4df8-b872-3dbe90ba33ee",
   "metadata": {
    "scrolled": true
   },
   "outputs": [],
   "source": [
    "self.lp['u'][('zPart2','z')] = pd.Series(100, index = self.v['z'][:20])\n",
    "attr, comp = 'u', 'zPart2'\n",
    "gpyInst = self.lp[attr][comp] # the specific gpy element we are checking here\n",
    "assert all(gpyInst.index.isin(self.v[gpyInst.name])), f\"The component {comp} in self.lp[{attr}] is defined over an index inconsistent with declared in self.v\""
   ]
  },
  {
   "cell_type": "markdown",
   "id": "6d903180-ebca-4733-87b1-c0f1aacf7149",
   "metadata": {
    "jp-MarkdownHeadingCollapsed": true
   },
   "source": [
    "#### *iv)* Compilation"
   ]
  },
  {
   "cell_type": "markdown",
   "id": "fffba18a-7f84-4aa1-a5b0-4931d49af3ad",
   "metadata": {},
   "source": [
    "The next stage of the compilation (after `self.compileMaps()` that we looked at earlier) is to compile parameters. When we call `self.compileParams()`, we essentially build the arguments in `self.out` that are required for solving the linear program:"
   ]
  },
  {
   "cell_type": "code",
   "execution_count": 21,
   "id": "ca2b204c-ed62-49f0-8a6d-6383ca7698cd",
   "metadata": {},
   "outputs": [
    {
     "data": {
      "text/plain": [
       "dict_keys(['c', 'A_ub', 'b_ub', 'A_eq', 'b_eq', 'bounds'])"
      ]
     },
     "execution_count": 21,
     "metadata": {},
     "output_type": "execute_result"
    }
   ],
   "source": [
    "self.compileParams()\n",
    "self.out.keys()"
   ]
  },
  {
   "cell_type": "markdown",
   "id": "1edee5ac-c797-439b-b0dc-ae05040218cf",
   "metadata": {},
   "source": [
    "**Cost vector, $c$:**"
   ]
  },
  {
   "cell_type": "code",
   "execution_count": 22,
   "id": "7a83543c-74eb-436c-a85c-2630560c67ed",
   "metadata": {},
   "outputs": [],
   "source": [
    "c = self.out['c']"
   ]
  },
  {
   "cell_type": "markdown",
   "id": "9f234b72-5cef-49e0-8c04-145a79392623",
   "metadata": {},
   "source": [
    "The default value where we have not supplied any is zero. Note that we can use the mapping system in the `LPSys` to extract relevant parts of this stacked vector by calling the symbol names, for instance:"
   ]
  },
  {
   "cell_type": "code",
   "execution_count": 23,
   "id": "60399a07-9cef-4f5a-befb-c93c6316bdd0",
   "metadata": {},
   "outputs": [
    {
     "data": {
      "text/plain": [
       "array([0.09080153, 0.70747261])"
      ]
     },
     "execution_count": 23,
     "metadata": {},
     "output_type": "execute_result"
    }
   ],
   "source": [
    "self(c, 'p') # extract part of vector that relates to 'p'"
   ]
  },
  {
   "cell_type": "markdown",
   "id": "6ff56757-10bd-4180-9e77-1366efd421dc",
   "metadata": {},
   "source": [
    "We can also return this as a pandas object to match it with our indices:"
   ]
  },
  {
   "cell_type": "code",
   "execution_count": 24,
   "id": "0aca9bd9-5f31-403a-b2b0-5d114e9c7d7d",
   "metadata": {},
   "outputs": [
    {
     "data": {
      "text/plain": [
       "t\n",
       "0    0.090802\n",
       "1    0.707473\n",
       "Name: p, dtype: float64"
      ]
     },
     "execution_count": 24,
     "metadata": {},
     "output_type": "execute_result"
    }
   ],
   "source": [
    "self.get(c, 'p')"
   ]
  },
  {
   "cell_type": "markdown",
   "id": "5837331e-24d4-40ed-9431-9e7544f07111",
   "metadata": {},
   "source": [
    "**Constants, $b_{eq}, b_{ub}$:**"
   ]
  },
  {
   "cell_type": "markdown",
   "id": "d80bd3e9-0f64-4e18-a54e-761a7ffd1dd2",
   "metadata": {},
   "source": [
    "The parts we have added about $b_{eq}$ can similar be accessed here (note default value is zero where we have provided none):"
   ]
  },
  {
   "cell_type": "code",
   "execution_count": 25,
   "id": "ea852407-94cf-4851-878c-54bbc178e2a9",
   "metadata": {},
   "outputs": [
    {
     "data": {
      "text/plain": [
       "array([0., 1., 1., 0., 0., 0., 0., 0., 0., 0., 0., 0.])"
      ]
     },
     "execution_count": 25,
     "metadata": {},
     "output_type": "execute_result"
    }
   ],
   "source": [
    "beq = self.out['b_eq']\n",
    "beq"
   ]
  },
  {
   "cell_type": "markdown",
   "id": "0d3fe03d-6176-4889-8e24-eca665a30767",
   "metadata": {},
   "source": [
    "The `__call__ ` and `get` methods are specified for variables ($x$ vector), but not constraint domains. However, it is still relatively simple to extract parts of this vector if we want eg. the pandas representation for a specific constraint:"
   ]
  },
  {
   "cell_type": "code",
   "execution_count": 26,
   "id": "af82ba85-5b5e-4a82-a200-a8b30b669146",
   "metadata": {},
   "outputs": [
    {
     "data": {
      "text/plain": [
       "1    1.0\n",
       "2    1.0\n",
       "dtype: float64"
      ]
     },
     "execution_count": 26,
     "metadata": {},
     "output_type": "execute_result"
    }
   ],
   "source": [
    "attr, constr = 'eq','vec_t'\n",
    "pd.Series(beq[self.maps[attr][constr].values], index = self.maps[attr][constr])"
   ]
  },
  {
   "cell_type": "markdown",
   "id": "004efcd8-7a16-446a-b777-ead21bfc9705",
   "metadata": {},
   "source": [
    "**Bounds:**"
   ]
  },
  {
   "cell_type": "markdown",
   "id": "c04fca4b-d66b-4b28-93cd-115fb3c911e8",
   "metadata": {},
   "source": [
    "While we add lower and upper bounds separately, the `scipy.optimize.linprog` requires receiving this information as one array of `bounds`. We have only added lower and upper bounds for part of the stacked vector. Wherever we have not specified anything, the lower bound is set as $0$ and the upper at `np.nan` which is (currently) interpreted as unbounded by `scipy.optimize.linprog`:"
   ]
  },
  {
   "cell_type": "code",
   "execution_count": 27,
   "id": "db6590c6-7c1b-4a4a-b6d6-c1f4dd82c142",
   "metadata": {},
   "outputs": [
    {
     "data": {
      "text/plain": [
       "array([[  1.,  nan],\n",
       "       [  1.,  nan],\n",
       "       [  0.,  nan],\n",
       "       [  0.,  nan],\n",
       "       [  0.,  nan],\n",
       "       [  0.,  nan],\n",
       "       [  0.,  nan],\n",
       "       [  0.,  nan],\n",
       "       [  0., 100.],\n",
       "       [  0., 100.],\n",
       "       [  0., 100.],\n",
       "       [  0., 100.],\n",
       "       [  0., 100.],\n",
       "       [  0., 100.],\n",
       "       [  0., 100.],\n",
       "       [  0., 100.],\n",
       "       [  0., 100.],\n",
       "       [  0., 100.],\n",
       "       [  0., 100.],\n",
       "       [  0., 100.],\n",
       "       [  0., 100.],\n",
       "       [  0., 100.],\n",
       "       [  0., 100.],\n",
       "       [  0., 100.],\n",
       "       [  0., 100.],\n",
       "       [  0., 100.],\n",
       "       [  0., 100.],\n",
       "       [  0., 100.],\n",
       "       [  0.,  nan],\n",
       "       [  0.,  nan],\n",
       "       [  0.,  nan],\n",
       "       [  0.,  nan],\n",
       "       [  0.,  nan]])"
      ]
     },
     "execution_count": 27,
     "metadata": {},
     "output_type": "execute_result"
    }
   ],
   "source": [
    "self.out['bounds']"
   ]
  },
  {
   "cell_type": "markdown",
   "id": "236afb5b-f576-4a38-8dce-89123077c6c4",
   "metadata": {},
   "source": [
    "#### *v)* Validation checks"
   ]
  },
  {
   "cell_type": "markdown",
   "id": "1bd7ab2d-c5da-4528-b50b-6a00262e77e9",
   "metadata": {},
   "source": [
    "In the previous sections, we have offered methods for checking that the parameters we add to the model structure are consistent. For components added to 1d vectors, we can check this by calling the validate function. This call raises a `ValueError` if there is an inconsistency, otherwise it does nothing:"
   ]
  },
  {
   "cell_type": "code",
   "execution_count": 28,
   "id": "e674d65b-3366-4e7b-b74c-085718ef0065",
   "metadata": {},
   "outputs": [],
   "source": [
    "self.validateV('zPart2','u') # add name of the element and the attribute "
   ]
  },
  {
   "cell_type": "markdown",
   "id": "e5acfe1f-af9f-4070-a560-bc9dde6fd58a",
   "metadata": {},
   "source": [
    "Similarly, we have simple checks for all components of a specific type:"
   ]
  },
  {
   "cell_type": "code",
   "execution_count": 29,
   "id": "98ea9a79-61d0-4dc4-bd32-b8a7f3260b35",
   "metadata": {},
   "outputs": [],
   "source": [
    "self.validateAllVAttr('c') # check all 'c' components in self.lp['c']"
   ]
  },
  {
   "cell_type": "markdown",
   "id": "e6eab700-2161-4290-87a7-6200d04d1464",
   "metadata": {},
   "source": [
    "... and all 1d components across `('c','l','u','b_eq','b_ub')`:"
   ]
  },
  {
   "cell_type": "code",
   "execution_count": 30,
   "id": "92e8d41a-7e5d-4cd6-b9fd-526433f4a2de",
   "metadata": {},
   "outputs": [],
   "source": [
    "self.validateAllV()"
   ]
  },
  {
   "cell_type": "markdown",
   "id": "21611e98-1b14-488d-86e7-6f1e07a893f3",
   "metadata": {
    "jp-MarkdownHeadingCollapsed": true
   },
   "source": [
    "#### *vi)* Lazy methods"
   ]
  },
  {
   "cell_type": "markdown",
   "id": "b1b43ee1-6a19-4be2-b86f-31d3d6e29dd2",
   "metadata": {},
   "source": [
    "In the sections above, we added components to the `self.lp[attr]` instances directly. We have, however, also added a few \"lazy\" methods, that automatically broadcasts to suitable domains. These methods broadcasts the values we pass to the domanis specified in `self.v, self.eq, self.ub`."
   ]
  },
  {
   "cell_type": "markdown",
   "id": "1038c3be-e957-49ef-8ea5-b9c8509d2ebe",
   "metadata": {},
   "source": [
    "**Example: Pass scalar - broadcasts to full domain**"
   ]
  },
  {
   "cell_type": "code",
   "execution_count": 31,
   "id": "0aa3ffc8-a32c-44fc-8b24-de138a295cca",
   "metadata": {},
   "outputs": [
    {
     "data": {
      "text/plain": [
       "t  i \n",
       "0  10    0.5\n",
       "   11    0.5\n",
       "   12    0.5\n",
       "1  10    0.5\n",
       "   11    0.5\n",
       "   12    0.5\n",
       "dtype: float64"
      ]
     },
     "execution_count": 31,
     "metadata": {},
     "output_type": "execute_result"
    }
   ],
   "source": [
    "self.lazyV('newCoef', series = 0.5, symbol = 'y', attr = 'c') # broadcast 0.5 to the full domain in self.v['y'] and add to self.lp['c']\n",
    "self.lp['c']['newCoef'].v # results in this"
   ]
  },
  {
   "cell_type": "markdown",
   "id": "c19e9c7c-d472-4bc4-8e9a-bc15c28d4701",
   "metadata": {},
   "source": [
    "**Example: Specify parameter on part of the relevant domain - broadcast to full.**"
   ]
  },
  {
   "cell_type": "markdown",
   "id": "5bd6cd1c-fae9-48a7-8d85-ade8cf44f02f",
   "metadata": {},
   "source": [
    "The variable 'z' is defined over three indices `['t','i','j']`. Let's say that we specify a parameter that is constant across `['i','j']`, but may differ across $t$. We can then add this by specifying the variation in $t$:"
   ]
  },
  {
   "cell_type": "code",
   "execution_count": 32,
   "id": "5512ae1c-8777-4ec1-aaa9-0e55f5e9a2ac",
   "metadata": {},
   "outputs": [
    {
     "data": {
      "text/plain": [
       "t  i   j \n",
       "0  10  20     10.0\n",
       "       21     10.0\n",
       "       22     10.0\n",
       "       23     10.0\n",
       "   11  20     10.0\n",
       "       21     10.0\n",
       "       22     10.0\n",
       "       23     10.0\n",
       "   12  20     10.0\n",
       "       21     10.0\n",
       "       22     10.0\n",
       "       23     10.0\n",
       "1  10  20    100.0\n",
       "       21    100.0\n",
       "       22    100.0\n",
       "       23    100.0\n",
       "   11  20    100.0\n",
       "       21    100.0\n",
       "       22    100.0\n",
       "       23    100.0\n",
       "   12  20    100.0\n",
       "       21    100.0\n",
       "       22    100.0\n",
       "       23    100.0\n",
       "dtype: float64"
      ]
     },
     "execution_count": 32,
     "metadata": {},
     "output_type": "execute_result"
    }
   ],
   "source": [
    "zc_t = pd.Series(np.linspace(10, 100, len(t)), index = t) # some coefficients defined over t\n",
    "self.lazyV('upperOnZ', series = zc_t, symbol = 'z', attr = 'u') # add upper bounds on the variable, broadcast from the variation in 'z'\n",
    "self.lp['u']['upperOnZ'].v"
   ]
  },
  {
   "cell_type": "markdown",
   "id": "dffeef8b-7f3f-4738-9bf9-35e5e4f0ffb6",
   "metadata": {},
   "source": [
    "### C. Matrices"
   ]
  },
  {
   "cell_type": "markdown",
   "id": "6c706a86-c3d1-40c6-abfd-bb9b64ca8e4d",
   "metadata": {},
   "source": [
    "Coefficients in matrices `A_eq, A_ub` are added using the small `AMtrix` class and stored in `AMDict`; these are small classes used to make sure that we all relevant information to use these in the `LPSys` structure. We start with quick explanation of the classes and follow up with some examples."
   ]
  },
  {
   "cell_type": "markdown",
   "id": "58546511-b024-4999-8de3-4f98e64c3b9f",
   "metadata": {},
   "source": [
    "#### *i)* `AMDict`"
   ]
  },
  {
   "cell_type": "markdown",
   "id": "57436c4e-3fd3-465d-b900-5030a7cc95b8",
   "metadata": {},
   "source": [
    "```AMatrix``` instances are simple objects with 6 attributes: \n",
    "* name: (unique identifier used to navigate dictionary ```AMDict```),\n",
    "* values: np.array (or similar) with coefficients to be applied.\n",
    "* v: name of variable the cofficient applies to, \n",
    "* constr: name of constraint the coefficient applies to,\n",
    "* vIdx: ```pd.Index``` corresponding to variable domains. If None = scalar. \n",
    "* constrIdx: ```pd.Index``` corresponding to index comains. If None = scalar constraint.\n",
    "\n",
    "We can get a dataframe representation of the `AMatrix` with the index = constraint index and the variable index added as columns by calling the `AMatrix.to_frame` property."
   ]
  },
  {
   "cell_type": "markdown",
   "id": "27f5cc97-290b-4684-94b2-d6a772b91a66",
   "metadata": {},
   "source": [
    "The most flexible/unstructured way of specifying coefficients in a linear constraint, is to add these parts separately. Consider an equality constraint $q$ defined in `self.eq` defined over $j_q$, where $j_q$ can be `None` (scalar) or a pandas index over some domains. A general formulation of a linear constraint in our model system can be written as:\n",
    "$$\\begin{align}\n",
    "    b[j_q] = \\sum_{v}\\left(\\sum_{i_{v}} a[j_q,i_v] \\times v[i_v]\\right),\n",
    "\\end{align}$$\n",
    "where $v$ refers to the symbols that the stacked vector $x$ contains, $b$ is the vector of constants for the specific constraint $q$, $j_q$ is the constraint index, $i_{v}$ is the varible index for the specific symbol $v$. \n",
    "\n",
    "One instance of the  `AMatrix` class is a sparse representation of the coefficients $a[j_q,i_{v}]$ that states how variable $v$ enters constraint $q$; the `LPSys` class automatically fills in zeros whereever we have not specified coefficients. The attributes of the `AMatrix` relates to this mathematical formulation as follows:\n",
    "* `name`: Identifier (unrelated to math).\n",
    "* `v`: Name of symbol $v$ (as declared in `self.v` in the `LPSys` instance).\n",
    "* `constr`: Name of constraint $q$ (as declared in `self.eq` or `self.ub` in the `LPSys` instance).\n",
    "* `values`: Vector of values in $a[j_q, i_v]$.\n",
    "* `vIdx`: Index $i_v$ of the same length as `values` (i.e. elements in this index are not unique). Elements must be part of the declared domains in `self.v[v]` for variable $v$.\n",
    "    * *Note: If the variable is a scalar, `vIdx = None` instead of a vector and does not have the same length as `self.values`.*\n",
    "* `constrIdx`: Index $j_q$ of the same length as `values` (i.e. elements in this index are not unique). Elements must be part of declared domains in `self.eq[q]` or `self.ub[q]` for constraint $q$.\n",
    "    * *Note: If the constraint is a scalar, `constrIdx = None` instead of a vector and does not have the same length as `self.values`.*"
   ]
  },
  {
   "cell_type": "markdown",
   "id": "f26d7ef3-dfe5-452d-a041-cac15c4b35bd",
   "metadata": {},
   "source": [
    "Consider the constraint 'vec_tj' defined over [t,j] and the variable `p` defined only over $t$. We can add a somewhat funky constraint that sums over all $t$ in $p[t]$ in *every* constraint index $t$, that is something like this \n",
    "$$\\begin{align}\n",
    "    \\sum_{t'} a[t, j, t'] p[t'],\n",
    "\\end{align}$$\n",
    "where $t'$ is an *alias* of the $t$ index (i.e. it contains same element, but with distinct name). Let us say $a = 1$ for all the combinations. We add this by specifying:"
   ]
  },
  {
   "cell_type": "code",
   "execution_count": 33,
   "id": "855052eb-4dff-4edc-9789-d277cf69e42c",
   "metadata": {},
   "outputs": [
    {
     "data": {
      "text/html": [
       "<div>\n",
       "<style scoped>\n",
       "    .dataframe tbody tr th:only-of-type {\n",
       "        vertical-align: middle;\n",
       "    }\n",
       "\n",
       "    .dataframe tbody tr th {\n",
       "        vertical-align: top;\n",
       "    }\n",
       "\n",
       "    .dataframe thead th {\n",
       "        text-align: right;\n",
       "    }\n",
       "</style>\n",
       "<table border=\"1\" class=\"dataframe\">\n",
       "  <thead>\n",
       "    <tr style=\"text-align: right;\">\n",
       "      <th></th>\n",
       "      <th></th>\n",
       "      <th>t</th>\n",
       "      <th>__values__</th>\n",
       "    </tr>\n",
       "    <tr>\n",
       "      <th>t</th>\n",
       "      <th>j</th>\n",
       "      <th></th>\n",
       "      <th></th>\n",
       "    </tr>\n",
       "  </thead>\n",
       "  <tbody>\n",
       "    <tr>\n",
       "      <th rowspan=\"5\" valign=\"top\">0</th>\n",
       "      <th>20</th>\n",
       "      <td>0</td>\n",
       "      <td>1.0</td>\n",
       "    </tr>\n",
       "    <tr>\n",
       "      <th>20</th>\n",
       "      <td>1</td>\n",
       "      <td>1.0</td>\n",
       "    </tr>\n",
       "    <tr>\n",
       "      <th>21</th>\n",
       "      <td>0</td>\n",
       "      <td>1.0</td>\n",
       "    </tr>\n",
       "    <tr>\n",
       "      <th>21</th>\n",
       "      <td>1</td>\n",
       "      <td>1.0</td>\n",
       "    </tr>\n",
       "    <tr>\n",
       "      <th>22</th>\n",
       "      <td>0</td>\n",
       "      <td>1.0</td>\n",
       "    </tr>\n",
       "  </tbody>\n",
       "</table>\n",
       "</div>"
      ],
      "text/plain": [
       "      t  __values__\n",
       "t j                \n",
       "0 20  0         1.0\n",
       "  20  1         1.0\n",
       "  21  0         1.0\n",
       "  21  1         1.0\n",
       "  22  0         1.0"
      ]
     },
     "execution_count": 33,
     "metadata": {},
     "output_type": "execute_result"
    }
   ],
   "source": [
    "name = 'funkyConstraint'\n",
    "v, constr = 'p', 'vec_tj'\n",
    "fullIndex = pyDbs.cartesianProductIndex([self.eq[constr], _adjF(self.v[v], alias = {'t':'tt'})]) # all combinations \n",
    "values = np.ones(len(fullIndex)) # add ones for all combinations\n",
    "constrIdx = pd.MultiIndex.from_frame(fullIndex.to_frame(index=False)[self.eq[constr].names])\n",
    "vIdx = fullIndex.get_level_values('tt').rename('t')\n",
    "Aex = AMatrix('funkyConstr', values = values, v = v, constr = constr, vIdx = vIdx, constrIdx = constrIdx)\n",
    "Aex.to_frame.head() # inspect some of the dataframe"
   ]
  },
  {
   "cell_type": "markdown",
   "id": "28054e3c-6cd3-4506-8cc3-72e8313c73cb",
   "metadata": {},
   "source": [
    "We can validate the structure of an `AMatrix` instance in two ways:\n",
    "1. Internal consistency: The value of `values`, `vIdx`, and `constrIdx` has to be identical *except* if an index is `None` (scalar variable/constraints). This is checked by calling the property `self.validate`: This raises a `ValueError` if there is an issue and nothing if everything is in order.\n",
    "2. External/system consistency: We can check for consistency between variable and constraint domains and the declared domains in the `LPSys`. This can be done by calling `self.validateA(name, attr)` from the `LPSys` instance with `name` being the name of the `AMatrix` instance and `attr` whether it is specified as an equality (`attr = eq`) or inequality constraint (`attr = ineq`). We return to this issue later."
   ]
  },
  {
   "cell_type": "code",
   "execution_count": 34,
   "id": "31fbbbab-e8de-4a85-952c-34db3d794229",
   "metadata": {},
   "outputs": [],
   "source": [
    "Aex.validate # internal consistency - does nothing if everything is ok."
   ]
  },
  {
   "cell_type": "markdown",
   "id": "d30da726-9009-4f58-8d0e-59539b11f1bf",
   "metadata": {},
   "source": [
    "#### *ii) Add from pd.Series* - `self.initA_infer`"
   ]
  },
  {
   "cell_type": "markdown",
   "id": "af94bf74-b78e-4830-bfd4-271c95a26ae2",
   "metadata": {},
   "source": [
    "In most instances, conditions that are defined over some index, e.g. $t$, relate to variables that are defined over the same index $t$ in a more systematic way. When this is the case, a shortcut for adding $A$-coefficients can be to specify them as `pd.Series` over one index that contains information on both `vIdx` and `constrIdx`. Consider, for instance, the constraint `vec_t` that we defined as one that is repeated for all $t$ and the variable $y[t,i]$. We can specify a `pd.Series` defined over $(t,i)$ and let the `LPSys` infer what part of the index reflects `vIdx` and `constrIdx` as follows:"
   ]
  },
  {
   "cell_type": "code",
   "execution_count": 35,
   "id": "e79c64ef-8731-46cb-a0d0-12db14d2f82b",
   "metadata": {},
   "outputs": [],
   "source": [
    "constr, v = 'vec_t','y' # name of symbols\n",
    "name = f'{constr}{v}' # unique identifier in AMDict\n",
    "series = pd.Series(10, index = self.v[v]) # create pandas series defined over [t,i] \n",
    "self.initA_infer(name, series = series, v = v, constr = constr, attr = 'eq')"
   ]
  },
  {
   "cell_type": "markdown",
   "id": "61bca682-6038-4104-88e1-8a52c40c35ef",
   "metadata": {},
   "source": [
    "The `self.initA_infer` method looks the domains for the constraint and variables and matches them with the pandas index:"
   ]
  },
  {
   "cell_type": "code",
   "execution_count": 36,
   "id": "fe01fa47-9cdb-4c3f-8548-4f0821777e91",
   "metadata": {},
   "outputs": [
    {
     "data": {
      "text/html": [
       "<div>\n",
       "<style scoped>\n",
       "    .dataframe tbody tr th:only-of-type {\n",
       "        vertical-align: middle;\n",
       "    }\n",
       "\n",
       "    .dataframe tbody tr th {\n",
       "        vertical-align: top;\n",
       "    }\n",
       "\n",
       "    .dataframe thead th {\n",
       "        text-align: right;\n",
       "    }\n",
       "</style>\n",
       "<table border=\"1\" class=\"dataframe\">\n",
       "  <thead>\n",
       "    <tr style=\"text-align: right;\">\n",
       "      <th></th>\n",
       "      <th>t</th>\n",
       "      <th>i</th>\n",
       "      <th>__values__</th>\n",
       "    </tr>\n",
       "    <tr>\n",
       "      <th>t</th>\n",
       "      <th></th>\n",
       "      <th></th>\n",
       "      <th></th>\n",
       "    </tr>\n",
       "  </thead>\n",
       "  <tbody>\n",
       "    <tr>\n",
       "      <th>0</th>\n",
       "      <td>0</td>\n",
       "      <td>10</td>\n",
       "      <td>10</td>\n",
       "    </tr>\n",
       "    <tr>\n",
       "      <th>0</th>\n",
       "      <td>0</td>\n",
       "      <td>11</td>\n",
       "      <td>10</td>\n",
       "    </tr>\n",
       "    <tr>\n",
       "      <th>0</th>\n",
       "      <td>0</td>\n",
       "      <td>12</td>\n",
       "      <td>10</td>\n",
       "    </tr>\n",
       "    <tr>\n",
       "      <th>1</th>\n",
       "      <td>1</td>\n",
       "      <td>10</td>\n",
       "      <td>10</td>\n",
       "    </tr>\n",
       "    <tr>\n",
       "      <th>1</th>\n",
       "      <td>1</td>\n",
       "      <td>11</td>\n",
       "      <td>10</td>\n",
       "    </tr>\n",
       "  </tbody>\n",
       "</table>\n",
       "</div>"
      ],
      "text/plain": [
       "   t   i  __values__\n",
       "t                   \n",
       "0  0  10          10\n",
       "0  0  11          10\n",
       "0  0  12          10\n",
       "1  1  10          10\n",
       "1  1  11          10"
      ]
     },
     "execution_count": 36,
     "metadata": {},
     "output_type": "execute_result"
    }
   ],
   "source": [
    "self.lp['A_eq'][name].to_frame.head()"
   ]
  },
  {
   "cell_type": "markdown",
   "id": "b5b9b0cb-0639-48a4-a5b4-3648e7ff623c",
   "metadata": {},
   "source": [
    "**Example: Scalar constraint, random coefficients over variable $z$:**"
   ]
  },
  {
   "cell_type": "code",
   "execution_count": 37,
   "id": "9efe1957-5f5f-4cfc-a9b0-d38bf93cd11c",
   "metadata": {},
   "outputs": [],
   "source": [
    "constr, v = 'sclr', 'z'\n",
    "name = f'{constr}{v}' # unique identifier, doesn't have to be added with syntax \n",
    "series = pd.Series(1, index = self.v[v])\n",
    "self.initA_infer(name, series = series, v = v, constr = constr, attr = 'eq')"
   ]
  },
  {
   "cell_type": "markdown",
   "id": "445c75bd-557a-4596-84e1-15c6c1c78e67",
   "metadata": {},
   "source": [
    "In this case, the index represents variable domains, the constraint index is simply None:"
   ]
  },
  {
   "cell_type": "code",
   "execution_count": 38,
   "id": "26cffed0-23ea-4516-8f4f-1761fda35e47",
   "metadata": {},
   "outputs": [
    {
     "data": {
      "text/plain": [
       "True"
      ]
     },
     "execution_count": 38,
     "metadata": {},
     "output_type": "execute_result"
    }
   ],
   "source": [
    "self.lp['A_eq'][name].constrIdx is None"
   ]
  },
  {
   "cell_type": "markdown",
   "id": "e403c23f-d566-4204-aacc-fab46a6b272d",
   "metadata": {},
   "source": [
    "#### *iii) Add lagged/leaded coefficients from pd.Series* - `self.initA_lag, self.initA_lead`"
   ]
  },
  {
   "cell_type": "markdown",
   "id": "c9a5565d-9b08-41df-9228-b8a1e7bd0583",
   "metadata": {},
   "source": [
    "In the example above where both constraint and variable are defined over $t$, we may want to specify a lagged constraint. Let $b$ denote the constant in the equation in (1C) and $a_{t,i}$ the coefficients in the $A_{eq}$ matrix with $t$ denoting rows and $i$ the rows. Say we want to add a lagged constraint in the following sense:  \n",
    "$$\\begin{align}\n",
    "    b[t] = \\sum_i a_{t-1,i} y_{t-1,i}.\n",
    "\\end{align}$$\n",
    "The `self.initA_lag` method does this for us based on a `pd.Series`: We specify the $a_{t,i}$ coefficients in the object `series` below and state that the variable index $t$ should be lagged by 1 element:"
   ]
  },
  {
   "cell_type": "code",
   "execution_count": 39,
   "id": "a7954fc5-8d9f-4e7f-b1da-05833478afc8",
   "metadata": {},
   "outputs": [],
   "source": [
    "constr, v = 'vec_tx0', 'y' \n",
    "name = f'{constr}{v}'\n",
    "series = pd.Series(np.random.uniform(0,1,len(self.v[v])), index = self.v[v])\n",
    "lag, level = 1, 't' # specification of lag-structure\n",
    "self.initA_lag(name, series, v= v, constr = constr, attr = 'eq', lag = lag, level = level)"
   ]
  },
  {
   "cell_type": "markdown",
   "id": "c998185e-1fd9-47fd-8243-a99c22259379",
   "metadata": {},
   "source": [
    "Importantly, note that we specified the $a_{t,i}$ coefficients for all $t$; in our case that is simply $t = 0,1$. However, if we try and evaluate the constraint for $t=0$, we evaluate the variable in $y_{-1,i}$, which is outside our specified domain for the index $t$. The default option here is therefore to remove $t=0$ in the constraint index."
   ]
  },
  {
   "cell_type": "code",
   "execution_count": 40,
   "id": "64400f5a-d42d-43bc-82bd-ed6828af7b06",
   "metadata": {},
   "outputs": [
    {
     "data": {
      "text/html": [
       "<div>\n",
       "<style scoped>\n",
       "    .dataframe tbody tr th:only-of-type {\n",
       "        vertical-align: middle;\n",
       "    }\n",
       "\n",
       "    .dataframe tbody tr th {\n",
       "        vertical-align: top;\n",
       "    }\n",
       "\n",
       "    .dataframe thead th {\n",
       "        text-align: right;\n",
       "    }\n",
       "</style>\n",
       "<table border=\"1\" class=\"dataframe\">\n",
       "  <thead>\n",
       "    <tr style=\"text-align: right;\">\n",
       "      <th></th>\n",
       "      <th>t</th>\n",
       "      <th>i</th>\n",
       "      <th>__values__</th>\n",
       "    </tr>\n",
       "    <tr>\n",
       "      <th>t</th>\n",
       "      <th></th>\n",
       "      <th></th>\n",
       "      <th></th>\n",
       "    </tr>\n",
       "  </thead>\n",
       "  <tbody>\n",
       "    <tr>\n",
       "      <th>1</th>\n",
       "      <td>0</td>\n",
       "      <td>10</td>\n",
       "      <td>0.606527</td>\n",
       "    </tr>\n",
       "    <tr>\n",
       "      <th>1</th>\n",
       "      <td>0</td>\n",
       "      <td>11</td>\n",
       "      <td>0.163885</td>\n",
       "    </tr>\n",
       "    <tr>\n",
       "      <th>1</th>\n",
       "      <td>0</td>\n",
       "      <td>12</td>\n",
       "      <td>0.352435</td>\n",
       "    </tr>\n",
       "  </tbody>\n",
       "</table>\n",
       "</div>"
      ],
      "text/plain": [
       "   t   i  __values__\n",
       "t                   \n",
       "1  0  10    0.606527\n",
       "1  0  11    0.163885\n",
       "1  0  12    0.352435"
      ]
     },
     "execution_count": 40,
     "metadata": {},
     "output_type": "execute_result"
    }
   ],
   "source": [
    "self.lp['A_eq'][name].to_frame"
   ]
  },
  {
   "cell_type": "markdown",
   "id": "2f93099d-2eed-42cd-a525-6ea2d9facd96",
   "metadata": {},
   "source": [
    "An alternative formulation is to define the `series` parameter on the correct domain to start with (i.e. only for $t=0$ in our case):"
   ]
  },
  {
   "cell_type": "code",
   "execution_count": 41,
   "id": "c24e44fa-a7da-494e-b98d-b5530ca6d4a7",
   "metadata": {},
   "outputs": [],
   "source": [
    "series_v2 = _adjF(series, t[:-1]) # series only defined for t=0"
   ]
  },
  {
   "cell_type": "markdown",
   "id": "3018807d-3bea-49cf-b8cb-8a6ebe2c0d5b",
   "metadata": {},
   "source": [
    "The `Lag.series` method maps the $t=0$ to $t=1$ and concludes that this is beyond the original domain, but if we add `fkeep = True` the forwarded indices are kept. Thus we call:"
   ]
  },
  {
   "cell_type": "code",
   "execution_count": 42,
   "id": "0542a465-00e8-4f79-a951-f5061c6a763d",
   "metadata": {},
   "outputs": [
    {
     "data": {
      "text/html": [
       "<div>\n",
       "<style scoped>\n",
       "    .dataframe tbody tr th:only-of-type {\n",
       "        vertical-align: middle;\n",
       "    }\n",
       "\n",
       "    .dataframe tbody tr th {\n",
       "        vertical-align: top;\n",
       "    }\n",
       "\n",
       "    .dataframe thead th {\n",
       "        text-align: right;\n",
       "    }\n",
       "</style>\n",
       "<table border=\"1\" class=\"dataframe\">\n",
       "  <thead>\n",
       "    <tr style=\"text-align: right;\">\n",
       "      <th></th>\n",
       "      <th>t</th>\n",
       "      <th>i</th>\n",
       "      <th>__values__</th>\n",
       "    </tr>\n",
       "    <tr>\n",
       "      <th>t</th>\n",
       "      <th></th>\n",
       "      <th></th>\n",
       "      <th></th>\n",
       "    </tr>\n",
       "  </thead>\n",
       "  <tbody>\n",
       "    <tr>\n",
       "      <th>1</th>\n",
       "      <td>0</td>\n",
       "      <td>10</td>\n",
       "      <td>0.606527</td>\n",
       "    </tr>\n",
       "    <tr>\n",
       "      <th>1</th>\n",
       "      <td>0</td>\n",
       "      <td>11</td>\n",
       "      <td>0.163885</td>\n",
       "    </tr>\n",
       "    <tr>\n",
       "      <th>1</th>\n",
       "      <td>0</td>\n",
       "      <td>12</td>\n",
       "      <td>0.352435</td>\n",
       "    </tr>\n",
       "  </tbody>\n",
       "</table>\n",
       "</div>"
      ],
      "text/plain": [
       "   t   i  __values__\n",
       "t                   \n",
       "1  0  10    0.606527\n",
       "1  0  11    0.163885\n",
       "1  0  12    0.352435"
      ]
     },
     "execution_count": 42,
     "metadata": {},
     "output_type": "execute_result"
    }
   ],
   "source": [
    "self.initA_lag(name, series_v2, v = v, constr = constr, attr = 'eq', lag = lag, level = level, fkeep = True)\n",
    "self.lp['A_eq'][name].to_frame"
   ]
  },
  {
   "cell_type": "markdown",
   "id": "bdfd49a8-fd2f-4f98-840c-eacf2b498c7b",
   "metadata": {},
   "source": [
    "#### *iv) Add rolled index from pd.Series* - `self.initA_roll`"
   ]
  },
  {
   "cell_type": "markdown",
   "id": "990588b9-0534-4a86-aba3-4d7e95a8c246",
   "metadata": {},
   "source": [
    "Another way to adjust the relation between constraint index and variable index, is to roll the index; this is similar to leading the index (inverse of lagging), but assumes that the index is circular. Thus, with index values (1,2,3) rolling this 1 step yields (3,1,2) instead. Note that this operates using the sorting of the index levels; this means that it works on non-numerical indices as well, but that the sorting becomes essential. The following essentially models the following equations:\n",
    "$$\\begin{align}\n",
    "    \\text{For t>0}: && b[t] &= \\sum_i a_{t-1,i} y_{t-1,i}, \\\\\n",
    "                    && b[0] &= \\sum_i a_{T,i} y_{T,i},\n",
    "\\end{align}$$\n",
    "where the second equation ties the last ($T$) and the initial ($0$) elements together:"
   ]
  },
  {
   "cell_type": "code",
   "execution_count": 43,
   "id": "606685db-577e-49bf-98ee-2fe0957813fe",
   "metadata": {},
   "outputs": [],
   "source": [
    "constr, v = 'vec_t', 'y'\n",
    "name = f'{constr}{v}'\n",
    "self.initA_roll(name, series, v = v, constr = constr, attr = 'eq', roll = -1, level= 't') "
   ]
  },
  {
   "cell_type": "markdown",
   "id": "6a7701cf-1554-4b14-b149-dc50785b11e6",
   "metadata": {},
   "source": [
    "#### *v) Lazy methods*"
   ]
  },
  {
   "cell_type": "markdown",
   "id": "2a301349-a906-4e7e-94ca-8e50dea158c6",
   "metadata": {},
   "source": [
    "In the examples outlined above, we specify the matrices using pandas series that combine variable and constraint indices in the same multiindex object. We have added a \"lazy\" approach that braodcasts the `pd.Series` we input to the domains of the variable and constraints. Consider again the generic constraint on the form:\n",
    "$$\\begin{align}\n",
    "    b[j_q] = \\sum_{v}\\left(\\sum_{i_{v}} a[j_q,i_v] \\times v[i_v]\\right),\n",
    "\\end{align}$$\n",
    "where $q$ is constraint, $v$ is the variable, $j_q$ is the constraint domain, and $i_v$ is the variable domain. The \"lazy\" approach specifies a parameter $\\alpha[l_q,k_v]$ defined over subsets of the full domains $j_q, i_v$ and broadcasts them to the full domains when initializating an `AMatrix`. \n",
    "\n",
    "More specifically, the `self.lazyA(name, series = None, v = None, constr = None, attr = None, constrIdx = None, vIdx = None)` method works as follows:\n",
    "1. Specify the constraint type (`attr` $\\in$ {`eq`, `ub`}), the name of the component added to `self.lp[f'A_{eq}']` (`name`), and names of the constraint (`constr`) and variable (`v`).\n",
    "2. Specify coefficients in `series` (as pd.Series or scalar).\n",
    "3. If `vIdx` is `None`, the `series` object is broadcasted to the full domain specified in `self.v[v]`. Alternatively, we can specify `vIdx` as a pandas index that is a subset of the full domains in `self.v[v]`; in this case, this will be the domain that `series` is broadcasted to.\n",
    "4. If `constrIdx` is `None`, the `series` object is broadcasted to the full domain specified in `getattr(self, attr)[constr]`. Alternatively, we can specify `constrIdx` as a pandas index that is a subset of the full domains in `getattr(self, attr)[constr]`; in this case, this will be the domain that `series` is broadcasted to.\n",
    "\n",
    "Once the `series` has been broadcasted to the full domains of the relevant variable and constraint, the `series` is added to the `self.lp` structure in the same way as `self.initA_infer`."
   ]
  },
  {
   "cell_type": "markdown",
   "id": "41b4de16-b960-4002-b924-fab0b0ec4945",
   "metadata": {},
   "source": [
    "Note: The main method is implemented as ```self.lazyA```. Versions that lag/roll the variable indices are defined as ```self.lazyA_lag```, ```self.lazyA_roll``` (similar extension as explained earlier)."
   ]
  },
  {
   "cell_type": "markdown",
   "id": "1908f34b-91ac-42a4-a772-34056697e296",
   "metadata": {},
   "source": [
    "**Example: Broadcast scalar to full indices**"
   ]
  },
  {
   "cell_type": "code",
   "execution_count": 44,
   "id": "577d3330-5038-4800-9012-8b0961d8096f",
   "metadata": {},
   "outputs": [
    {
     "data": {
      "text/html": [
       "<div>\n",
       "<style scoped>\n",
       "    .dataframe tbody tr th:only-of-type {\n",
       "        vertical-align: middle;\n",
       "    }\n",
       "\n",
       "    .dataframe tbody tr th {\n",
       "        vertical-align: top;\n",
       "    }\n",
       "\n",
       "    .dataframe thead th {\n",
       "        text-align: right;\n",
       "    }\n",
       "</style>\n",
       "<table border=\"1\" class=\"dataframe\">\n",
       "  <thead>\n",
       "    <tr style=\"text-align: right;\">\n",
       "      <th></th>\n",
       "      <th></th>\n",
       "      <th>t</th>\n",
       "      <th>i</th>\n",
       "      <th>j</th>\n",
       "      <th>__values__</th>\n",
       "    </tr>\n",
       "    <tr>\n",
       "      <th>t</th>\n",
       "      <th>j</th>\n",
       "      <th></th>\n",
       "      <th></th>\n",
       "      <th></th>\n",
       "      <th></th>\n",
       "    </tr>\n",
       "  </thead>\n",
       "  <tbody>\n",
       "    <tr>\n",
       "      <th rowspan=\"5\" valign=\"top\">0</th>\n",
       "      <th>20</th>\n",
       "      <td>0</td>\n",
       "      <td>10</td>\n",
       "      <td>20</td>\n",
       "      <td>2.718282</td>\n",
       "    </tr>\n",
       "    <tr>\n",
       "      <th>21</th>\n",
       "      <td>0</td>\n",
       "      <td>10</td>\n",
       "      <td>21</td>\n",
       "      <td>2.718282</td>\n",
       "    </tr>\n",
       "    <tr>\n",
       "      <th>22</th>\n",
       "      <td>0</td>\n",
       "      <td>10</td>\n",
       "      <td>22</td>\n",
       "      <td>2.718282</td>\n",
       "    </tr>\n",
       "    <tr>\n",
       "      <th>23</th>\n",
       "      <td>0</td>\n",
       "      <td>10</td>\n",
       "      <td>23</td>\n",
       "      <td>2.718282</td>\n",
       "    </tr>\n",
       "    <tr>\n",
       "      <th>20</th>\n",
       "      <td>0</td>\n",
       "      <td>11</td>\n",
       "      <td>20</td>\n",
       "      <td>2.718282</td>\n",
       "    </tr>\n",
       "  </tbody>\n",
       "</table>\n",
       "</div>"
      ],
      "text/plain": [
       "      t   i   j  __values__\n",
       "t j                        \n",
       "0 20  0  10  20    2.718282\n",
       "  21  0  10  21    2.718282\n",
       "  22  0  10  22    2.718282\n",
       "  23  0  10  23    2.718282\n",
       "  20  0  11  20    2.718282"
      ]
     },
     "execution_count": 44,
     "metadata": {},
     "output_type": "execute_result"
    }
   ],
   "source": [
    "constr, v = 'vec_tj', 'z'\n",
    "name = f'{constr}{v}'\n",
    "attr = 'eq'\n",
    "self.lazyA(name, series = np.e, v = v, constr = constr, attr = attr)\n",
    "self.lp[f'A_{attr}'][name].to_frame.head()"
   ]
  },
  {
   "cell_type": "markdown",
   "id": "a4f82ebe-361b-4cc2-b8ba-1ca33f7d2376",
   "metadata": {},
   "source": [
    "#### *vi) Validation*"
   ]
  },
  {
   "cell_type": "markdown",
   "id": "9fb3db69-4afd-475d-bbf2-97c86225f833",
   "metadata": {},
   "source": [
    "As for the 1d vectors, we also have automatic functions checking for the validity of the different matrix components. The `validateA(name, attr)` checks component `name` in `self.lp[f'A_{attr}']` and returns a `ValueError` is there is a problem, otherwise nothing:"
   ]
  },
  {
   "cell_type": "code",
   "execution_count": 45,
   "id": "07e3fdd7-cbdd-4933-b48c-edca4b717807",
   "metadata": {},
   "outputs": [],
   "source": [
    "self.validateA('vec_tjz', 'eq') "
   ]
  },
  {
   "cell_type": "markdown",
   "id": "7658cb07-7a62-4798-b5dc-6e5d5869517d",
   "metadata": {},
   "source": [
    "Similarly, we can check all components in a type:"
   ]
  },
  {
   "cell_type": "code",
   "execution_count": 46,
   "id": "a303ea4d-8664-4987-a5f1-18d2dc62a1b6",
   "metadata": {},
   "outputs": [],
   "source": [
    "self.validateAllAAttr('eq')"
   ]
  },
  {
   "cell_type": "markdown",
   "id": "16c6db9a-c856-4382-8e3d-286bc00697fd",
   "metadata": {},
   "source": [
    "We can check all matrices:"
   ]
  },
  {
   "cell_type": "code",
   "execution_count": 47,
   "id": "810b956e-6e95-4cd3-97eb-a874ff8960a9",
   "metadata": {},
   "outputs": [],
   "source": [
    "self.validateAllA()"
   ]
  },
  {
   "cell_type": "markdown",
   "id": "4d2f1d94-7907-4eb8-bd0d-d98ff80bf6e9",
   "metadata": {},
   "source": [
    "... and we can validate the entire `self.lp` structure (including 1d objects):"
   ]
  },
  {
   "cell_type": "code",
   "execution_count": 48,
   "id": "dcf65566-949a-493e-9273-1f4907aafcea",
   "metadata": {},
   "outputs": [],
   "source": [
    "self.validateAll()"
   ]
  },
  {
   "cell_type": "markdown",
   "id": "745ccf88-f5e0-497c-9bf7-083c5cb561e5",
   "metadata": {
    "jp-MarkdownHeadingCollapsed": true
   },
   "source": [
    "## 3. Extract solution"
   ]
  },
  {
   "cell_type": "markdown",
   "id": "df71294a-e478-4186-b235-f14b5c2176eb",
   "metadata": {},
   "source": [
    "```__call__``` method extracts part of np.array that represents the symbol we query:"
   ]
  },
  {
   "cell_type": "code",
   "execution_count": 49,
   "id": "a5d416ce-c021-4e10-b0a2-310a8feeb248",
   "metadata": {},
   "outputs": [
    {
     "data": {
      "text/plain": [
       "array([0.21313453, 0.87753367])"
      ]
     },
     "execution_count": 49,
     "metadata": {},
     "output_type": "execute_result"
    }
   ],
   "source": [
    "x = np.random.uniform(0,1,self.len['v'])\n",
    "self(x, 'p') # extract part of stacked vector that relates to symbol 'p'"
   ]
  },
  {
   "cell_type": "markdown",
   "id": "841a783e-783d-46d5-bf48-a08d1b1a89e6",
   "metadata": {},
   "source": [
    "```get``` method returns ```pd.Series``` (or scalar):"
   ]
  },
  {
   "cell_type": "code",
   "execution_count": 50,
   "id": "a9bb9a18-413a-4804-a7f7-56997b6080ed",
   "metadata": {},
   "outputs": [
    {
     "data": {
      "text/plain": [
       "t\n",
       "0    0.213135\n",
       "1    0.877534\n",
       "Name: p, dtype: float64"
      ]
     },
     "execution_count": 50,
     "metadata": {},
     "output_type": "execute_result"
    }
   ],
   "source": [
    "self.get(x,'p') # returns pandas series with values from the numpy array"
   ]
  },
  {
   "cell_type": "markdown",
   "id": "b15ec3c0-b276-46d1-af52-55271c5e0ee7",
   "metadata": {},
   "source": [
    "To test the 'extract solution part', set up a small model that is feasible and solve:"
   ]
  },
  {
   "cell_type": "code",
   "execution_count": 51,
   "id": "02c81bcf-bcb2-476c-9b94-702fd9d1d0c0",
   "metadata": {},
   "outputs": [
    {
     "data": {
      "text/plain": [
       "{'vec_ty': <symMaps.lpSys.AMatrix at 0x1c6130f8cb0>,\n",
       " 'sclrz': <symMaps.lpSys.AMatrix at 0x1c613026850>,\n",
       " 'vec_tx0y': <symMaps.lpSys.AMatrix at 0x1c612fa7bb0>,\n",
       " 'vec_tjz': <symMaps.lpSys.AMatrix at 0x1c612fe7350>}"
      ]
     },
     "execution_count": 51,
     "metadata": {},
     "output_type": "execute_result"
    }
   ],
   "source": [
    "self.lp['A_eq'].symbols"
   ]
  },
  {
   "cell_type": "code",
   "execution_count": 52,
   "id": "9cbe8bfa-c1f6-4ff4-94ff-27769f6dd7da",
   "metadata": {},
   "outputs": [],
   "source": [
    "delitems = [k for k in (self.lp['A_eq'].symbols) if k != 'vec_ty']\n",
    "[self.lp['A_eq'].__delitem__(k) for k in delitems];\n",
    "self.compileMaps()\n",
    "self.compileParams();\n",
    "self.out['bounds'] = np.vstack([np.zeros(self.len['v']), np.full(self.len['v'], 10)]).T # this update of the bounds is deleted if we run a standard \"compileParams\" statement. \n",
    "sol = scipy.optimize.linprog(**self.out)"
   ]
  },
  {
   "cell_type": "markdown",
   "id": "31ff2d48-0b86-4f5e-8a6d-9b967fa77936",
   "metadata": {},
   "source": [
    "The solution is unloaded as dictionaries of pandas series elements in the following blocks:\n",
    "* ```self.unloadSolX``` returns dictionary with solution for variables.\n",
    "* ```self.unloadSolDualEq, self.unloadSolDualUb ``` returns dictionary with shadow values (duals) for the equality and inequality contraints, respectively.\n",
    "* ```self.unloadSolDualLower, self.unloadSolDualUpper``` returns dictionary with shadow values (duals) for the lower/upper bounds on variables.\n",
    "\n",
    "The ```self.unloadSol``` method combines all of the above in one:"
   ]
  },
  {
   "cell_type": "code",
   "execution_count": 53,
   "id": "9cf64b18-58e0-4acd-a4bb-6299fa4b56d3",
   "metadata": {},
   "outputs": [
    {
     "data": {
      "text/plain": [
       "dict_keys(['p', 'y', 'z', 'k', 'λeq_sclr', 'λeq_vec_t', 'λeq_vec_tx0', 'λeq_vec_tj', 'λl_p', 'λl_y', 'λl_z', 'λl_k', 'λu_p', 'λu_y', 'λu_z', 'λu_k'])"
      ]
     },
     "execution_count": 53,
     "metadata": {},
     "output_type": "execute_result"
    }
   ],
   "source": [
    "solDict = self.unloadSol(sol)\n",
    "solDict.keys() # a look at the symbols added from this stage"
   ]
  }
 ],
 "metadata": {
  "kernelspec": {
   "display_name": "Python 3 (ipykernel)",
   "language": "python",
   "name": "python3"
  },
  "language_info": {
   "codemirror_mode": {
    "name": "ipython",
    "version": 3
   },
   "file_extension": ".py",
   "mimetype": "text/x-python",
   "name": "python",
   "nbconvert_exporter": "python",
   "pygments_lexer": "ipython3",
   "version": "3.13.5"
  }
 },
 "nbformat": 4,
 "nbformat_minor": 5
}
