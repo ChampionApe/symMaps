{
 "cells": [
  {
   "cell_type": "code",
   "execution_count": 1,
   "id": "6343fc70-8450-4503-99f1-d181f52aa2c4",
   "metadata": {},
   "outputs": [],
   "source": [
    "import pandas as pd, numpy as np, pyDbs\n",
    "from pyDbs import SymMaps as SM, adj, adjMultiIndex\n",
    "from scipy import stats\n",
    "rng = np.random.default_rng(seed = 105)\n",
    "stats.truncnorm.random_state = rng"
   ]
  },
  {
   "cell_type": "markdown",
   "id": "9bb0ea05-4beb-4701-8b14-15000c42d141",
   "metadata": {},
   "source": [
    "# SymMaps"
   ]
  },
  {
   "cell_type": "markdown",
   "id": "202427da-7446-43cf-b4df-63749c526e97",
   "metadata": {},
   "source": [
    "The class is used to navigate problems that take a vector of inputs $x$ and deals with many different variables potentially defined over different indices. "
   ]
  },
  {
   "cell_type": "markdown",
   "id": "7c3a08c0-8f64-4c41-96d0-c2b44a925a1b",
   "metadata": {},
   "source": [
    "## Example"
   ]
  },
  {
   "cell_type": "markdown",
   "id": "77b0a1eb-d3dc-40c6-a2da-372f48973cc5",
   "metadata": {},
   "source": [
    "As an example, we'll use the optimization problem defined by:\n",
    "$$\\begin{align}\n",
    "    \\max &\\sum_{i, t_0\\leq t\\leq T} \\beta_i^{t-t_0} \\omega_i \\ln\\left(c_{i,t}\\right) \\tag{1} \\\\\n",
    "    m_{i,t} &= R_t m_{i,t-1}-c_{i,t} + y_{i,t}, && \\forall  i, t_0 \\leq t\\leq T \\tag{2}\\\\\n",
    "    m_{i,T} &= m_{i,T-1}, && \\forall i, \\tag{3} \\\\ \n",
    "\\end{align}$$\n",
    "given $m_{i,t_0-1}, y_{i,t}, R_t, \\beta_i, \\omega_i$.\n",
    "\n",
    "As an example, let us consider the simple case with three types of agents $i \\in \\lbrace L, M, H\\rbrace $ and 5 time periods $t = 2010, 2011, 2012,..., 2014$, and let us collect all relevant objects in a database:"
   ]
  },
  {
   "cell_type": "code",
   "execution_count": 2,
   "id": "6479b03b-191a-4eab-acf1-1a8baf03a9f8",
   "metadata": {},
   "outputs": [],
   "source": [
    "db = pyDbs.SimpleDB() # datatbase\n",
    "# Sets:\n",
    "db['i'] = pd.Index(['L','M','H'], name  = 'i')\n",
    "t0, T = 2010, 2014\n",
    "db['t'] = pd.Index(range(t0, T+1), name = 't')\n",
    "# Parameters:\n",
    "db['β'] = pd.Series(sorted(stats.truncnorm.rvs(0, 1, size = len(db['i']))), index = db['i'])\n",
    "db['ω'] = pd.Series(1/len(db['i']), index = db['i'])\n",
    "db['y'] = pd.Series(1, index = pd.MultiIndex.from_product([db['i'], db['t']]))\n",
    "db['R'] = pd.Series(1/db['β'].mean()-0.5+stats.truncnorm.rvs(0,1, size = len(db['t'])), index = db['t'])\n",
    "db['m0']= pd.Series((10*db['β']**2).values, index = pd.MultiIndex.from_product([db['i'], db['t'][0:1]]))\n",
    "db['weights'] = adjMultiIndex.bc(db['β'], db['t']).pow(pd.Series(db['t']-t0, index = db['t'])) * db['ω'] # define weighting in welfare function"
   ]
  },
  {
   "cell_type": "markdown",
   "id": "4f1f8809-dcad-4a44-b77f-b951972358d1",
   "metadata": {},
   "source": [
    "### Define core symbols"
   ]
  },
  {
   "cell_type": "markdown",
   "id": "9d0e30f8-3204-48a8-90ab-978dfc96de61",
   "metadata": {},
   "source": [
    "The model is solved by setting up a single vector $x$ that is the stacked representation of vectors **$c, m$** that are defined for all $t,i$. We initialize a SymMaps object with these two symbols (either as ```pd.Series``` or ```pd.Index```). The ```self.compile``` method defines an index used to navigate the full vector $x$ using a global linear index:"
   ]
  },
  {
   "cell_type": "code",
   "execution_count": 3,
   "id": "7c1d66e1-4fc8-4d9c-a6c7-341482db2c36",
   "metadata": {},
   "outputs": [],
   "source": [
    "s = SM(symbols = {'c': pd.MultiIndex.from_product([db['i'], db['t']]), \n",
    "                   'm': pd.MultiIndex.from_product([db['i'], db['t']])}\n",
    "       )\n",
    "s.compile()"
   ]
  },
  {
   "cell_type": "markdown",
   "id": "3dc56fbe-8bfa-4bf6-a6f8-540e18ada86c",
   "metadata": {},
   "source": [
    "To test different methods, we define a stacked vector $x$ as a numpy array:"
   ]
  },
  {
   "cell_type": "code",
   "execution_count": 4,
   "id": "415fb907-5613-45b9-864e-cc1372334591",
   "metadata": {},
   "outputs": [],
   "source": [
    "x = rng.random(size = s.len)"
   ]
  },
  {
   "cell_type": "markdown",
   "id": "b3b6aac8-cb43-43c4-b39c-ef2bdb67255d",
   "metadata": {},
   "source": [
    "The ```self.compile``` establishes a dictionary of mappings (stored at ```self.maps```) that, for each symbol ($c,m$ in our instance) contains a mapping from the relevant ```pd.Index``` to the numerical indices in the stacked $x$. For the $m$ variable, for instance, this mapping looks as follows:"
   ]
  },
  {
   "cell_type": "code",
   "execution_count": 5,
   "id": "6294d2fe-ca0f-4b0c-8f81-2dc57d55bdf9",
   "metadata": {},
   "outputs": [
    {
     "data": {
      "text/plain": [
       "i  t   \n",
       "L  2010    15\n",
       "   2011    16\n",
       "   2012    17\n",
       "   2013    18\n",
       "   2014    19\n",
       "M  2010    20\n",
       "   2011    21\n",
       "   2012    22\n",
       "   2013    23\n",
       "   2014    24\n",
       "H  2010    25\n",
       "   2011    26\n",
       "   2012    27\n",
       "   2013    28\n",
       "   2014    29\n",
       "dtype: int64"
      ]
     },
     "execution_count": 5,
     "metadata": {},
     "output_type": "execute_result"
    }
   ],
   "source": [
    "s['m']"
   ]
  },
  {
   "cell_type": "markdown",
   "id": "e17ee37f-3d9c-4492-85cb-2197946d290b",
   "metadata": {},
   "source": [
    "Now, we can use the custom ```__call__``` method (with syntax ```self(k)```) to get the relevant part of the vector $x$:"
   ]
  },
  {
   "cell_type": "code",
   "execution_count": 50,
   "id": "1fc0c78f-dd25-44a2-9fb9-bb7ba3b90c89",
   "metadata": {},
   "outputs": [
    {
     "data": {
      "text/plain": [
       "array([0.380102  , 0.35163855, 0.21946259, 0.72390011, 0.37699435,\n",
       "       0.37691073, 0.63893963, 0.34841258, 0.67772011, 0.61233288,\n",
       "       0.50691337, 0.64130159, 0.63316618, 0.33799887, 0.65869185])"
      ]
     },
     "execution_count": 50,
     "metadata": {},
     "output_type": "execute_result"
    }
   ],
   "source": [
    "s(x, 'm') # get the values in vector x that we refer to as the symbol 'm'"
   ]
  },
  {
   "cell_type": "markdown",
   "id": "6546461c-5b9f-4629-ae81-97454fe901a1",
   "metadata": {},
   "source": [
    "If we prefer to return the object as a ```pd.Series```, we can instead use the ```get``` method:"
   ]
  },
  {
   "cell_type": "code",
   "execution_count": 59,
   "id": "75fb2dfa-c2c4-4c14-be38-90dbd4723247",
   "metadata": {},
   "outputs": [
    {
     "data": {
      "text/plain": [
       "i  t   \n",
       "L  2010    0.380102\n",
       "   2011    0.351639\n",
       "   2012    0.219463\n",
       "   2013    0.723900\n",
       "   2014    0.376994\n",
       "M  2010    0.376911\n",
       "   2011    0.638940\n",
       "   2012    0.348413\n",
       "   2013    0.677720\n",
       "   2014    0.612333\n",
       "H  2010    0.506913\n",
       "   2011    0.641302\n",
       "   2012    0.633166\n",
       "   2013    0.337999\n",
       "   2014    0.658692\n",
       "Name: m, dtype: float64"
      ]
     },
     "execution_count": 59,
     "metadata": {},
     "output_type": "execute_result"
    }
   ],
   "source": [
    "s.get(x, 'm')"
   ]
  },
  {
   "cell_type": "markdown",
   "id": "a0cb78ff-d5e2-4b31-99f1-275c0ee7e94e",
   "metadata": {},
   "source": [
    "Finally, the ```getr``` method performs the \"getting\" more robustly; we can for instance pass kwargs used to subset the symbol relying on the ```adj.rc_pd``` method. This gets the $m$ vector, but only keeps the \"L\" and \"M\" types:"
   ]
  },
  {
   "cell_type": "code",
   "execution_count": 1,
   "id": "9b4333e1-1c6b-470f-9c62-528687b5ac0d",
   "metadata": {
    "tags": []
   },
   "outputs": [
    {
     "ename": "NameError",
     "evalue": "name 's' is not defined",
     "output_type": "error",
     "traceback": [
      "\u001b[31m---------------------------------------------------------------------------\u001b[39m",
      "\u001b[31mNameError\u001b[39m                                 Traceback (most recent call last)",
      "\u001b[36mCell\u001b[39m\u001b[36m \u001b[39m\u001b[32mIn[1]\u001b[39m\u001b[32m, line 1\u001b[39m\n\u001b[32m----> \u001b[39m\u001b[32m1\u001b[39m s.getr(x, \u001b[33m'\u001b[39m\u001b[33mm\u001b[39m\u001b[33m'\u001b[39m, c = pd.Index([\u001b[33m'\u001b[39m\u001b[33mL\u001b[39m\u001b[33m'\u001b[39m,\u001b[33m'\u001b[39m\u001b[33mM\u001b[39m\u001b[33m'\u001b[39m], name = \u001b[33m'\u001b[39m\u001b[33mi\u001b[39m\u001b[33m'\u001b[39m))\n",
      "\u001b[31mNameError\u001b[39m: name 's' is not defined"
     ]
    }
   ],
   "source": [
    "s.getr(x, 'm', c = pd.Index(['L','M'], name = 'i')) # the 'c' keyword will be parsed to the method adj.rc_pd"
   ]
  },
  {
   "cell_type": "markdown",
   "id": "515223c0-e1a7-401e-9422-1034fb090407",
   "metadata": {},
   "source": [
    "### Adjusted symbols"
   ]
  },
  {
   "cell_type": "markdown",
   "id": "f2c4e459-c0be-40e9-9967-343c6285121c",
   "metadata": {},
   "source": [
    "In some instances, we need some adjusted version of the symbols $m,c$ that $x$ consists of. For instance, in the example in equations (1)-(3), we need to get the lagged version $m_{i,t-1}$."
   ]
  },
  {
   "cell_type": "markdown",
   "id": "6dddc349-cd07-4f4c-88db-11a439195fbc",
   "metadata": {},
   "source": [
    "* Adjusted symbols are defined using mappings from the original main index to a new adjusted one. The ```pd.Index``` to ```pd.Index``` mapping is stored at ```self.auxMapsIdx```.\n",
    "* We include default methods for creating lagged, rolled, or shifted indices, and to fill in assumptions of missing values, steady state and similar.\n",
    "* The compilation stage creates fixed maps to the global linear index and commits this to the ```self.auxMaps``` attribute.\n",
    "* For dynamically compiled objects, we can always use the ```getr``` method directly with relevant mappings or lags/rolls/shifts in the indices."
   ]
  },
  {
   "cell_type": "markdown",
   "id": "ba7d5b04-0a80-4cb5-af1a-510aa4547c62",
   "metadata": {},
   "source": [
    "#### Roll/shift/lag index"
   ]
  },
  {
   "cell_type": "markdown",
   "id": "d8acb519-d616-4e19-a202-c35a640a5fc4",
   "metadata": {},
   "source": [
    "The three methods roll/shift/lag has slighly different uses:\n",
    "1. Lag: Numerical index levels can be lagged, i.e. the operation is transformed directly on the elements; this can result in new index elements. \n",
    "2. Roll: As the name suggests, this uses already defined index levels and rolls them. That is, this relies on the ordering of the main symbol. \n",
    "3. Shift: Functions as the Roll, but keeps a break between the first and last element in an index. For example, rolling the index $\\lbrace 1,2,3\\rbrace$ one element yields $\\lbrace 3,1,2 \\rbrace$, whereas shifting it leaves $\\lbrace NaN, 1,2 \\rbrace$ or some other value that we use to fill in for ```NaN```."
   ]
  },
  {
   "cell_type": "markdown",
   "id": "5ba128e7-8fef-4db4-916d-37ff9c9a5cdd",
   "metadata": {},
   "source": [
    "##### 1. Lag index:"
   ]
  },
  {
   "cell_type": "code",
   "execution_count": 9,
   "id": "a02c0f74-1316-45d9-b6a4-a46b9dfd5f2d",
   "metadata": {},
   "outputs": [],
   "source": [
    "lags = {'t': 1} # lag 't' index with 1 \n",
    "symbol = 'm'\n",
    "name = 'm[t-1]'\n",
    "kwargs = {'c': ('not', pd.Index([t0], name = 't'))} # 'c' is a condition on the index. Here, don't use initial year t0"
   ]
  },
  {
   "cell_type": "markdown",
   "id": "af2c6163-4add-494a-9200-9fbc6900d242",
   "metadata": {},
   "source": [
    "Add this as an adjusted symbol that we can access with syntax ```'m[t-1]'```. Note that lagging the index, we end up with values of $t$ that is not defined (in our case $t=2009$) - hence the condition not to include $t_0$:"
   ]
  },
  {
   "cell_type": "code",
   "execution_count": 10,
   "id": "66b8012e-c040-4323-9cac-d342f36e6f51",
   "metadata": {},
   "outputs": [],
   "source": [
    "s.addLaggedSym(name, symbol, lags, **kwargs)"
   ]
  },
  {
   "cell_type": "markdown",
   "id": "c53fd177-26b3-4cd7-843f-c7f7c8b72bb8",
   "metadata": {},
   "source": [
    "We add this symbol by (1) adding a mapping to ```self.auxMapsIdx``` from the original to new index, (2) using this mapping on the \"full\" symbol already stored in ```self.maps```: "
   ]
  },
  {
   "cell_type": "code",
   "execution_count": 11,
   "id": "bfc5e81e-6711-4509-8535-d008e943aede",
   "metadata": {},
   "outputs": [],
   "source": [
    "m = s.lagMaps(adj.rc_pd(s[symbol], **kwargs), lags) # step 1: obtain new mapping - this is added to self.auxMapsIdx\n",
    "newMap = s.applyMapGlobalIdx(s[symbol], m) # step 2: use mapping to map to global linear index - this is added to self.auxMaps"
   ]
  },
  {
   "cell_type": "markdown",
   "id": "00bdd3b3-3bc1-4f8c-8fc1-a3d2b2db58ee",
   "metadata": {},
   "source": [
    "Note that, instead of adding the crtieria to exclude the first period $t_0$ from the lagged symbol, we can choose to \"dropna\" automatically. This eliminates any mapped index that is not included in the \"global\" pendant:"
   ]
  },
  {
   "cell_type": "code",
   "execution_count": 12,
   "id": "9c24113b-6858-4bc0-a5be-24d9bd39c870",
   "metadata": {},
   "outputs": [],
   "source": [
    "s.addLaggedSym(name, symbol, lags, dropna = True)"
   ]
  },
  {
   "cell_type": "markdown",
   "id": "54490ff8-213f-4c0e-a3e5-9521df8656ad",
   "metadata": {},
   "source": [
    "This is a slower version than explicitly dropping the unavailable index levels, because this does a check of the entire index of the symbol against the \"global\" counterpart."
   ]
  },
  {
   "cell_type": "markdown",
   "id": "d3197a52-51b1-47a5-ad15-487984a69188",
   "metadata": {},
   "source": [
    "**2. Roll index:**"
   ]
  },
  {
   "cell_type": "markdown",
   "id": "687059ff-23d4-4ca5-85fe-efb6ad80b99e",
   "metadata": {},
   "source": [
    "Roll the yearly index with 1 in the order that the index is sorted. Generally, the method returns e.g. $m[t-1]$ when the index $t$ is a range index. Rolling the index adopts the convention that for the first element $t_0$, the rolling maps to the last element $T$. That is, rolling the index by 1 uses the mapping $\\text{roll}(t_0, 1)\\mapsto T$. "
   ]
  },
  {
   "cell_type": "code",
   "execution_count": 13,
   "id": "7f71cbb2-f12c-4f3e-b866-1b366829290f",
   "metadata": {},
   "outputs": [
    {
     "data": {
      "text/html": [
       "<div>\n",
       "<style scoped>\n",
       "    .dataframe tbody tr th:only-of-type {\n",
       "        vertical-align: middle;\n",
       "    }\n",
       "\n",
       "    .dataframe tbody tr th {\n",
       "        vertical-align: top;\n",
       "    }\n",
       "\n",
       "    .dataframe thead th {\n",
       "        text-align: right;\n",
       "    }\n",
       "</style>\n",
       "<table border=\"1\" class=\"dataframe\">\n",
       "  <thead>\n",
       "    <tr style=\"text-align: right;\">\n",
       "      <th></th>\n",
       "      <th></th>\n",
       "      <th>m</th>\n",
       "      <th>rolled</th>\n",
       "    </tr>\n",
       "    <tr>\n",
       "      <th>i</th>\n",
       "      <th>t</th>\n",
       "      <th></th>\n",
       "      <th></th>\n",
       "    </tr>\n",
       "  </thead>\n",
       "  <tbody>\n",
       "    <tr>\n",
       "      <th rowspan=\"5\" valign=\"top\">L</th>\n",
       "      <th>2010</th>\n",
       "      <td>15</td>\n",
       "      <td>19</td>\n",
       "    </tr>\n",
       "    <tr>\n",
       "      <th>2011</th>\n",
       "      <td>16</td>\n",
       "      <td>15</td>\n",
       "    </tr>\n",
       "    <tr>\n",
       "      <th>2012</th>\n",
       "      <td>17</td>\n",
       "      <td>16</td>\n",
       "    </tr>\n",
       "    <tr>\n",
       "      <th>2013</th>\n",
       "      <td>18</td>\n",
       "      <td>17</td>\n",
       "    </tr>\n",
       "    <tr>\n",
       "      <th>2014</th>\n",
       "      <td>19</td>\n",
       "      <td>18</td>\n",
       "    </tr>\n",
       "    <tr>\n",
       "      <th rowspan=\"5\" valign=\"top\">M</th>\n",
       "      <th>2010</th>\n",
       "      <td>20</td>\n",
       "      <td>24</td>\n",
       "    </tr>\n",
       "    <tr>\n",
       "      <th>2011</th>\n",
       "      <td>21</td>\n",
       "      <td>20</td>\n",
       "    </tr>\n",
       "    <tr>\n",
       "      <th>2012</th>\n",
       "      <td>22</td>\n",
       "      <td>21</td>\n",
       "    </tr>\n",
       "    <tr>\n",
       "      <th>2013</th>\n",
       "      <td>23</td>\n",
       "      <td>22</td>\n",
       "    </tr>\n",
       "    <tr>\n",
       "      <th>2014</th>\n",
       "      <td>24</td>\n",
       "      <td>23</td>\n",
       "    </tr>\n",
       "    <tr>\n",
       "      <th rowspan=\"5\" valign=\"top\">H</th>\n",
       "      <th>2010</th>\n",
       "      <td>25</td>\n",
       "      <td>29</td>\n",
       "    </tr>\n",
       "    <tr>\n",
       "      <th>2011</th>\n",
       "      <td>26</td>\n",
       "      <td>25</td>\n",
       "    </tr>\n",
       "    <tr>\n",
       "      <th>2012</th>\n",
       "      <td>27</td>\n",
       "      <td>26</td>\n",
       "    </tr>\n",
       "    <tr>\n",
       "      <th>2013</th>\n",
       "      <td>28</td>\n",
       "      <td>27</td>\n",
       "    </tr>\n",
       "    <tr>\n",
       "      <th>2014</th>\n",
       "      <td>29</td>\n",
       "      <td>28</td>\n",
       "    </tr>\n",
       "  </tbody>\n",
       "</table>\n",
       "</div>"
      ],
      "text/plain": [
       "         m  rolled\n",
       "i t               \n",
       "L 2010  15      19\n",
       "  2011  16      15\n",
       "  2012  17      16\n",
       "  2013  18      17\n",
       "  2014  19      18\n",
       "M 2010  20      24\n",
       "  2011  21      20\n",
       "  2012  22      21\n",
       "  2013  23      22\n",
       "  2014  24      23\n",
       "H 2010  25      29\n",
       "  2011  26      25\n",
       "  2012  27      26\n",
       "  2013  28      27\n",
       "  2014  29      28"
      ]
     },
     "execution_count": 13,
     "metadata": {},
     "output_type": "execute_result"
    }
   ],
   "source": [
    "rolls = {'t': 1} # roll 't' index with 1\n",
    "symbol = 'm'\n",
    "name = 'mRoll'\n",
    "s.addRolledSym(name, symbol, rolls)\n",
    "pd.concat([s['m'].rename('m'), s['mRoll'].rename('rolled')], axis = 1) # compare original to the rolled symbol"
   ]
  },
  {
   "cell_type": "markdown",
   "id": "ccdcdc63-08b0-4440-b887-e760d9f25bd5",
   "metadata": {},
   "source": [
    "**3. Shift index:**"
   ]
  },
  {
   "cell_type": "markdown",
   "id": "e9a1497c-49ef-4e8e-83a2-c6b3b0299afd",
   "metadata": {},
   "source": [
    "Shifting the index by 1 is similar to rolling the index, i.e. it returns $x[t-1]$ with a range index. However, whereas rolling the index around the first element by convention mapped to the end ($\\text{roll}(t_0,1)\\mapsto T$), shifting the index allows us to handle this break in different ways. For instance, adding the ```kwargs = {'useLoc': 'nn'}``` options means that we use the \"nearest neighbor\" assumption (or steady state). That is, the convention is that $\\text{shift}(t_0, 1) \\mapsto t_0$:"
   ]
  },
  {
   "cell_type": "code",
   "execution_count": 14,
   "id": "4ce94792-b861-4a8c-bdd2-671e7ee277ab",
   "metadata": {},
   "outputs": [
    {
     "data": {
      "text/html": [
       "<div>\n",
       "<style scoped>\n",
       "    .dataframe tbody tr th:only-of-type {\n",
       "        vertical-align: middle;\n",
       "    }\n",
       "\n",
       "    .dataframe tbody tr th {\n",
       "        vertical-align: top;\n",
       "    }\n",
       "\n",
       "    .dataframe thead th {\n",
       "        text-align: right;\n",
       "    }\n",
       "</style>\n",
       "<table border=\"1\" class=\"dataframe\">\n",
       "  <thead>\n",
       "    <tr style=\"text-align: right;\">\n",
       "      <th></th>\n",
       "      <th></th>\n",
       "      <th>m</th>\n",
       "      <th>Shifted</th>\n",
       "    </tr>\n",
       "    <tr>\n",
       "      <th>i</th>\n",
       "      <th>t</th>\n",
       "      <th></th>\n",
       "      <th></th>\n",
       "    </tr>\n",
       "  </thead>\n",
       "  <tbody>\n",
       "    <tr>\n",
       "      <th rowspan=\"5\" valign=\"top\">L</th>\n",
       "      <th>2010</th>\n",
       "      <td>15</td>\n",
       "      <td>15</td>\n",
       "    </tr>\n",
       "    <tr>\n",
       "      <th>2011</th>\n",
       "      <td>16</td>\n",
       "      <td>15</td>\n",
       "    </tr>\n",
       "    <tr>\n",
       "      <th>2012</th>\n",
       "      <td>17</td>\n",
       "      <td>16</td>\n",
       "    </tr>\n",
       "    <tr>\n",
       "      <th>2013</th>\n",
       "      <td>18</td>\n",
       "      <td>17</td>\n",
       "    </tr>\n",
       "    <tr>\n",
       "      <th>2014</th>\n",
       "      <td>19</td>\n",
       "      <td>18</td>\n",
       "    </tr>\n",
       "    <tr>\n",
       "      <th rowspan=\"5\" valign=\"top\">M</th>\n",
       "      <th>2010</th>\n",
       "      <td>20</td>\n",
       "      <td>20</td>\n",
       "    </tr>\n",
       "    <tr>\n",
       "      <th>2011</th>\n",
       "      <td>21</td>\n",
       "      <td>20</td>\n",
       "    </tr>\n",
       "    <tr>\n",
       "      <th>2012</th>\n",
       "      <td>22</td>\n",
       "      <td>21</td>\n",
       "    </tr>\n",
       "    <tr>\n",
       "      <th>2013</th>\n",
       "      <td>23</td>\n",
       "      <td>22</td>\n",
       "    </tr>\n",
       "    <tr>\n",
       "      <th>2014</th>\n",
       "      <td>24</td>\n",
       "      <td>23</td>\n",
       "    </tr>\n",
       "    <tr>\n",
       "      <th rowspan=\"5\" valign=\"top\">H</th>\n",
       "      <th>2010</th>\n",
       "      <td>25</td>\n",
       "      <td>25</td>\n",
       "    </tr>\n",
       "    <tr>\n",
       "      <th>2011</th>\n",
       "      <td>26</td>\n",
       "      <td>25</td>\n",
       "    </tr>\n",
       "    <tr>\n",
       "      <th>2012</th>\n",
       "      <td>27</td>\n",
       "      <td>26</td>\n",
       "    </tr>\n",
       "    <tr>\n",
       "      <th>2013</th>\n",
       "      <td>28</td>\n",
       "      <td>27</td>\n",
       "    </tr>\n",
       "    <tr>\n",
       "      <th>2014</th>\n",
       "      <td>29</td>\n",
       "      <td>28</td>\n",
       "    </tr>\n",
       "  </tbody>\n",
       "</table>\n",
       "</div>"
      ],
      "text/plain": [
       "         m  Shifted\n",
       "i t                \n",
       "L 2010  15       15\n",
       "  2011  16       15\n",
       "  2012  17       16\n",
       "  2013  18       17\n",
       "  2014  19       18\n",
       "M 2010  20       20\n",
       "  2011  21       20\n",
       "  2012  22       21\n",
       "  2013  23       22\n",
       "  2014  24       23\n",
       "H 2010  25       25\n",
       "  2011  26       25\n",
       "  2012  27       26\n",
       "  2013  28       27\n",
       "  2014  29       28"
      ]
     },
     "execution_count": 14,
     "metadata": {},
     "output_type": "execute_result"
    }
   ],
   "source": [
    "shifts = {'t': 1}\n",
    "symbol = 'm'\n",
    "name = 'mShifted'\n",
    "opt = {'useLoc': 'nn'} # nearest-neighbor loc\n",
    "s.addShiftedSym(name, symbol, shifts, opt = opt)\n",
    "pd.concat([s['m'].rename('m'), s['mShifted'].rename('Shifted')], axis = 1) # compare original to the rolled symbol"
   ]
  },
  {
   "cell_type": "markdown",
   "id": "d590edff-8eb3-4f27-a677-a82010f4c9fc",
   "metadata": {},
   "source": [
    "## Example - revisited"
   ]
  },
  {
   "cell_type": "markdown",
   "id": "e8c025b3-5051-465b-b4d1-c5103fd7a5da",
   "metadata": {},
   "source": [
    "Now, let us create the relevant symbols to use throughout the example. Now, in the first equation, we need to sum over (t) and match operations on the $i$-index. We can match $i$ index by either setting up a matrix with corresponding dimensions, or lazily use the pandas version:"
   ]
  },
  {
   "cell_type": "code",
   "execution_count": 15,
   "id": "cf706012-d30d-434a-971d-d66d1afff388",
   "metadata": {},
   "outputs": [],
   "source": [
    "def fOpt(x):\n",
    "    return sum(s.get(x,'c').apply(np.log) * db['weights'])"
   ]
  },
  {
   "cell_type": "markdown",
   "id": "eccdc1e2-0e01-4d3f-b23f-494f1690ce13",
   "metadata": {},
   "source": [
    "Next, let us define the law of motion *gap* for all $i,t$:"
   ]
  },
  {
   "cell_type": "code",
   "execution_count": 16,
   "id": "90df39f1-cf46-4911-a4ae-834e77d2f966",
   "metadata": {},
   "outputs": [],
   "source": [
    "def LOM(x):\n",
    "    return (db['R'] * pd.concat([s.get(x,'m[t-1]'), db['m0']], axis = 0) - s.get(x,'c')+ db['y'] - s.get(x,'m')).values"
   ]
  },
  {
   "cell_type": "markdown",
   "id": "9084015a-05fc-4b88-bfb9-1e0eaadd9663",
   "metadata": {},
   "source": [
    "Finally, we can define the transversality condition either directly or by adding the specific elements $m[i,T]$ and $m[i,T-1]$ to the compiler as adjusted symbols. This last version means that the function call does not need to identify the right part of the vector $x$ every time it is evaluated:"
   ]
  },
  {
   "cell_type": "code",
   "execution_count": 17,
   "id": "f4d5ed59-081e-4493-9344-9aee65e438af",
   "metadata": {},
   "outputs": [],
   "source": [
    "s.auxMaps['m[T]'] = adj.rc_pd(s['m'], db['t'][-1:])\n",
    "s.auxMaps['m[T-1]'] = adj.rc_pd(s['m'], db['t'][-2:-1])\n",
    "def TVC(x):\n",
    "    return s(x,'m[T]')-s(x,'m[T-1]')"
   ]
  },
  {
   "cell_type": "markdown",
   "id": "223c4b5d-76b4-4b21-867a-4684c423d349",
   "metadata": {},
   "source": [
    "## Calling adjusted symbols on the fly (without compilation)"
   ]
  },
  {
   "cell_type": "markdown",
   "id": "d6b1de11-1a9a-46a5-ac1e-f106af4f76ee",
   "metadata": {},
   "source": [
    "Now, assume that we have solved the model and the vector $x$ is the solution vector. We can unload the solution to a dictionary of ```pandas``` defined series with the call:"
   ]
  },
  {
   "cell_type": "code",
   "execution_count": 18,
   "id": "5d5c1e61-0f3f-421a-9079-0861741f0b47",
   "metadata": {},
   "outputs": [],
   "source": [
    "sol = s.unloadSol(x)"
   ]
  },
  {
   "cell_type": "markdown",
   "id": "3d30ca3e-b4fb-4d8e-8b8b-29df8644ea54",
   "metadata": {},
   "source": [
    "This dict also includes the adjusted symbols that we have added along the way. But, let us now assume that all we want is the adjusted symbol $m[t+1]$ with the steady state assumption. We could include this in the compilation stage as a symbol and then automatically have it unloaded with the method ```unloadSol```, but we can also call it *ad hoc* from the solution vector $x$:"
   ]
  },
  {
   "cell_type": "code",
   "execution_count": 19,
   "id": "2c35e1d9-90fb-48f8-89a6-5ab8acb4966d",
   "metadata": {
    "tags": []
   },
   "outputs": [
    {
     "data": {
      "text/plain": [
       "i  t   \n",
       "L  2010    0.351639\n",
       "   2011    0.219463\n",
       "   2012    0.723900\n",
       "   2013    0.376994\n",
       "   2014    0.376994\n",
       "M  2010    0.638940\n",
       "   2011    0.348413\n",
       "   2012    0.677720\n",
       "   2013    0.612333\n",
       "   2014    0.612333\n",
       "H  2010    0.641302\n",
       "   2011    0.633166\n",
       "   2012    0.337999\n",
       "   2013    0.658692\n",
       "   2014    0.658692\n",
       "dtype: float64"
      ]
     },
     "execution_count": 19,
     "metadata": {},
     "output_type": "execute_result"
    }
   ],
   "source": [
    "# Options used to create symbol:\n",
    "name = 'm[t+1]'\n",
    "symbol = 'm'\n",
    "shifts = {'t': -1}\n",
    "opt = {'useLoc': 'nn'}\n",
    "s.getShiftFromSol(x, symbol, shifts, opt = opt) # get the solution directly from $x$"
   ]
  },
  {
   "cell_type": "markdown",
   "id": "6320e275-99b2-4b8c-891b-ff40fcc6d9ae",
   "metadata": {},
   "source": [
    "We can also get the symbol directly from the \"non-shifted\" version of the symbol:"
   ]
  },
  {
   "cell_type": "code",
   "execution_count": 20,
   "id": "4ef452ed-f9c9-4ba5-a203-3a0b44f9d188",
   "metadata": {},
   "outputs": [
    {
     "data": {
      "text/plain": [
       "i  t   \n",
       "L  2010    0.351639\n",
       "   2011    0.219463\n",
       "   2012    0.723900\n",
       "   2013    0.376994\n",
       "   2014    0.376994\n",
       "M  2010    0.638940\n",
       "   2011    0.348413\n",
       "   2012    0.677720\n",
       "   2013    0.612333\n",
       "   2014    0.612333\n",
       "H  2010    0.641302\n",
       "   2011    0.633166\n",
       "   2012    0.337999\n",
       "   2013    0.658692\n",
       "   2014    0.658692\n",
       "dtype: float64"
      ]
     },
     "execution_count": 20,
     "metadata": {},
     "output_type": "execute_result"
    }
   ],
   "source": [
    "s.getShift(sol['m'], shifts, opt = opt)"
   ]
  },
  {
   "cell_type": "markdown",
   "id": "939fb01d-0558-4e0a-a23d-73ca695d4bc0",
   "metadata": {},
   "source": [
    "Finally, we can use lags/shifts/rolls of the indices of symbols that are not included in the symbols using the ```getShift``` method. For instance, the interest rate:"
   ]
  },
  {
   "cell_type": "code",
   "execution_count": 21,
   "id": "bb4f1a33-0871-43aa-a134-a27dd7bd12f9",
   "metadata": {},
   "outputs": [
    {
     "data": {
      "text/plain": [
       "t\n",
       "2010    1.667108\n",
       "2011    1.498320\n",
       "2012    2.168236\n",
       "2013    1.801419\n",
       "2014    1.801419\n",
       "dtype: float64"
      ]
     },
     "execution_count": 21,
     "metadata": {},
     "output_type": "execute_result"
    }
   ],
   "source": [
    "x = db['R']\n",
    "shifts = -1\n",
    "opt = {'useLoc': 'nn'}\n",
    "s.getShift(x, shifts, opt = opt)"
   ]
  },
  {
   "cell_type": "markdown",
   "id": "2bcb784a-78a1-405c-ab42-32b56a9483a0",
   "metadata": {},
   "source": [
    "## Adding a scalar"
   ]
  },
  {
   "cell_type": "code",
   "execution_count": 22,
   "id": "5a0a66d7-61b4-4500-9297-ba2b13e80f05",
   "metadata": {},
   "outputs": [],
   "source": [
    "sTest = SM(symbols = s.symbols.copy())\n",
    "sTest.symbols['scalar'] = None # add a scalar symbol.\n",
    "sTest.compile()"
   ]
  },
  {
   "cell_type": "markdown",
   "id": "aaac84fd-6531-4f42-af0a-3dddd2639994",
   "metadata": {},
   "source": [
    "Test vector:"
   ]
  },
  {
   "cell_type": "code",
   "execution_count": 23,
   "id": "e3cc6022-ff49-4e60-9aea-eddc0813475c",
   "metadata": {},
   "outputs": [],
   "source": [
    "x = rng.random(size = sTest.len)"
   ]
  },
  {
   "cell_type": "markdown",
   "id": "c6b9574c-6d14-4fac-b5d1-d65c858b8015",
   "metadata": {},
   "source": [
    "The ```get``` method still returns a pandas series (always does so):"
   ]
  },
  {
   "cell_type": "code",
   "execution_count": 24,
   "id": "8441642f-a1cb-4f7d-a91e-13e885c9e9d7",
   "metadata": {},
   "outputs": [
    {
     "data": {
      "text/plain": [
       "0    0.274523\n",
       "Name: scalar, dtype: float64"
      ]
     },
     "execution_count": 24,
     "metadata": {},
     "output_type": "execute_result"
    }
   ],
   "source": [
    "sTest.get(x, 'scalar')"
   ]
  },
  {
   "cell_type": "markdown",
   "id": "7e2015f6-ea12-4677-91e5-f0a69ecf909c",
   "metadata": {},
   "source": [
    "But the more robust get method, ```getr``` returns it as a scalar:"
   ]
  },
  {
   "cell_type": "code",
   "execution_count": 25,
   "id": "8425e8ee-ffc0-4fc2-b195-b5c2ce2930e1",
   "metadata": {},
   "outputs": [
    {
     "data": {
      "text/plain": [
       "0.27452286136122217"
      ]
     },
     "execution_count": 25,
     "metadata": {},
     "output_type": "execute_result"
    }
   ],
   "source": [
    "sTest.getr(x,'scalar')"
   ]
  }
 ],
 "metadata": {
  "kernelspec": {
   "display_name": "Python 3 (ipykernel)",
   "language": "python",
   "name": "python3"
  },
  "language_info": {
   "codemirror_mode": {
    "name": "ipython",
    "version": 3
   },
   "file_extension": ".py",
   "mimetype": "text/x-python",
   "name": "python",
   "nbconvert_exporter": "python",
   "pygments_lexer": "ipython3",
   "version": "3.13.5"
  }
 },
 "nbformat": 4,
 "nbformat_minor": 5
}
