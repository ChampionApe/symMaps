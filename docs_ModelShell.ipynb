{
 "cells": [
  {
   "cell_type": "code",
   "execution_count": 1,
   "id": "31bd52fd-d5d9-48db-bcf7-d19af2c0ae20",
   "metadata": {},
   "outputs": [],
   "source": [
    "from symMaps.__init__ import *\n",
    "from symMaps.lpSys import _adjF\n",
    "_numtypes = (int,float,np.generic)"
   ]
  },
  {
   "cell_type": "markdown",
   "id": "e5baa230-26bc-46e5-aa6b-057d7dda6a8a",
   "metadata": {},
   "source": [
    "# Documentation for `ModelShell` "
   ]
  },
  {
   "cell_type": "markdown",
   "id": "6d3d108b-bd1c-4b1e-a1cc-43c1ebcf9fcb",
   "metadata": {},
   "source": [
    "## 1. A brief overview"
   ]
  },
  {
   "cell_type": "markdown",
   "id": "9ea9ad1a-08f8-48be-93f6-ffbe818edf04",
   "metadata": {},
   "source": [
    "The class `symMaps.ModelShell` builds on `symMaps.LPSys` class to create a platform for defining linear programming models. The model structure is specified using the `symMaps.LPSys` class and the class `ModelShell` simply defines additional routines for \n",
    "1. passing the compiled model to a solver (`scipy.optimize.linprog`),\n",
    "2. unloading the solution to a database, and\n",
    "3. create routines for running shocks (changes in parameter-values/structure) in the model and reporting it."
   ]
  },
  {
   "cell_type": "markdown",
   "id": "dfac71c9-96d2-4750-816e-c74b61ef7f14",
   "metadata": {},
   "source": [
    "An instance of the `symMapsl.LPSys`is added as attribute `self.sys`. The `pyDbs.SimpleDB` database instance tied to the `symMaps.LPSys` instance is also the main database for the `ModelShell` instance; the property `self.db` returns the `self.sys.db` directly."
   ]
  },
  {
   "cell_type": "markdown",
   "id": "42e450bb-87f9-42ec-be21-117f45e417e7",
   "metadata": {},
   "source": [
    "Main methods:\n",
    "* `self.solve(**kwargs)`: Passes the compiled linear programming system from `self.sys.out`to the solver `scipy.optimize.linprog`. The `**kwargs` are also passed to the solver, with default solver options stored as the attribute `self.solOptions`. The default option is to use the solver `method = highs`.\n",
    "* `self.postSolve(sol, **kwargs)`: The `sol` argument here is the solution from the `self.solve` statement, and the `**kwargs` is included to allow for simple extensions for classes building on this. This returns the solution dictionary from calling `self.sys.unloadSol(sol)` (see `docs_LPSys.ipynb`).\n",
    "* `self.postSolveToDB(sol, **kwargs)`: Adds the solution from `self.postSolve` to the main database in `self.sys.db`.\n",
    "* `self.lazyLoop(grids, idxLoop, **kwargs)`: This is a simple routine for updating parameter values on a grid and reporting the solution. The `idxLoop` is a `pd.Index` of the loop. The routine goes through:\n",
    "    1. Update database symbols from `grids`. This can either be a `pd.Series` or an iterator populated by `pd.Series` instances. The structure of the `pd.Series` should be structured in the following way: The name of the series corresponds to a variable in `self.db` and the index should be defined over `idxLoop` and the original domain as stored in `self.db`.\n",
    "    3. Recompile model calling `self.compile()` method. This assumes that the model has such a method implemented that recompiles the arguments in `self.sys`.\n",
    "    4. Solve model,\n",
    "    5. save post-solve routine to dictionary.\n",
    "\n",
    "    The `self.lazyLoop` returns a dictionary of dictionaries for each element in the grid. Each dictionary is the solution dictionary with keys = symbol names and values = pd.Series representations of the solution.\n",
    "* `self.lazyLoopAsDFs(grids, idxLoop, **kwargs)`: Collect solutions from `self.lazyLoop` in dataframes with columns representing the grid we loop through."
   ]
  },
  {
   "cell_type": "markdown",
   "id": "f22523ed-d07f-4bae-bb66-f49fb8e08c18",
   "metadata": {},
   "source": [
    "The `ModelShell` class is an incomplete model in the sense that it does not include the structure of any model. Specifically, as mentioned in the short description above, it requires that we have a defined instance of the class `symMaps.LPSys`. Also, for the loop methods to work, we also want to define `self.compile` methods that actually defines the structures of the `symMaps.LPSys`. "
   ]
  },
  {
   "cell_type": "markdown",
   "id": "2dddd2d6-bec7-4501-9c0a-64526da85b2b",
   "metadata": {},
   "source": [
    "## 2. Example of implementation"
   ]
  },
  {
   "cell_type": "markdown",
   "id": "f83ff9ee-cda9-4db7-a80f-5f7e1cd42043",
   "metadata": {},
   "source": [
    "To understand how the `ModelShell` works, we showcase one example that builds a basic electricity system model (`MBasic`). "
   ]
  },
  {
   "cell_type": "code",
   "execution_count": 2,
   "id": "93b04569-e08e-4535-95d1-0e091588e362",
   "metadata": {},
   "outputs": [],
   "source": [
    "import os\n",
    "from symMaps.mBasic import MBasic\n",
    "from pyDbs import ExcelSymbolLoader"
   ]
  },
  {
   "cell_type": "markdown",
   "id": "4fec5017-78a7-4043-98d6-7feb1e027f4c",
   "metadata": {},
   "source": [
    "### A. Data"
   ]
  },
  {
   "cell_type": "markdown",
   "id": "c8a6a7c5-6c64-4b08-99a6-c41b08eaeece",
   "metadata": {},
   "source": [
    "The model is a very simple power system model that is defined over four indices (parentheses indicate symbols used in plain math below).\n",
    "* ```idxGen``` ($i$): Set of electricity generators.\n",
    "* ```idxF``` ($f$): Set of fuel types that generators may use.\n",
    "* ```idxEm``` ($em$): Set of emission types included in the model.\n",
    "* ```idxCons``` ($ic$): Set of consumers in the power market.\n",
    "\n",
    "\n",
    "The model requires the following data to run:\n",
    "* ```pFuel(idxF)``` ($p_f$): Fuel price. Default unit: €/GJ. \n",
    "* ```uEm(idxF, idxEm)``` ($\\phi_{f,em}$): Emission intensity. Default unit: Ton emission/GJ fuel input. \n",
    "* ```VOM(idxGen)``` ($c_i^{oth}$): variable operating and maintenance costs. Default unit: €/GJ output.\n",
    "* ```uFuel(idxF, idxGen)``` ($\\mu_{f,i}$): Fuelmix. Default unit: GJ input/GJ output.\n",
    "* ```taxEm(idxEm)``` ($\\tau_{em}$): Tax on emissions. Default unit: €/ton emission output.\n",
    "* ```genCap(idxGen)``` ($q_i$): Generating capacity. Default unit: GJ/hour.\n",
    "* ```mwp(idxCons)``` ($u_{ic}$): Marginal willingness to pay for consumers. Default unit: €/GJ. \n",
    "* ```load(idxCons)``` ($L_{ic}$): Total demand for consumers if the price does not exceed their marginal willingness to pay. Default unit: GJ."
   ]
  },
  {
   "cell_type": "markdown",
   "id": "932e841c-2e4e-4de3-9ef1-112c912e2111",
   "metadata": {},
   "source": [
    "### B. Model formulation"
   ]
  },
  {
   "cell_type": "markdown",
   "id": "a170b3b0-053c-4816-875a-70106d1f9abc",
   "metadata": {},
   "source": [
    "The model solves for vectors of electricity generation ($E_i$ = `generation`) and demand levels ($D_{ic}$ = `demand`) by solving:\n",
    "$$\\begin{align}\n",
    "    &\\max\\mbox{ }\\sum_{ic}u_{ic} D_{ic} - \\sum_{i} c_i E_i \\\\\n",
    "    &\\text{s.t. }\\sum_{ic} D_{ic} = \\sum_i E_i \\\\\n",
    "    & E_i\\in[0,q_i], \\quad \\text{and} \\quad D_{ic} \\in[0, L_{ic}],\n",
    "\\end{align}$$\n",
    "and where the marginal costs of generation, $E_i$, are computed from:\n",
    "$$\\begin{align}\n",
    "    c_i = c_i^{oth} + \\sum_f \\mu_{f,i} (p_f + \\sum_{em} \\phi_{f,em}\\cdot\\tau_{em})\n",
    "\\end{align}$$"
   ]
  },
  {
   "cell_type": "markdown",
   "id": "7228de9b-32a2-4333-b169-a6e06d751d6b",
   "metadata": {},
   "source": [
    "The excel file `EX_MBasic.xlsx` contains an example of the relevant data outlined above (except for values for the endogenous variables $E_i, D_{ic}$ that we are going to solve for). This reads in the data and initializes a model instance that we can use to test out various methods:"
   ]
  },
  {
   "cell_type": "code",
   "execution_count": 3,
   "id": "0a2a5a1b-9f12-4b42-9b04-0219eea4e04d",
   "metadata": {},
   "outputs": [],
   "source": [
    "testData = os.path.join(os.getcwd(), 'data','EX_MBasic.xlsx')\n",
    "data = ExcelSymbolLoader(testData)() # read data in a dict \n",
    "m = MBasic() # initialize model\n",
    "[m.db.__setitem__(k, v) for k,v in data.items() if k!='__meta__']; # add data to model database"
   ]
  },
  {
   "cell_type": "markdown",
   "id": "2bc2299a-4f7c-44d2-9ce4-4359c73a3f50",
   "metadata": {},
   "source": [
    "In this model calss, the `self.compile` method that sets up the structure of the model goes through three steps; we go through them in turn here."
   ]
  },
  {
   "cell_type": "markdown",
   "id": "4b13a467-ae15-47ee-a197-604d77e6584f",
   "metadata": {},
   "source": [
    "####  *i)* Fundamentals - `self.compileMaps()`"
   ]
  },
  {
   "cell_type": "markdown",
   "id": "2a0b618b-5386-41a1-b1ba-19ddffa71cb0",
   "metadata": {},
   "source": [
    "The `self.compileMaps` starts by declaring domains of variables (`self.initArgs_v`), equality constraints (`self.initArgs_eq`), and inequality constraints (`self.initArgs_ub`). In this model, we have:\n",
    "* Two variables: `generation` ($E_i$) defined over the index `idxGen` ($i$).\n",
    "* One constraint: `equilibrium` which is a scalar constraint (index `None`).\n",
    "\n",
    "Note that we include the auxiliary calculation for marginal costs $c_i$ outside the linear programming system; we revisit this below."
   ]
  },
  {
   "cell_type": "markdown",
   "id": "46204b94-7d8c-4679-ba2f-ea118c6d63cd",
   "metadata": {},
   "source": [
    "With this structure in place, the `self.compileMaps` method then applies `self.sys.compileMaps` which establishes the global indices for variables and constraints: "
   ]
  },
  {
   "cell_type": "code",
   "execution_count": 4,
   "id": "44f8c847-87b0-4ff5-8f24-6c66d8fce189",
   "metadata": {},
   "outputs": [],
   "source": [
    "m.compileMaps()"
   ]
  },
  {
   "cell_type": "markdown",
   "id": "2e570711-c054-44c2-a77c-165d4290778c",
   "metadata": {},
   "source": [
    "####  *ii)* Auxiliary calculations - `self.updateAux`"
   ]
  },
  {
   "cell_type": "markdown",
   "id": "0f2429b0-e5cc-4f9e-b3d7-dfd65b24457d",
   "metadata": {},
   "source": [
    "In the next step, we compute auxiliary variables. For this model, that means adding marginal costs `mc` to the `self.db` (following equation for $c_i$ above). "
   ]
  },
  {
   "cell_type": "code",
   "execution_count": 5,
   "id": "61b986e6-bfa7-4388-887e-f350726f0bb9",
   "metadata": {},
   "outputs": [
    {
     "data": {
      "text/plain": [
       "idxGen\n",
       "biomass    14.00\n",
       "coal       22.66\n",
       "natgas     27.84\n",
       "nuclear     2.15\n",
       "solar       1.00\n",
       "dtype: float64"
      ]
     },
     "execution_count": 5,
     "metadata": {},
     "output_type": "execute_result"
    }
   ],
   "source": [
    "m.updateAux()\n",
    "m.db['mc'].v.head()"
   ]
  },
  {
   "cell_type": "markdown",
   "id": "2f7393b7-5522-47b7-9199-70a64987a253",
   "metadata": {},
   "source": [
    "We implement this as a standard method in the class because we expect many scenarios likely involve recomputing this object. "
   ]
  },
  {
   "cell_type": "markdown",
   "id": "71165972-5134-4cff-87a9-e550f42015b4",
   "metadata": {},
   "source": [
    "####  *iii)* Specify parameters for `LPSys` - `self.compileParams`"
   ]
  },
  {
   "cell_type": "markdown",
   "id": "93633204-7f3e-476f-b61c-c1b08378ff13",
   "metadata": {},
   "source": [
    "We specify the parameters for the `LPSys` method going through (1) adding coefficients on variables (`c`, `u`, `l`), (2) equality constraints (`A_eq`, `b_eq`), and (3) inequality constraints (`A_ub`, `b_ub`)."
   ]
  },
  {
   "cell_type": "markdown",
   "id": "a501ecc8-433e-4f1c-b3c9-45803b89264e",
   "metadata": {},
   "source": [
    "**Coefficients on variables:**"
   ]
  },
  {
   "cell_type": "markdown",
   "id": "ad770b3c-338f-426e-a38a-2b18aa1c0fe1",
   "metadata": {},
   "source": [
    "In our model, we have two variables to solve for `generation` and `demand`. We specify the coefficients (`c`, `l`, `u`) for each of the variables using methods with syntax `f'self.initArgsV_{k}'` with `k` representing the variable name (from `self.sys.v`). Specifically, we call the following:\n",
    "```python\n",
    "    [getattr(self, f'initArgsV_{k}')() for k in self.sys.v]; # specify c,l,u for all variables\n",
    "```\n",
    "Thus, if we extend the model with a new variable, we add it to `self.sys.v` (specify its domains) and add a method `self.initArgsV_{k}` that specifies the costs, lower bound, and upper bound. Given this, the `self.compile` method automatically includes this."
   ]
  },
  {
   "cell_type": "markdown",
   "id": "15728d8c-8e21-472e-968f-86a54b8945ad",
   "metadata": {},
   "source": [
    "For the `generation` variable, for instance, we add the following:\n",
    "\n",
    "```python\n",
    "def initArgsV_generation(self):\n",
    "\tself.sys.lp['c'][('mc', 'generation')] = self.db('mc') \n",
    "\tself.sys.lp['u'][('genCap', 'generation')] = self.db('genCap') \n",
    "```\n",
    "We do not specify a lower bound, as the default is simply zero here."
   ]
  },
  {
   "cell_type": "markdown",
   "id": "7d8135c1-cae0-4879-9066-fe266a3a9f9e",
   "metadata": {},
   "source": [
    "**Equality constraints:**"
   ]
  },
  {
   "cell_type": "markdown",
   "id": "74db9433-6e41-4b7b-96a9-45a679c376cd",
   "metadata": {},
   "source": [
    "Variational constraints (equality/inequality) are added in a similar manner as the coefficients on parameters:for equality constraints, we iterate through methods following a specific syntax `f'self.initArgsEq_{k}'`where `k` represents the specific constraint (from `self.sys.eq`). For inequality constraints, we simply replace `eq` with `ub`."
   ]
  },
  {
   "cell_type": "markdown",
   "id": "b3acfd9f-fa53-4cca-bad4-fdbb5615c904",
   "metadata": {},
   "source": [
    "In this model, we have a single variational constraint in this model, namely the `equilibrium` one. Here we simply add:\n",
    "```python\n",
    "def initArgsEq_equilibrium(self):\n",
    "\tself.sys.lazyA('eq2Gen', series = 1,  v = 'generation', constr = 'equilibrium',attr='eq')\n",
    "\tself.sys.lazyA('eq2Dem', series = -1, v = 'demand', constr = 'equilibrium',attr='eq')\n",
    "```\n",
    "We rely on the `lazyA` method for adding the coefficients on `generation` and `demand`; this broadcasts the scalars (1 and -1, respectively) to the full domain of the constraint/variable. If the constraint requires a constant different from zero, we would have added it here to the `self.sys.lp['b_eq']` structure. Without adding any, the compiler defaults to zero. "
   ]
  },
  {
   "cell_type": "markdown",
   "id": "664bb343-116e-40fd-a52b-01e8038fc076",
   "metadata": {},
   "source": [
    "The `self.compileParams` sets up the structure and returns the `self.sys.out` that can be passed to the linear programming solver: "
   ]
  },
  {
   "cell_type": "code",
   "execution_count": 6,
   "id": "2befcf66-1b1b-4b0d-9c7e-0f01185157d6",
   "metadata": {},
   "outputs": [
    {
     "data": {
      "text/plain": [
       "{'c': array([  1.  ,   1.  ,   2.15,  14.  ,  27.84,  22.66, -30.  , -25.  ]),\n",
       " 'A_ub': <COOrdinate sparse array of dtype 'float64'\n",
       " \twith 0 stored elements and shape (0, 8)>,\n",
       " 'b_ub': array([], dtype=float64),\n",
       " 'A_eq': <COOrdinate sparse array of dtype 'int64'\n",
       " \twith 8 stored elements and shape (1, 8)>,\n",
       " 'b_eq': array([0.]),\n",
       " 'bounds': array([[   0.,  720.],\n",
       "        [   0.,  360.],\n",
       "        [   0., 3600.],\n",
       "        [   0.,  180.],\n",
       "        [   0., 1440.],\n",
       "        [   0., 2880.],\n",
       "        [   0., 2000.],\n",
       "        [   0., 7000.]])}"
      ]
     },
     "execution_count": 6,
     "metadata": {},
     "output_type": "execute_result"
    }
   ],
   "source": [
    "m.compileParams()"
   ]
  },
  {
   "cell_type": "markdown",
   "id": "dc9cca2f-94ef-4171-8f69-aae1a539e29c",
   "metadata": {},
   "source": [
    "### C. Post solution routine - `self.postSolve`"
   ]
  },
  {
   "cell_type": "markdown",
   "id": "8a01231c-b51f-4750-a3c8-58a73eb042a4",
   "metadata": {},
   "source": [
    "The steps above can be summarized by the following two calls:"
   ]
  },
  {
   "cell_type": "code",
   "execution_count": 8,
   "id": "4789e689-a920-40ec-b04e-1a34827efe91",
   "metadata": {},
   "outputs": [],
   "source": [
    "m.compile()\n",
    "sol = m.solve()"
   ]
  },
  {
   "cell_type": "markdown",
   "id": "05f2a69d-acbc-4c27-b42c-423d473686ea",
   "metadata": {},
   "source": [
    "The `sol` is the solution object returned from `scipy.optimize.linprog`. Note that the `self.solve` includes an assertion that `sol['status'] == 0`, i.e. it raises an error if the optimization is not successful. For this model, we implement the following small `postSolve` routine:\n",
    "```python\n",
    "def postSolve(self, sol, **kwargs):\n",
    "\tsolDict = super().postSolve(sol)\n",
    "\tsolDict['surplus'] = -sol['fun']\n",
    "\tsolDict['fuelCons'] = fuelConsumption(solDict['generation'], self.db('uFuel'))\n",
    "\tsolDict['emissions'] = emissionsFuel(solDict['fuelCons'], self.db('uEm'))\n",
    "\treturn solDict\n",
    "```"
   ]
  },
  {
   "cell_type": "markdown",
   "id": "a6c12d92-2f14-402c-9e22-94325200fbe9",
   "metadata": {},
   "source": [
    "Recall that the parent class (`ModelShell`) simply returns a dictionary with solution variables (`generation`, `demand`) and dual variables for variational constrains and domain constraints. On top of this, we add three variables: (1) A surplus, (2) fuel consumption, and (3) emissions. The `fuelConsumption` and `emissionsFuel` statements refer to locally defined functions. The solution from this statement:"
   ]
  },
  {
   "cell_type": "code",
   "execution_count": 11,
   "id": "9f456cbc-287b-4d99-aa7f-6b2071992767",
   "metadata": {},
   "outputs": [
    {
     "data": {
      "text/plain": [
       "dict_keys(['generation', 'demand', 'λeq_equilibrium', 'λl_generation', 'λl_demand', 'λu_generation', 'λu_demand', 'surplus', 'fuelCons', 'emissions'])"
      ]
     },
     "execution_count": 11,
     "metadata": {},
     "output_type": "execute_result"
    }
   ],
   "source": [
    "solDict = m.postSolve(sol)\n",
    "solDict.keys()"
   ]
  },
  {
   "cell_type": "markdown",
   "id": "e78d8a7f-6740-41e4-aad6-23b9fb8fdf41",
   "metadata": {},
   "source": [
    "If we want, we can add this directly to our database in `self.db` by calling the `self.postSolveToDB` instead; this draws directly on our customized `self.postSolve` routine and so, we automatically get the new variables with us here:"
   ]
  },
  {
   "cell_type": "code",
   "execution_count": 14,
   "id": "0c3b4393-bb86-405a-8181-dbabaa6542d7",
   "metadata": {},
   "outputs": [
    {
     "data": {
      "text/plain": [
       "idxGen\n",
       "wind        720.0\n",
       "solar       360.0\n",
       "nuclear    3600.0\n",
       "biomass     180.0\n",
       "natgas        0.0\n",
       "Name: generation, dtype: float64"
      ]
     },
     "execution_count": 14,
     "metadata": {},
     "output_type": "execute_result"
    }
   ],
   "source": [
    "m.postSolveToDB(sol) # add solution to internal daatbase instead\n",
    "m.db('generation').head() # look at solution for a bit"
   ]
  },
  {
   "cell_type": "markdown",
   "id": "50788f5c-ed01-400c-b25d-ba782307f416",
   "metadata": {},
   "source": [
    "## 3. `lazyLoop` shocks"
   ]
  },
  {
   "cell_type": "markdown",
   "id": "96850578-16de-408c-b04c-e66a74c21376",
   "metadata": {},
   "source": [
    "Finally, we showcase the `self.lazyLoop` method that is also added to the `ModelShell` class. The loop goes through four steps: (1) Update database values from specified grids, (2) compile model again from scratch, (3) solve, (4) save post-solve routine to dict. \n",
    "\n",
    "We refer to this as a \"lazy\" loop, because it allows us to do a lot with small bits of code, but it spends unnecessary time recompiling the entire model from scratch; recall that once the model is compiled, the `self.sys.out` dictionary stores the relevant arguments that we need to pass to a solver. Often, the shock/simulation we have in mind can be carried out by simply adjusting selected elements in `self.sys.out` and then resolving. "
   ]
  },
  {
   "cell_type": "code",
   "execution_count": 22,
   "id": "814f7d9c-a60f-4fc6-9cda-ad288eaf9d81",
   "metadata": {},
   "outputs": [
    {
     "data": {
      "text/plain": [
       "dict_keys(['idxGen', 'idxF', 'idxEm', 'idxCons', 'pFuel', 'uEm', 'VOM', 'uFuel', 'taxEm', 'genCap', 'mwp', 'load', '__meta__'])"
      ]
     },
     "execution_count": 22,
     "metadata": {},
     "output_type": "execute_result"
    }
   ],
   "source": [
    "data.keys()"
   ]
  },
  {
   "cell_type": "markdown",
   "id": "882f4b90-d52a-4e8b-bca9-c22d9bf3cd7b",
   "metadata": {},
   "source": [
    "As an example, let us say that we want to see how the model depends on the cost of emissions. This is captured by a parameter `taxEm` which enters the model through the marginal cost of generators. We set up a loop with 10 different values, from 0 to 100 (unit here is €/ton CO2), solve the model for each level and extract the solution in a dictionary with dataframes:"
   ]
  },
  {
   "cell_type": "markdown",
   "id": "a6cbfe29-e683-4c05-9a46-cf8e394274c8",
   "metadata": {},
   "source": [
    "*Set up grid:*"
   ]
  },
  {
   "cell_type": "code",
   "execution_count": 31,
   "id": "20487329-7a63-4375-acd8-f1d2d1e80aa7",
   "metadata": {},
   "outputs": [
    {
     "data": {
      "text/plain": [
       "loop  idxEm\n",
       "0     CO2       0.000000\n",
       "1     CO2      11.111111\n",
       "2     CO2      22.222222\n",
       "3     CO2      33.333333\n",
       "4     CO2      44.444444\n",
       "Name: taxEm, dtype: float64"
      ]
     },
     "execution_count": 31,
     "metadata": {},
     "output_type": "execute_result"
    }
   ],
   "source": [
    "name = 'taxEm'\n",
    "idxLoop = pd.Index(range(10), name = 'loop')\n",
    "v0, vT = pd.Series(0, index = m.db(name).index), pd.Series(100, index = m.db(name).index)\n",
    "grid = adjMultiIndex.addGrid(v0, vT, idxLoop,name)\n",
    "grid.head()"
   ]
  },
  {
   "cell_type": "markdown",
   "id": "c0ce9405-d0ae-4e57-882b-d14644a8bc5a",
   "metadata": {},
   "source": [
    "*Run loop and extract solution in dictionary of dataframes:*"
   ]
  },
  {
   "cell_type": "code",
   "execution_count": 36,
   "id": "574e1bb7-6337-40d3-9332-d0aae46958ef",
   "metadata": {},
   "outputs": [],
   "source": [
    "solDFs = m.lazyLoopAsDFs(grid, idxLoop)"
   ]
  },
  {
   "cell_type": "markdown",
   "id": "d519d9a9-ec50-47c5-a036-c2d483c7b65e",
   "metadata": {},
   "source": [
    "*Look at optimal generation as a function of the tax:*"
   ]
  },
  {
   "cell_type": "code",
   "execution_count": 43,
   "id": "3bd3ff87-a1c0-4e1b-a462-23458d2c0f53",
   "metadata": {},
   "outputs": [
    {
     "data": {
      "text/html": [
       "<div>\n",
       "<style scoped>\n",
       "    .dataframe tbody tr th:only-of-type {\n",
       "        vertical-align: middle;\n",
       "    }\n",
       "\n",
       "    .dataframe tbody tr th {\n",
       "        vertical-align: top;\n",
       "    }\n",
       "\n",
       "    .dataframe thead th {\n",
       "        text-align: right;\n",
       "    }\n",
       "</style>\n",
       "<table border=\"1\" class=\"dataframe\">\n",
       "  <thead>\n",
       "    <tr style=\"text-align: right;\">\n",
       "      <th>loop</th>\n",
       "      <th>0</th>\n",
       "      <th>1</th>\n",
       "      <th>2</th>\n",
       "      <th>3</th>\n",
       "      <th>4</th>\n",
       "      <th>5</th>\n",
       "      <th>6</th>\n",
       "      <th>7</th>\n",
       "      <th>8</th>\n",
       "      <th>9</th>\n",
       "    </tr>\n",
       "    <tr>\n",
       "      <th>idxGen</th>\n",
       "      <th></th>\n",
       "      <th></th>\n",
       "      <th></th>\n",
       "      <th></th>\n",
       "      <th></th>\n",
       "      <th></th>\n",
       "      <th></th>\n",
       "      <th></th>\n",
       "      <th></th>\n",
       "      <th></th>\n",
       "    </tr>\n",
       "  </thead>\n",
       "  <tbody>\n",
       "    <tr>\n",
       "      <th>wind</th>\n",
       "      <td>720.0</td>\n",
       "      <td>720.0</td>\n",
       "      <td>720.0</td>\n",
       "      <td>720.0</td>\n",
       "      <td>720.0</td>\n",
       "      <td>720.0</td>\n",
       "      <td>720.0</td>\n",
       "      <td>720.0</td>\n",
       "      <td>720.0</td>\n",
       "      <td>720.0</td>\n",
       "    </tr>\n",
       "    <tr>\n",
       "      <th>solar</th>\n",
       "      <td>360.0</td>\n",
       "      <td>360.0</td>\n",
       "      <td>360.0</td>\n",
       "      <td>360.0</td>\n",
       "      <td>360.0</td>\n",
       "      <td>360.0</td>\n",
       "      <td>360.0</td>\n",
       "      <td>360.0</td>\n",
       "      <td>360.0</td>\n",
       "      <td>360.0</td>\n",
       "    </tr>\n",
       "    <tr>\n",
       "      <th>nuclear</th>\n",
       "      <td>3600.0</td>\n",
       "      <td>3600.0</td>\n",
       "      <td>3600.0</td>\n",
       "      <td>3600.0</td>\n",
       "      <td>3600.0</td>\n",
       "      <td>3600.0</td>\n",
       "      <td>3600.0</td>\n",
       "      <td>3600.0</td>\n",
       "      <td>3600.0</td>\n",
       "      <td>3600.0</td>\n",
       "    </tr>\n",
       "    <tr>\n",
       "      <th>biomass</th>\n",
       "      <td>180.0</td>\n",
       "      <td>180.0</td>\n",
       "      <td>180.0</td>\n",
       "      <td>180.0</td>\n",
       "      <td>180.0</td>\n",
       "      <td>180.0</td>\n",
       "      <td>180.0</td>\n",
       "      <td>180.0</td>\n",
       "      <td>180.0</td>\n",
       "      <td>180.0</td>\n",
       "    </tr>\n",
       "    <tr>\n",
       "      <th>natgas</th>\n",
       "      <td>1260.0</td>\n",
       "      <td>1260.0</td>\n",
       "      <td>1260.0</td>\n",
       "      <td>0.0</td>\n",
       "      <td>0.0</td>\n",
       "      <td>0.0</td>\n",
       "      <td>0.0</td>\n",
       "      <td>0.0</td>\n",
       "      <td>0.0</td>\n",
       "      <td>0.0</td>\n",
       "    </tr>\n",
       "  </tbody>\n",
       "</table>\n",
       "</div>"
      ],
      "text/plain": [
       "loop          0       1       2       3       4       5       6       7  \\\n",
       "idxGen                                                                    \n",
       "wind      720.0   720.0   720.0   720.0   720.0   720.0   720.0   720.0   \n",
       "solar     360.0   360.0   360.0   360.0   360.0   360.0   360.0   360.0   \n",
       "nuclear  3600.0  3600.0  3600.0  3600.0  3600.0  3600.0  3600.0  3600.0   \n",
       "biomass   180.0   180.0   180.0   180.0   180.0   180.0   180.0   180.0   \n",
       "natgas   1260.0  1260.0  1260.0     0.0     0.0     0.0     0.0     0.0   \n",
       "\n",
       "loop          8       9  \n",
       "idxGen                   \n",
       "wind      720.0   720.0  \n",
       "solar     360.0   360.0  \n",
       "nuclear  3600.0  3600.0  \n",
       "biomass   180.0   180.0  \n",
       "natgas      0.0     0.0  "
      ]
     },
     "execution_count": 43,
     "metadata": {},
     "output_type": "execute_result"
    }
   ],
   "source": [
    "solDFs['generation'].head()"
   ]
  }
 ],
 "metadata": {
  "kernelspec": {
   "display_name": "Python 3 (ipykernel)",
   "language": "python",
   "name": "python3"
  },
  "language_info": {
   "codemirror_mode": {
    "name": "ipython",
    "version": 3
   },
   "file_extension": ".py",
   "mimetype": "text/x-python",
   "name": "python",
   "nbconvert_exporter": "python",
   "pygments_lexer": "ipython3",
   "version": "3.13.5"
  }
 },
 "nbformat": 4,
 "nbformat_minor": 5
}
