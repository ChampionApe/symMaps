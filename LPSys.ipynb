{
 "cells": [
  {
   "cell_type": "code",
   "execution_count": 1,
   "id": "80aa1a90-ee11-413f-bb4e-7cfe42a60359",
   "metadata": {},
   "outputs": [],
   "source": [
    "import numpy as np, scipy, pandas as pd\n",
    "from scipy import stats\n",
    "rng = np.random.default_rng(seed = 105)\n",
    "stats.truncnorm.random_state = rng\n",
    "from symMaps.__init__ import *\n",
    "from symMaps.lpSys import _adjF\n",
    "_numtypes = (int,float,np.generic)"
   ]
  },
  {
   "cell_type": "markdown",
   "id": "15de934b-e16c-4c76-8000-910b89a47935",
   "metadata": {},
   "source": [
    "# LPSys"
   ]
  },
  {
   "cell_type": "markdown",
   "id": "31994030-6aaa-4222-93a9-0a1c999ff36c",
   "metadata": {},
   "source": [
    "The ```LPSys``` is designed for Linear Programming problems."
   ]
  },
  {
   "cell_type": "code",
   "execution_count": 2,
   "id": "81a7d43d-e227-43ac-bbfa-4d5e19a5ce1b",
   "metadata": {},
   "outputs": [],
   "source": [
    "self = LPSys()"
   ]
  },
  {
   "cell_type": "markdown",
   "id": "7d27fc5b-19df-4cff-be7b-a9a2ff1cccc3",
   "metadata": {},
   "source": [
    "Add some time indices:"
   ]
  },
  {
   "cell_type": "code",
   "execution_count": 3,
   "id": "cc1430c3-4eca-48b0-a892-bf2299ad3820",
   "metadata": {},
   "outputs": [],
   "source": [
    "t = pd.Index(range(2), name = 't')\n",
    "i = pd.Index(range(10,13), name = 'i')\n",
    "j = pd.Index(range(20,24), name = 'j')"
   ]
  },
  {
   "cell_type": "markdown",
   "id": "954cf4b5-5841-42cb-942d-52bb52304f19",
   "metadata": {},
   "source": [
    "Add some variables defined over these indices:"
   ]
  },
  {
   "cell_type": "code",
   "execution_count": 4,
   "id": "2e3d000d-aa37-4313-b44d-476241b49578",
   "metadata": {},
   "outputs": [],
   "source": [
    "self.v = {'x': t,\n",
    "          'y': pd.MultiIndex.from_product([t,i]),\n",
    "          'z': CPI([pd.MultiIndex.from_product([t,i]), j]),\n",
    "          'k': None} # scalar"
   ]
  },
  {
   "cell_type": "markdown",
   "id": "83bf007c-dbc5-469f-96d7-3d632a75a8fa",
   "metadata": {},
   "source": [
    "## 1. Add 1d coefficients"
   ]
  },
  {
   "cell_type": "markdown",
   "id": "cbf354ca-c98e-42ea-8e7e-cb452061e0db",
   "metadata": {},
   "source": [
    "Coefficients are added as ```GpyDict``` instances. These store dictionaries of ```Gpy``` symbols. We add by specifying (name, parameter) where:"
   ]
  },
  {
   "cell_type": "markdown",
   "id": "70c92782-5320-4fc0-9244-c66cb4b8c7f1",
   "metadata": {},
   "source": [
    "*Example: Specify that cost parameter on part of 'x' is just ones* "
   ]
  },
  {
   "cell_type": "code",
   "execution_count": 5,
   "id": "08723d1b-1bb8-476f-bac4-bfb130711a0f",
   "metadata": {},
   "outputs": [],
   "source": [
    "self.lp['c'][('x[t=0]','x')] = pd.Series(1, index = t[0:1]) # Note: The first entry is a unique identifier, the second identifies name of gpy"
   ]
  },
  {
   "cell_type": "markdown",
   "id": "dfe47a6c-52e6-4435-82db-2dfb38bbde15",
   "metadata": {},
   "source": [
    "*Example: Specify a parameter for the scalar variable 'k'.*"
   ]
  },
  {
   "cell_type": "code",
   "execution_count": 6,
   "id": "d03cb5e2-e3f4-465d-a48e-3d6f8b6a75a9",
   "metadata": {},
   "outputs": [],
   "source": [
    "self.lp['c']['k'] = 10 # Note: For scalars, the key has to match the symbol name in self.v"
   ]
  },
  {
   "cell_type": "code",
   "execution_count": 49,
   "id": "d974fe47-c873-4c91-ac29-4bf8179be7d3",
   "metadata": {},
   "outputs": [],
   "source": [
    "self.db['k'] = 10"
   ]
  },
  {
   "cell_type": "code",
   "execution_count": 58,
   "id": "dc499832-cc43-488b-9f24-a40ce45cf8c2",
   "metadata": {},
   "outputs": [],
   "source": [
    "idxF = pd.Index(['coal','natgas','biomass'], name = 'idxF')\n",
    "idxEm = pd.Index(['CO2'], name = 'idxEm')\n",
    "pFuel = pd.Series(np.random.uniform(0,1,len(idxF)), index = idxF)\n",
    "μEm = pd.Series(np.random.uniform(1,2,len(idxF)), index = pd.MultiIndex.from_product([idxF, idxEm]))\n",
    "τEm = pd.Series(10, index = idxEm)"
   ]
  },
  {
   "cell_type": "code",
   "execution_count": null,
   "id": "5f7447a9-34fe-44e4-b704-ec35a5d5e0f5",
   "metadata": {},
   "outputs": [],
   "source": []
  },
  {
   "cell_type": "code",
   "execution_count": 66,
   "id": "6f685362-723b-414b-9b46-452172e219e7",
   "metadata": {},
   "outputs": [
    {
     "data": {
      "text/plain": [
       "idxF\n",
       "biomass    12.681848\n",
       "coal       16.458878\n",
       "natgas     18.817524\n",
       "dtype: float64"
      ]
     },
     "execution_count": 66,
     "metadata": {},
     "output_type": "execute_result"
    }
   ],
   "source": [
    "(μEm * τEm).groupby('idxF').sum()"
   ]
  },
  {
   "cell_type": "code",
   "execution_count": 59,
   "id": "8781c2ef-b42c-4c4d-987f-a7b2cb0a0355",
   "metadata": {},
   "outputs": [
    {
     "data": {
      "text/plain": [
       "idxF\n",
       "coal       0.391235\n",
       "natgas     0.045268\n",
       "biomass    0.944347\n",
       "dtype: float64"
      ]
     },
     "execution_count": 59,
     "metadata": {},
     "output_type": "execute_result"
    }
   ],
   "source": [
    "pFuel "
   ]
  },
  {
   "cell_type": "code",
   "execution_count": 51,
   "id": "ef34b4e5-aa7e-4e04-bda6-290138807b0f",
   "metadata": {},
   "outputs": [
    {
     "data": {
      "text/plain": [
       "10"
      ]
     },
     "execution_count": 51,
     "metadata": {},
     "output_type": "execute_result"
    }
   ],
   "source": [
    "self.db('k')"
   ]
  },
  {
   "cell_type": "markdown",
   "id": "1514b2c5-f6a3-4ef0-b323-1a07a6e06a57",
   "metadata": {},
   "source": [
    "*Note: We can also add a scalar condition by defining a ```Gpy``` instance with name 'k' and then add with a different key. Or we can add as a tuple:*"
   ]
  },
  {
   "cell_type": "code",
   "execution_count": 7,
   "id": "509e0948-fdd7-47ff-8e3e-2534af00f14d",
   "metadata": {},
   "outputs": [],
   "source": [
    "self.lp['c']['otherNameForK'] = Gpy.c(10, name = 'k') # in this case, we specify separately that the Gpy symbol should have the name 'k', so the key in the GpyDict can be anything.\n",
    "self.lp['c'][('otherNameForK','k')] = 10 # equivalent to statement above\n",
    "self.lp['c'].__delitem__('otherNameForK') # remove again (we have already added it properly above)."
   ]
  },
  {
   "cell_type": "markdown",
   "id": "2a46ce45-ab10-4512-812d-e94afbda4e2a",
   "metadata": {},
   "source": [
    "*Example*: Add full vector for $x$"
   ]
  },
  {
   "cell_type": "code",
   "execution_count": 8,
   "id": "f16f6eee-226c-4e1d-83d7-fef224019aa9",
   "metadata": {},
   "outputs": [],
   "source": [
    "self.lp['c']['x'] = pd.Series(np.random.uniform(0, 1, len(self.v['x'])), index = self.v['x'], name = 'x')"
   ]
  },
  {
   "cell_type": "markdown",
   "id": "4ffc60e4-a85c-48cd-8bbb-0ab7322970f4",
   "metadata": {},
   "source": [
    "*Example*: Add partial vector for $z$. This leaves the rest of the model sparse."
   ]
  },
  {
   "cell_type": "code",
   "execution_count": 9,
   "id": "7144c4d6-31ec-4602-b40b-2770bead1987",
   "metadata": {},
   "outputs": [],
   "source": [
    "self.lp['c'][('zPart1','z')] = pd.Series(np.random.uniform(1, 2, 10), index = self.v['z'][:10])"
   ]
  },
  {
   "cell_type": "markdown",
   "id": "6d903180-ebca-4733-87b1-c0f1aacf7149",
   "metadata": {},
   "source": [
    "**Compilation:**"
   ]
  },
  {
   "cell_type": "markdown",
   "id": "568d6dfa-1bd8-4830-a973-c5375ab38341",
   "metadata": {},
   "source": [
    "Create mapping from pandas indices declared in  ```self.v``` to the global index (of stacked variables). This is stored in ```self.maps['v']```:"
   ]
  },
  {
   "cell_type": "code",
   "execution_count": 10,
   "id": "24201255-90f7-41ce-889a-7d92b45f1b80",
   "metadata": {},
   "outputs": [
    {
     "data": {
      "text/plain": [
       "t  i \n",
       "0  10    2\n",
       "   11    3\n",
       "   12    4\n",
       "1  10    5\n",
       "   11    6\n",
       "   12    7\n",
       "dtype: int64"
      ]
     },
     "execution_count": 10,
     "metadata": {},
     "output_type": "execute_result"
    }
   ],
   "source": [
    "self.compileMaps() # c\n",
    "self.maps['v']['y'] # mapping from pandas domains of symbol 'y' to global integer index (indices 2-7 in the global index)."
   ]
  },
  {
   "cell_type": "markdown",
   "id": "fc352b48-9539-48e7-9e31-2a2c9a0b5d3a",
   "metadata": {},
   "source": [
    "We set up vector of coefficients $c$ by calling:"
   ]
  },
  {
   "cell_type": "code",
   "execution_count": 11,
   "id": "ca2b204c-ed62-49f0-8a6d-6383ca7698cd",
   "metadata": {},
   "outputs": [
    {
     "data": {
      "text/plain": [
       "array([ 0.63831963,  0.09743627,  0.        ,  0.        ,  0.        ,\n",
       "        0.        ,  0.        ,  0.        ,  1.56342536,  1.82343967,\n",
       "        1.18324424,  1.03287169,  1.93089709,  1.26348467,  1.99317248,\n",
       "        1.87441603,  1.77581215,  1.50697846,  0.        ,  0.        ,\n",
       "        0.        ,  0.        ,  0.        ,  0.        ,  0.        ,\n",
       "        0.        ,  0.        ,  0.        ,  0.        ,  0.        ,\n",
       "        0.        ,  0.        , 10.        ])"
      ]
     },
     "execution_count": 11,
     "metadata": {},
     "output_type": "execute_result"
    }
   ],
   "source": [
    "self.compileParams()\n",
    "self.out['c']"
   ]
  },
  {
   "cell_type": "markdown",
   "id": "076b9d8c-9822-4e76-b807-543ffa9b2b1a",
   "metadata": {},
   "source": [
    "#### Bounds:"
   ]
  },
  {
   "cell_type": "markdown",
   "id": "d780b233-6705-4753-87f4-f3cb50564fd0",
   "metadata": {},
   "source": [
    "Bounds are defined in exact same way as cost coefficients."
   ]
  },
  {
   "cell_type": "markdown",
   "id": "25127c78-1518-45c5-ab0e-9f71dae47053",
   "metadata": {},
   "source": [
    "*Lower bound on some variable*"
   ]
  },
  {
   "cell_type": "code",
   "execution_count": 12,
   "id": "83547205-8d9c-442c-847c-fe8954d66bd5",
   "metadata": {},
   "outputs": [],
   "source": [
    "self.lp['l']['x'] = pd.Series(1, index = t, name = 'x')"
   ]
  },
  {
   "cell_type": "markdown",
   "id": "457235b7-9d1e-40ac-ab1e-95cb0d5a549a",
   "metadata": {},
   "source": [
    "*Similar for upper bound:*"
   ]
  },
  {
   "cell_type": "code",
   "execution_count": 13,
   "id": "081a6c2e-a344-4202-9aaf-ef89711078e6",
   "metadata": {
    "scrolled": true
   },
   "outputs": [
    {
     "data": {
      "text/plain": [
       "<COOrdinate sparse array of dtype 'int64'\n",
       "\twith 22 stored elements and shape (33, 2)>"
      ]
     },
     "execution_count": 13,
     "metadata": {},
     "output_type": "execute_result"
    }
   ],
   "source": [
    "self.lp['u'][('zPart2','z')] = pd.Series(100, index = self.v['z'][:20])\n",
    "self.sparse_bounds()"
   ]
  },
  {
   "cell_type": "markdown",
   "id": "9bb95428-37f4-475c-9713-e4a0dbb3cd5f",
   "metadata": {},
   "source": [
    "Or dense versions:"
   ]
  },
  {
   "cell_type": "code",
   "execution_count": 14,
   "id": "be07086b-00be-48a4-8384-4593cec5e3fc",
   "metadata": {
    "scrolled": true
   },
   "outputs": [
    {
     "data": {
      "text/plain": [
       "array([[  1.,  nan],\n",
       "       [  1.,  nan],\n",
       "       [ nan,  nan],\n",
       "       [ nan,  nan],\n",
       "       [ nan,  nan],\n",
       "       [ nan,  nan],\n",
       "       [ nan,  nan],\n",
       "       [ nan,  nan],\n",
       "       [ nan, 100.],\n",
       "       [ nan, 100.],\n",
       "       [ nan, 100.],\n",
       "       [ nan, 100.],\n",
       "       [ nan, 100.],\n",
       "       [ nan, 100.],\n",
       "       [ nan, 100.],\n",
       "       [ nan, 100.],\n",
       "       [ nan, 100.],\n",
       "       [ nan, 100.],\n",
       "       [ nan, 100.],\n",
       "       [ nan, 100.],\n",
       "       [ nan, 100.],\n",
       "       [ nan, 100.],\n",
       "       [ nan, 100.],\n",
       "       [ nan, 100.],\n",
       "       [ nan, 100.],\n",
       "       [ nan, 100.],\n",
       "       [ nan, 100.],\n",
       "       [ nan, 100.],\n",
       "       [ nan,  nan],\n",
       "       [ nan,  nan],\n",
       "       [ nan,  nan],\n",
       "       [ nan,  nan],\n",
       "       [ nan,  nan]])"
      ]
     },
     "execution_count": 14,
     "metadata": {},
     "output_type": "execute_result"
    }
   ],
   "source": [
    "self.dense_bounds()"
   ]
  },
  {
   "cell_type": "markdown",
   "id": "b8b8e47c-677b-47b9-b556-38e81cafcabd",
   "metadata": {},
   "source": [
    "#### Constants $b_{eq}$ and $b_{ub}$:"
   ]
  },
  {
   "cell_type": "markdown",
   "id": "8a75f5b0-497a-4b27-8b3a-8d83fe5d1a2b",
   "metadata": {},
   "source": [
    "Added in exactly the same way as other 1d coefficients."
   ]
  },
  {
   "cell_type": "markdown",
   "id": "dffeef8b-7f3f-4738-9bf9-35e5e4f0ffb6",
   "metadata": {},
   "source": [
    "## 2. Matrices: Adding coefficients $a_{s,p}$"
   ]
  },
  {
   "cell_type": "markdown",
   "id": "c15f277e-e67b-4b0d-b7e6-bef82f86d7c2",
   "metadata": {},
   "source": [
    "Ultimately, coefficients in matrices ```A_eq, A_ub``` are added using ```AMatrix``` instances stored in ```AMDict```. We  then move on to a couple of different ways to initialize these ```AMatrix``` coefficients. First, we add some constraints to work over:"
   ]
  },
  {
   "cell_type": "code",
   "execution_count": 15,
   "id": "ece567d6-7d7e-4213-8f0c-33c3c771e5fa",
   "metadata": {},
   "outputs": [],
   "source": [
    "self.eq = {'sclr': None,\n",
    "           'vec_t': t, # entire t index\n",
    "           'vec_tx0': t[1:], # t index except initial value\n",
    "           'vec_tj': self.v['z'].droplevel('i').unique()} # combination of t,j that is used in z index \n",
    "self.compileMaps()"
   ]
  },
  {
   "cell_type": "markdown",
   "id": "58546511-b024-4999-8de3-4f98e64c3b9f",
   "metadata": {},
   "source": [
    "### 2.1. ```AMDict```"
   ]
  },
  {
   "cell_type": "markdown",
   "id": "57436c4e-3fd3-465d-b900-5030a7cc95b8",
   "metadata": {},
   "source": [
    "```AMatrix``` instances are simple objects with 6 attributes: \n",
    "* name: (unique identifier used to navigate dictionary ```AMDict```),\n",
    "* values: np.array (or similar) with coefficients to be applied.\n",
    "* v: name of variable the cofficient applies to, \n",
    "* constr: name of constraint the coefficient applies to,\n",
    "* vIdx: ```pd.Index``` corresponding to variable domains. If None = scalar. \n",
    "* constrIdx: ```pd.Index``` corresponding to index comains. If None = scalar constraint.\n",
    "\n",
    "*Note: ```v, vIdx``` should be consistent with domains registered in ```self.v ``` and similar for (```constr, constrIdx```, in ```self.eq```).*"
   ]
  },
  {
   "cell_type": "markdown",
   "id": "64999867-b88c-4023-a7fe-b34059216aa2",
   "metadata": {},
   "source": [
    "*Example: Constrained defined over $t$, variable defined over $t,i$:*"
   ]
  },
  {
   "cell_type": "code",
   "execution_count": 16,
   "id": "4849c067-0406-4811-9e2b-571b9e41088e",
   "metadata": {},
   "outputs": [],
   "source": [
    "constr, v = 'vec_t', 'y' # names \n",
    "name = f'{constr}{v}' # unique identifier for this part\n",
    "series = pd.Series(1, index = self.v[v])\n",
    "self.initA_infer(name, series = series, v = v, constr = constr, attr = 'eq')"
   ]
  },
  {
   "cell_type": "markdown",
   "id": "d3280000-67ff-412c-8d2a-d0613ca5e13f",
   "metadata": {},
   "source": [
    "The indices for variable and constraints are stored:"
   ]
  },
  {
   "cell_type": "code",
   "execution_count": 17,
   "id": "933661d4-aac2-4052-9261-b8bcc49ce22a",
   "metadata": {},
   "outputs": [
    {
     "data": {
      "text/plain": [
       "MultiIndex([(0, 10),\n",
       "            (0, 11),\n",
       "            (0, 12),\n",
       "            (1, 10),\n",
       "            (1, 11),\n",
       "            (1, 12)],\n",
       "           names=['t', 'i'])"
      ]
     },
     "execution_count": 17,
     "metadata": {},
     "output_type": "execute_result"
    }
   ],
   "source": [
    "self.lp['A_eq'][name].vIdx"
   ]
  },
  {
   "cell_type": "code",
   "execution_count": 18,
   "id": "45df382d-5b50-4d50-b36f-765c1fe2b913",
   "metadata": {},
   "outputs": [
    {
     "data": {
      "text/plain": [
       "Index([0, 0, 0, 1, 1, 1], dtype='int64', name='t')"
      ]
     },
     "execution_count": 18,
     "metadata": {},
     "output_type": "execute_result"
    }
   ],
   "source": [
    "self.lp['A_eq'][name].constrIdx # note: Indices are not necessarily unique, but rather fits the length of the coefficient that is added "
   ]
  },
  {
   "cell_type": "code",
   "execution_count": 19,
   "id": "fb344792-0d05-4f4f-a10d-d671bab6ccf2",
   "metadata": {},
   "outputs": [
    {
     "data": {
      "text/plain": [
       "array([1, 1, 1, 1, 1, 1])"
      ]
     },
     "execution_count": 19,
     "metadata": {},
     "output_type": "execute_result"
    }
   ],
   "source": [
    "self.lp['A_eq'][name].values # note: Indices are not necessarily unique, but rather fits the length of the coefficient that is added "
   ]
  },
  {
   "cell_type": "markdown",
   "id": "b5b9b0cb-0639-48a4-a5b4-3648e7ff623c",
   "metadata": {},
   "source": [
    "*Example: Scalar constraint, random coefficients over variable $z$:*"
   ]
  },
  {
   "cell_type": "code",
   "execution_count": 20,
   "id": "9efe1957-5f5f-4cfc-a9b0-d38bf93cd11c",
   "metadata": {},
   "outputs": [],
   "source": [
    "constr, v = 'sclr', 'z'\n",
    "name = f'{constr}{v}' # unique identifier, doesn't have to be added with syntax \n",
    "series = pd.Series(1, index = self.v[v])\n",
    "self.initA_infer(name, series = series, v = v, constr = constr, attr = 'eq')"
   ]
  },
  {
   "cell_type": "markdown",
   "id": "445c75bd-557a-4596-84e1-15c6c1c78e67",
   "metadata": {},
   "source": [
    "In this case, the index represents variable domains, the constraint index is simply None:"
   ]
  },
  {
   "cell_type": "code",
   "execution_count": 21,
   "id": "26cffed0-23ea-4516-8f4f-1761fda35e47",
   "metadata": {},
   "outputs": [
    {
     "data": {
      "text/plain": [
       "True"
      ]
     },
     "execution_count": 21,
     "metadata": {},
     "output_type": "execute_result"
    }
   ],
   "source": [
    "self.lp['A_eq'][name].constrIdx is None"
   ]
  },
  {
   "cell_type": "markdown",
   "id": "e1e1178c-d0af-4768-adf5-cc2dbf670896",
   "metadata": {},
   "source": [
    "### 2.2. ```Lags and leads```"
   ]
  },
  {
   "cell_type": "markdown",
   "id": "8d8fd238-cebe-4fb6-afa7-ec0b69294f18",
   "metadata": {},
   "source": [
    "Define a parameter over the relevant domains again:"
   ]
  },
  {
   "cell_type": "code",
   "execution_count": 22,
   "id": "7156cdad-ad40-4949-8e56-0f3d6841e8c7",
   "metadata": {},
   "outputs": [],
   "source": [
    "constr, v = 'vec_tx0', 'y'\n",
    "name = f'{constr}{v}'\n",
    "series = pd.Series(np.random.uniform(0,1, len(self.v[v])), index = self.v[v])\n",
    "lag, level = 1,'t'"
   ]
  },
  {
   "cell_type": "markdown",
   "id": "9bef4e9d-06b2-44c9-8c64-d7f34f077f9f",
   "metadata": {},
   "source": [
    "The following presents a number of equivalent ways of adding this coefficient with lagged index $t-1$:"
   ]
  },
  {
   "cell_type": "markdown",
   "id": "b07228b9-9834-4ab4-9e0e-de5dee15db8a",
   "metadata": {},
   "source": [
    "*VERSION 1 (default):* Add parameter defined full index  $t\\in \\lbrace 0,1\\rbrace$. When the index is lagged\n",
    "* We do not keep parameters defined for constraint index $t=2$ (```fkeep = False```); this removes forwarded indices beyond original domains).\n",
    "* We do not keep parameters defined for constraint index $t=0$ (```bfill = False```); when the constraint index $t=0$, the parameter index evaluates to $-1$, which is not specified in the coefficient parameter. When ```bfill = False``` we drop this as well."
   ]
  },
  {
   "cell_type": "code",
   "execution_count": 23,
   "id": "bb6dea1a-2d9b-405e-a9ce-7fe1a5fd7d5a",
   "metadata": {},
   "outputs": [],
   "source": [
    "self.initA_lag(name, series, v = v, constr = constr, attr = 'eq', lag = lag, level = level, fkeep = False, bfill = False)"
   ]
  },
  {
   "cell_type": "markdown",
   "id": "5b5e870c-5d1a-4f41-95d4-dace766771a6",
   "metadata": {},
   "source": [
    "The result is that this is defined for $t=1$ for the constraint index, $t=0$ in the variable index (as it evaluates $t-1$), with values from ```series[0, i]```:"
   ]
  },
  {
   "cell_type": "code",
   "execution_count": 24,
   "id": "ebc6d7ec-3af1-40d0-97b0-7c73a504e66f",
   "metadata": {},
   "outputs": [
    {
     "data": {
      "text/plain": [
       "MultiIndex([(0, 10),\n",
       "            (0, 11),\n",
       "            (0, 12)],\n",
       "           names=['t', 'i'])"
      ]
     },
     "execution_count": 24,
     "metadata": {},
     "output_type": "execute_result"
    }
   ],
   "source": [
    "self.lp['A_eq'][name].vIdx"
   ]
  },
  {
   "cell_type": "code",
   "execution_count": 25,
   "id": "bfe4248d-bff4-437f-a603-54aa80a862f6",
   "metadata": {},
   "outputs": [
    {
     "data": {
      "text/plain": [
       "Index([1, 1, 1], dtype='int64', name='t')"
      ]
     },
     "execution_count": 25,
     "metadata": {},
     "output_type": "execute_result"
    }
   ],
   "source": [
    "self.lp['A_eq'][name].constrIdx"
   ]
  },
  {
   "cell_type": "code",
   "execution_count": 26,
   "id": "e192d6f1-ab4e-4b2b-a4de-ecb3092a9b2c",
   "metadata": {},
   "outputs": [
    {
     "data": {
      "text/plain": [
       "array([0.59853408, 0.81278364, 0.97327969])"
      ]
     },
     "execution_count": 26,
     "metadata": {},
     "output_type": "execute_result"
    }
   ],
   "source": [
    "self.lp['A_eq'][name].values"
   ]
  },
  {
   "cell_type": "markdown",
   "id": "bd905df7-2305-48a4-90a1-4da2707cfa9f",
   "metadata": {},
   "source": [
    "*VERSION 2:* Define parameter over relevant index for the variable, that is for $t = 0$ only, but keep forwarded indices (as $t=1$ maps to the correct constraint index):\n",
    "* We keep parameters defined for constraint index $t=1$ (```fkeep = True```).\n",
    "* We do not keep parameters defined for constraint index $t=0$ (```bfill = False```); when the constraint index $t=0$, the parameter index evaluates to $-1$, which is not specified in the coefficient parameter. When ```bfill = False``` we drop this as well."
   ]
  },
  {
   "cell_type": "code",
   "execution_count": 27,
   "id": "1d669da2-47ea-4e3d-8884-49fd9becdf89",
   "metadata": {},
   "outputs": [],
   "source": [
    "series_v2 = adj.rc_pd(series, t[:-1]) # don't use terminal state T\n",
    "self.initA_lag(name, series_v2, v = v, constr = constr, attr = 'eq', lag = lag, level = level, fkeep = True, bfill = False)"
   ]
  },
  {
   "cell_type": "markdown",
   "id": "75c3971e-85d1-4b63-8037-5bf5e000fffd",
   "metadata": {},
   "source": [
    "### 2.3. ```Roll index```"
   ]
  },
  {
   "cell_type": "markdown",
   "id": "6a312c6a-2335-4877-9f26-10bc8a6d9a30",
   "metadata": {},
   "source": [
    "Akin to Lead, but assumes that the index is circular. With index values (1,2,3), rolling this 1 step yields (3,1,2). As this always maps to indices in the index, we do need to take a stance on domains outside the specified ones here: "
   ]
  },
  {
   "cell_type": "code",
   "execution_count": 28,
   "id": "17ff5931-c27d-4a9e-ad39-aefe7125ce36",
   "metadata": {},
   "outputs": [],
   "source": [
    "constr = 'vec_t' # the constraint should contain all t with circular references.\n",
    "name = f'{constr}{v}'\n",
    "self.initA_roll(name, series, v=v, constr = constr, attr = 'eq', roll = -1, level = 't')"
   ]
  },
  {
   "cell_type": "markdown",
   "id": "4a21e46e-34f8-4d7f-bb2c-a3dd087d8a55",
   "metadata": {},
   "source": [
    "## 2.4. Broadcast and add"
   ]
  },
  {
   "cell_type": "markdown",
   "id": "fbeb7c96-9a73-4065-840e-03a3d9e5b8c1",
   "metadata": {},
   "source": [
    "In the examples outlined above, we added the conditions with coefficients defined over a combination of constraint and variable indices. The following specifies a more \"lazy\" way of \n",
    "adding coefficients that utilizes broadcasting to relevant domains. Consider the somewhat generic linear equation:\n",
    "\n",
    "$$\\begin{align}\n",
    "    Constr[e]: \\qquad b[e] = a[e,x]\\times v[x],\n",
    "\\end{align}$$\n",
    "that defines an equation defined over domains $e$ as a linear combination of a variable $v$ defined over domains $x$. The domains $e,x$ may be 0d (scalars), 1d (pd.Index), or multidimensional (nd). The domains $e,x$ may be the same, overlap partially, or not at all. Similarly, overlapping domains may be related through a mapping e.g. like a roll or a lag of the relevant index.\n",
    "\n",
    "The following method for adding coefficients $a[e,x]$ is based on the following steps:\n",
    "1. Specify name of constraint (```constr```) and domains $e$ (```cIdx```). If no domain is provided (```cIdx = None```), we default to using the domain stored in ```self.eq[constr]```.\n",
    "2. Specify name of variable (```v```) and domains $x$ (```vIdx```). If no domain is provided (```vIdx = None```), we default to using the domain stored in ```self.v[v]```.\n",
    "    * Note: If we want to apply a mapping to the domains $x$ relative to $e$, we apply this before broadcasting domains. For instance, say that both constraint and variable is defined over $t$. Lagging the $t$ index with 1, the broadcasting matches elements $t$ in the constraint index to $t-1$ in the variable index.\n",
    "    * From 1-2. we use the ```Broadcast.idx``` method to establish a full combined index. \n",
    "3. Now, specify parameter as a pd.Series defined over a subset of combined domains of $e,x$. The parameter is broadcasted to the full index using ```Broadcast.seriesToIdx```."
   ]
  },
  {
   "cell_type": "markdown",
   "id": "c546f2a0-c11d-4397-85f7-6577ea5e7262",
   "metadata": {},
   "source": [
    "Main method is implemented as ```self.lazyA```. Version that lags/rolls the variable index is defined as ```self.lazyA_lag```, ```self.lazyA_roll```."
   ]
  },
  {
   "cell_type": "markdown",
   "id": "745ccf88-f5e0-497c-9bf7-083c5cb561e5",
   "metadata": {},
   "source": [
    "## 3. Extract solution"
   ]
  },
  {
   "cell_type": "markdown",
   "id": "df71294a-e478-4186-b235-f14b5c2176eb",
   "metadata": {},
   "source": [
    "```__call__``` method extracts part of np.array:"
   ]
  },
  {
   "cell_type": "code",
   "execution_count": 29,
   "id": "a5d416ce-c021-4e10-b0a2-310a8feeb248",
   "metadata": {},
   "outputs": [
    {
     "data": {
      "text/plain": [
       "array([0.74407446, 0.21708886])"
      ]
     },
     "execution_count": 29,
     "metadata": {},
     "output_type": "execute_result"
    }
   ],
   "source": [
    "x = np.random.uniform(0,1,self.len['v'])\n",
    "self(x, 'x')"
   ]
  },
  {
   "cell_type": "markdown",
   "id": "841a783e-783d-46d5-bf48-a08d1b1a89e6",
   "metadata": {},
   "source": [
    "```get``` method returns ```pd.Series``` (or scalar):"
   ]
  },
  {
   "cell_type": "code",
   "execution_count": 41,
   "id": "7c1c27aa-f132-473b-b201-e48fa46b98e0",
   "metadata": {},
   "outputs": [
    {
     "data": {
      "text/plain": [
       "<pyDbs.simpleDB.GpyDict at 0x217bff3eba0>"
      ]
     },
     "execution_count": 41,
     "metadata": {},
     "output_type": "execute_result"
    }
   ],
   "source": [
    "self.lp['c']"
   ]
  },
  {
   "cell_type": "code",
   "execution_count": 35,
   "id": "fb9a2e9b-f755-4dbd-bc9b-113c54bb783d",
   "metadata": {},
   "outputs": [
    {
     "data": {
      "text/plain": [
       "{'x': RangeIndex(start=0, stop=2, step=1, name='t'),\n",
       " 'y': MultiIndex([(0, 10),\n",
       "             (0, 11),\n",
       "             (0, 12),\n",
       "             (1, 10),\n",
       "             (1, 11),\n",
       "             (1, 12)],\n",
       "            names=['t', 'i']),\n",
       " 'z': MultiIndex([(0, 10, 20),\n",
       "             (0, 10, 21),\n",
       "             (0, 10, 22),\n",
       "             (0, 10, 23),\n",
       "             (0, 11, 20),\n",
       "             (0, 11, 21),\n",
       "             (0, 11, 22),\n",
       "             (0, 11, 23),\n",
       "             (0, 12, 20),\n",
       "             (0, 12, 21),\n",
       "             (0, 12, 22),\n",
       "             (0, 12, 23),\n",
       "             (1, 10, 20),\n",
       "             (1, 10, 21),\n",
       "             (1, 10, 22),\n",
       "             (1, 10, 23),\n",
       "             (1, 11, 20),\n",
       "             (1, 11, 21),\n",
       "             (1, 11, 22),\n",
       "             (1, 11, 23),\n",
       "             (1, 12, 20),\n",
       "             (1, 12, 21),\n",
       "             (1, 12, 22),\n",
       "             (1, 12, 23)],\n",
       "            names=['t', 'i', 'j']),\n",
       " 'k': None}"
      ]
     },
     "execution_count": 35,
     "metadata": {},
     "output_type": "execute_result"
    }
   ],
   "source": [
    "self.v"
   ]
  },
  {
   "cell_type": "code",
   "execution_count": 30,
   "id": "883206cd-1346-4bb5-8ce9-323ebce52a65",
   "metadata": {},
   "outputs": [
    {
     "data": {
      "text/plain": [
       "t\n",
       "0    0.744074\n",
       "1    0.217089\n",
       "Name: x, dtype: float64"
      ]
     },
     "execution_count": 30,
     "metadata": {},
     "output_type": "execute_result"
    }
   ],
   "source": [
    "self.get(x, 'x')"
   ]
  },
  {
   "cell_type": "markdown",
   "id": "1b0ba7e0-0985-4d41-a6f1-09aaf290af90",
   "metadata": {},
   "source": [
    "Remove all but equality constraint, add one inequality constraint, and add bounds on all variables to make the solution feasible and bounded:"
   ]
  },
  {
   "cell_type": "code",
   "execution_count": 31,
   "id": "9cbe8bfa-c1f6-4ff4-94ff-27769f6dd7da",
   "metadata": {},
   "outputs": [],
   "source": [
    "delitems = [k for k in (self.lp['A_eq'].symbols) if k != 'vec2vec']\n",
    "[self.lp['A_eq'].__delitem__(k) for k in delitems];\n",
    "self.compileMaps()\n",
    "self.compileParams();\n",
    "self.out['bounds'] = np.vstack([np.zeros(self.len['v']), np.full(self.len['v'], 10)]).T # this update of the bounds is deleted if we run a standard \"compileParams\" statement. \n",
    "sol = scipy.optimize.linprog(**self.out)"
   ]
  },
  {
   "cell_type": "markdown",
   "id": "31ff2d48-0b86-4f5e-8a6d-9b967fa77936",
   "metadata": {},
   "source": [
    "The solution is unloaded as dictionaries of pandas series elements in the following blocks:\n",
    "* ```self.unloadSolX``` returns dictionary with solution for variables.\n",
    "* ```self.unloadSolDualEq, self.unloadSolDualUb ``` returns dictionary with shadow values (duals) for the equality and inequality contraints, respectively.\n",
    "* ```self.unloadSolDualLower, self.unloadSolDualUpper``` returns dictionary with shadow values (duals) for the lower/upper bounds on variables.\n",
    "\n",
    "The ```self.unloadSol``` method combines all of the above in one:"
   ]
  },
  {
   "cell_type": "code",
   "execution_count": 32,
   "id": "9cf64b18-58e0-4acd-a4bb-6299fa4b56d3",
   "metadata": {},
   "outputs": [
    {
     "data": {
      "text/plain": [
       "dict_keys(['x', 'y', 'z', 'k', 'λeq_sclr', 'λeq_vec_t', 'λeq_vec_tx0', 'λeq_vec_tj', 'λl_x', 'λl_y', 'λl_z', 'λl_k', 'λu_x', 'λu_y', 'λu_z', 'λu_k'])"
      ]
     },
     "execution_count": 32,
     "metadata": {},
     "output_type": "execute_result"
    }
   ],
   "source": [
    "solDict = self.unloadSol(sol)\n",
    "solDict.keys() # a look at the symbols added from this stage"
   ]
  }
 ],
 "metadata": {
  "kernelspec": {
   "display_name": "Python 3 (ipykernel)",
   "language": "python",
   "name": "python3"
  },
  "language_info": {
   "codemirror_mode": {
    "name": "ipython",
    "version": 3
   },
   "file_extension": ".py",
   "mimetype": "text/x-python",
   "name": "python",
   "nbconvert_exporter": "python",
   "pygments_lexer": "ipython3",
   "version": "3.13.5"
  }
 },
 "nbformat": 4,
 "nbformat_minor": 5
}
