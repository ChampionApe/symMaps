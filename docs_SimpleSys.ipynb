{
 "cells": [
  {
   "cell_type": "code",
   "execution_count": 1,
   "id": "733f3db8-f39a-4643-943d-de02471ddd89",
   "metadata": {},
   "outputs": [],
   "source": [
    "import numpy as np, scipy, pandas as pd\n",
    "from scipy import stats\n",
    "rng = np.random.default_rng(seed = 105)\n",
    "stats.truncnorm.random_state = rng\n",
    "from symMaps.__init__ import *\n",
    "_numtypes = (int,float,np.generic)"
   ]
  },
  {
   "cell_type": "markdown",
   "id": "2b2435fd-1657-4bb8-8ae7-79a4a55e2c42",
   "metadata": {},
   "source": [
    "# Documentation for `SimpleSys` and use of helper classes `Lag`, `Lead`, `Roll`."
   ]
  },
  {
   "cell_type": "markdown",
   "id": "4eea9d47-fb2a-4943-b654-2109851a0e7a",
   "metadata": {},
   "source": [
    "The class is used to navigate problems that take a vector of inputs and deals with many different variables potentially defined over different indices. Below, we also show examples using the helper classes `Lag`, `Lead`, `Roll`."
   ]
  },
  {
   "cell_type": "markdown",
   "id": "f589e6d6-b79a-49a1-ad8c-7d53993f513f",
   "metadata": {},
   "source": [
    "## 1. Example"
   ]
  },
  {
   "cell_type": "markdown",
   "id": "71b2d017-774b-4ca2-a024-f8d045d2812f",
   "metadata": {},
   "source": [
    "As an example, we'll use the optimization problem defined by:\n",
    "$$\\begin{align}\n",
    "    \\max &\\sum_{i, t_0\\leq t\\leq T} \\beta_i^{t-t_0} \\omega_i \\ln\\left(c_{i,t}\\right) \\tag{1} \\\\\n",
    "    m_{i,t} &= R_t m_{i,t-1}-c_{i,t} + y_{i,t}, && \\forall  i, t_0 \\leq t\\leq T \\tag{2}\\\\\n",
    "    m_{i,T} &= m_{i,T-1}, && \\forall i, \\tag{3} \\\\ \n",
    "\\end{align}$$\n",
    "given $m_{i,t_0-1}, y_{i,t}, R_t, \\beta_i, \\omega_i$.\n",
    "\n",
    "As an example, let us consider the simple case with three types of agents $i \\in \\lbrace L, M, H\\rbrace $ and 5 time periods $t = 2010, 2011, 2012,..., 2014$, and let us collect all relevant objects in a database."
   ]
  },
  {
   "cell_type": "markdown",
   "id": "d5e3f41a-b76a-4d56-a37c-90a266cf74c2",
   "metadata": {},
   "source": [
    "**Code:**"
   ]
  },
  {
   "cell_type": "markdown",
   "id": "93897911-e6f4-4fbf-bafa-3e01fb7e2eaf",
   "metadata": {},
   "source": [
    "The ```SimpleSys``` class is initialized with a database (`pyDbs.SimpleDB`)"
   ]
  },
  {
   "cell_type": "code",
   "execution_count": 2,
   "id": "ee9788fb-1377-41c2-b554-2c68b48d71cb",
   "metadata": {},
   "outputs": [],
   "source": [
    "system = SimpleSys()"
   ]
  },
  {
   "cell_type": "markdown",
   "id": "dace9ed5-d831-4b6e-849e-b7ce32789726",
   "metadata": {},
   "source": [
    "Add data:"
   ]
  },
  {
   "cell_type": "code",
   "execution_count": 3,
   "id": "c868d119-cf1a-4ae6-8cba-559e710c588b",
   "metadata": {},
   "outputs": [],
   "source": [
    "db = system.db\n",
    "db['i'] = pd.Index(['L','M','H'], name  = 'i')\n",
    "t0, T = 2010, 2014\n",
    "db['t'] = pd.Index(range(t0, T+1), name = 't')\n",
    "# Parameters:\n",
    "db['β'] = pd.Series(sorted(stats.truncnorm.rvs(0, 1, size = len(db('i')))), index = db('i'))\n",
    "db['ω'] = pd.Series(1/len(db('i')), index = db('i'))\n",
    "db['y'] = pd.Series(1, index = pd.MultiIndex.from_product([db('i'), db('t')]))\n",
    "db['R'] = pd.Series(1/db('β').mean()-0.5+stats.truncnorm.rvs(0,1, size = len(db['t'])), index = db('t'))\n",
    "db['m0'] = pd.Series((10*db('β')**2).values, index = pd.MultiIndex.from_product([db('i'), db('t')[0:1]]))\n",
    "db['weights'] = adjMultiIndex.bc(db('β'), db('t')).pow(pd.Series(db('t')-t0, index = db('t'))) * db('ω') # define weighting in welfare function"
   ]
  },
  {
   "cell_type": "markdown",
   "id": "97b4d51b-b33d-4ab5-9f07-b456683e3b17",
   "metadata": {},
   "source": [
    "## 2. Define key variables and compile"
   ]
  },
  {
   "cell_type": "markdown",
   "id": "85c7f2d7-efd0-4d94-85a6-c2cbf2c3166f",
   "metadata": {},
   "source": [
    "The endogenous variables in the system are specified using a dictionary that ties the variable name to the relevant domains. In some instances (most nonlinear programming applications), it makes sense to provide not only domains, but also starting values for the optimization problem. We start by adding some naive values to the database:"
   ]
  },
  {
   "cell_type": "code",
   "execution_count": 4,
   "id": "7f4d33ff-3891-4d7b-baf5-f0107d61ce4f",
   "metadata": {},
   "outputs": [],
   "source": [
    "db['m'] = pd.Series(.5, index = pd.MultiIndex.from_product([db('t'), db('i')]))\n",
    "db['c'] = pd.Series(1.5, index = pd.MultiIndex.from_product([db('t'), db('i')]))"
   ]
  },
  {
   "cell_type": "markdown",
   "id": "b8d06249-9fa0-45f3-8a34-64ad9efb217b",
   "metadata": {},
   "source": [
    "Next, we add these to the ```self.v``` that contains variables required to stack:"
   ]
  },
  {
   "cell_type": "code",
   "execution_count": 5,
   "id": "6a53585d-2f97-48bf-9c0a-b8a919d25f18",
   "metadata": {},
   "outputs": [],
   "source": [
    "system.v = {k: db[k].index for k in ('m','c')}"
   ]
  },
  {
   "cell_type": "markdown",
   "id": "f6cb01e0-d275-409b-85ac-2b5a4fba18ab",
   "metadata": {},
   "source": [
    "*Note: We add scalars by mapping from symbol name to None.*"
   ]
  },
  {
   "cell_type": "markdown",
   "id": "274622e8-7401-498b-966a-fb631a541700",
   "metadata": {},
   "source": [
    "The compilation stage is now straightforward: We stack indices for each symbol to a global integer index by calling"
   ]
  },
  {
   "cell_type": "code",
   "execution_count": 6,
   "id": "6635cc1f-4176-4707-9121-32a1d7e77dc4",
   "metadata": {},
   "outputs": [],
   "source": [
    "system.compile()"
   ]
  },
  {
   "cell_type": "markdown",
   "id": "5fd00d8e-07d9-4a4c-a7ab-f91aadefed1c",
   "metadata": {},
   "source": [
    "The ```self.maps``` attribute now contains a mapping from the ```pd.Index``` to the global index."
   ]
  },
  {
   "cell_type": "markdown",
   "id": "17d358bf-0440-4aa1-9fd5-2e09b6a54616",
   "metadata": {},
   "source": [
    "### 2.A. Auxiliary methods"
   ]
  },
  {
   "cell_type": "markdown",
   "id": "94452ace-c14c-40fc-9d3d-11e5206e50f1",
   "metadata": {},
   "source": [
    "We can now get an initial guess of the stacked vector $x_0$. This call uses data from ```self.db``` if available, and otherwise adds a vector with values specified by kwarg ```fill_value = 0```: "
   ]
  },
  {
   "cell_type": "code",
   "execution_count": 7,
   "id": "1395802b-19ca-4015-b906-2da298f5a610",
   "metadata": {},
   "outputs": [],
   "source": [
    "x0 = system.x0() # get vector using database"
   ]
  },
  {
   "cell_type": "markdown",
   "id": "b5a6cde1-d91d-4c29-a901-2fda106f12e5",
   "metadata": {},
   "source": [
    "We can also get vectors for lower and upper bounds adding:"
   ]
  },
  {
   "cell_type": "code",
   "execution_count": 8,
   "id": "8cda1239-925c-421f-852c-30171bee8d0d",
   "metadata": {},
   "outputs": [
    {
     "data": {
      "text/plain": [
       "array([nan, nan, nan, nan, nan, nan, nan, nan, nan, nan, nan, nan, nan,\n",
       "       nan, nan, nan, nan, nan, nan, nan, nan, nan, nan, nan, nan, nan,\n",
       "       nan, nan, nan, nan])"
      ]
     },
     "execution_count": 8,
     "metadata": {},
     "output_type": "execute_result"
    }
   ],
   "source": [
    "system.x0(attr = 'lo')"
   ]
  },
  {
   "cell_type": "markdown",
   "id": "3493d5a7-b616-45ed-a889-e2374da9e74d",
   "metadata": {},
   "source": [
    "Given a stacked vector, $x$, we can also split the solution into symbols again using ```__call__```:"
   ]
  },
  {
   "cell_type": "code",
   "execution_count": 9,
   "id": "60332054-a5b9-4a21-8fa3-e11900ea4f95",
   "metadata": {},
   "outputs": [
    {
     "data": {
      "text/plain": [
       "array([0.5, 0.5, 0.5, 0.5, 0.5, 0.5, 0.5, 0.5, 0.5, 0.5, 0.5, 0.5, 0.5,\n",
       "       0.5, 0.5])"
      ]
     },
     "execution_count": 9,
     "metadata": {},
     "output_type": "execute_result"
    }
   ],
   "source": [
    "system(x0, 'm') # extract m part of the stacked vector"
   ]
  },
  {
   "cell_type": "markdown",
   "id": "31fb941d-d5cb-484a-bf9d-da4019431948",
   "metadata": {},
   "source": [
    "We can also use the ```get``` method to return the symbol as pandas series:"
   ]
  },
  {
   "cell_type": "code",
   "execution_count": 10,
   "id": "25535f7f-2d09-47db-9337-63aa7bd06a4e",
   "metadata": {},
   "outputs": [
    {
     "data": {
      "text/plain": [
       "t     i\n",
       "2010  L    0.5\n",
       "      M    0.5\n",
       "      H    0.5\n",
       "2011  L    0.5\n",
       "      M    0.5\n",
       "      H    0.5\n",
       "2012  L    0.5\n",
       "      M    0.5\n",
       "      H    0.5\n",
       "2013  L    0.5\n",
       "      M    0.5\n",
       "      H    0.5\n",
       "2014  L    0.5\n",
       "      M    0.5\n",
       "      H    0.5\n",
       "Name: m, dtype: float64"
      ]
     },
     "execution_count": 10,
     "metadata": {},
     "output_type": "execute_result"
    }
   ],
   "source": [
    "system.get(x0, 'm')"
   ]
  },
  {
   "cell_type": "markdown",
   "id": "2b81c5f2-ad37-4cd6-b79f-08f616ef729e",
   "metadata": {},
   "source": [
    "*Note: If the symbol is a scalar, this returns a scalar instead of a pandas series.*"
   ]
  },
  {
   "cell_type": "markdown",
   "id": "948c5163-ad84-4bae-948f-bb63fa300e6a",
   "metadata": {},
   "source": [
    "The ```self.unloadSol(x)``` method returns dictionary of symbols from the stacked vector:"
   ]
  },
  {
   "cell_type": "code",
   "execution_count": 11,
   "id": "ad4abb45-ca8a-498a-a47f-38e4130cb447",
   "metadata": {},
   "outputs": [
    {
     "data": {
      "text/plain": [
       "{'m': t     i\n",
       " 2010  L    0.5\n",
       "       M    0.5\n",
       "       H    0.5\n",
       " 2011  L    0.5\n",
       "       M    0.5\n",
       "       H    0.5\n",
       " 2012  L    0.5\n",
       "       M    0.5\n",
       "       H    0.5\n",
       " 2013  L    0.5\n",
       "       M    0.5\n",
       "       H    0.5\n",
       " 2014  L    0.5\n",
       "       M    0.5\n",
       "       H    0.5\n",
       " Name: m, dtype: float64,\n",
       " 'c': t     i\n",
       " 2010  L    1.5\n",
       "       M    1.5\n",
       "       H    1.5\n",
       " 2011  L    1.5\n",
       "       M    1.5\n",
       "       H    1.5\n",
       " 2012  L    1.5\n",
       "       M    1.5\n",
       "       H    1.5\n",
       " 2013  L    1.5\n",
       "       M    1.5\n",
       "       H    1.5\n",
       " 2014  L    1.5\n",
       "       M    1.5\n",
       "       H    1.5\n",
       " Name: c, dtype: float64}"
      ]
     },
     "execution_count": 11,
     "metadata": {},
     "output_type": "execute_result"
    }
   ],
   "source": [
    "system.unloadSol(x0)"
   ]
  },
  {
   "cell_type": "markdown",
   "id": "cbcb1e34-4ac6-41bf-9144-1b2e613aa503",
   "metadata": {},
   "source": [
    "## 3. Adjusted symbols"
   ]
  },
  {
   "cell_type": "markdown",
   "id": "d0c1311a-202a-4f25-964d-0be03ebaad69",
   "metadata": {},
   "source": [
    "A common case with symbols defined over indices is the need for a lagged or shifted index. For instance, in equations (1)-(3) we use the lagged version $m_{i,t-1}$. We may also need these adjustments for parameters that are not ultimately a part of the vector $x$. The following first provides some different ways to create shifted/lagged/rolled indices and set up new vectors based on this."
   ]
  },
  {
   "cell_type": "markdown",
   "id": "f0a9bb1f-b6e8-4001-a8b8-2f79856ba790",
   "metadata": {},
   "source": [
    "### 3.A. Lags and leads using pandas indices"
   ]
  },
  {
   "cell_type": "markdown",
   "id": "615934f5-890b-4233-9ac7-b8dd43f473df",
   "metadata": {},
   "source": [
    "*To do: Create mapping to global linear index and define auxiliary symbols from the stacked vector $x$.* "
   ]
  },
  {
   "cell_type": "markdown",
   "id": "493b5312-35c4-40e5-9bdd-dfb73f46b8d4",
   "metadata": {},
   "source": [
    "A related operation to the \"lagging\", is to shift or roll an index a certain number of elements. The lagging requires the index to be numerical and the operation is done directly on set elements. Rolling uses the defined index and rolls them. That is, this relies on the ordering of the main symbol. Shifts are similar to rolls, but it keeps a break between first and last element in an index. For example, rolling the index $\\lbrace 1,2,3\\rbrace$ one element yields $\\lbrace 3,1,2 \\rbrace$, whereas shifting it leaves $\\lbrace NaN, 1,2 \\rbrace$ or some other value that we use to fill in for ```NaN```. {1,2,3}"
   ]
  },
  {
   "cell_type": "markdown",
   "id": "02fd8b02-193b-4904-8523-298ca03639ff",
   "metadata": {},
   "source": [
    "**Example: Symbols defined over 1d index**"
   ]
  },
  {
   "cell_type": "code",
   "execution_count": 12,
   "id": "62a31bcb-b19b-410c-875e-d03a722af650",
   "metadata": {},
   "outputs": [],
   "source": [
    "v = pd.Series(np.linspace(1, 2, 4), index = pd.Index(range(4), name = 't'), name = 'v') # 1d variable defined over numerical index"
   ]
  },
  {
   "cell_type": "markdown",
   "id": "4de10df4-6f90-44fb-b60e-2da2e02f09bf",
   "metadata": {},
   "source": [
    "Roll one level:"
   ]
  },
  {
   "cell_type": "code",
   "execution_count": 13,
   "id": "7d84d300-8629-4686-a606-8a1529bcc083",
   "metadata": {},
   "outputs": [
    {
     "data": {
      "text/plain": [
       "array([0, 1, 2, 3])"
      ]
     },
     "execution_count": 13,
     "metadata": {},
     "output_type": "execute_result"
    }
   ],
   "source": [
    "roll = 1\n",
    "v.index.values"
   ]
  },
  {
   "cell_type": "code",
   "execution_count": 14,
   "id": "21eca3a0-610b-4096-8cb7-4b406faae7c2",
   "metadata": {},
   "outputs": [
    {
     "data": {
      "text/plain": [
       "array([3, 0, 1, 2])"
      ]
     },
     "execution_count": 14,
     "metadata": {},
     "output_type": "execute_result"
    }
   ],
   "source": [
    "np.roll(v.index, roll)"
   ]
  },
  {
   "cell_type": "markdown",
   "id": "8b59dbdf-b4ae-4ccc-a80b-af312775ce0f",
   "metadata": {},
   "source": [
    "Assume we are interested in the symbol $v[t-lag]$, where $lag$ is an integer. The simple first step is to introduce the shift in the index, e.g.:"
   ]
  },
  {
   "cell_type": "code",
   "execution_count": 15,
   "id": "04af986a-e225-4d6f-87f2-3582b77a5e94",
   "metadata": {},
   "outputs": [
    {
     "data": {
      "text/html": [
       "<div>\n",
       "<style scoped>\n",
       "    .dataframe tbody tr th:only-of-type {\n",
       "        vertical-align: middle;\n",
       "    }\n",
       "\n",
       "    .dataframe tbody tr th {\n",
       "        vertical-align: top;\n",
       "    }\n",
       "\n",
       "    .dataframe thead th {\n",
       "        text-align: right;\n",
       "    }\n",
       "</style>\n",
       "<table border=\"1\" class=\"dataframe\">\n",
       "  <thead>\n",
       "    <tr style=\"text-align: right;\">\n",
       "      <th></th>\n",
       "      <th>v</th>\n",
       "      <th>v[t-1]</th>\n",
       "    </tr>\n",
       "    <tr>\n",
       "      <th>t</th>\n",
       "      <th></th>\n",
       "      <th></th>\n",
       "    </tr>\n",
       "  </thead>\n",
       "  <tbody>\n",
       "    <tr>\n",
       "      <th>0</th>\n",
       "      <td>1.000000</td>\n",
       "      <td>NaN</td>\n",
       "    </tr>\n",
       "    <tr>\n",
       "      <th>1</th>\n",
       "      <td>1.333333</td>\n",
       "      <td>1.000000</td>\n",
       "    </tr>\n",
       "    <tr>\n",
       "      <th>2</th>\n",
       "      <td>1.666667</td>\n",
       "      <td>1.333333</td>\n",
       "    </tr>\n",
       "    <tr>\n",
       "      <th>3</th>\n",
       "      <td>2.000000</td>\n",
       "      <td>1.666667</td>\n",
       "    </tr>\n",
       "    <tr>\n",
       "      <th>4</th>\n",
       "      <td>NaN</td>\n",
       "      <td>2.000000</td>\n",
       "    </tr>\n",
       "  </tbody>\n",
       "</table>\n",
       "</div>"
      ],
      "text/plain": [
       "          v    v[t-1]\n",
       "t                    \n",
       "0  1.000000       NaN\n",
       "1  1.333333  1.000000\n",
       "2  1.666667  1.333333\n",
       "3  2.000000  1.666667\n",
       "4       NaN  2.000000"
      ]
     },
     "execution_count": 15,
     "metadata": {},
     "output_type": "execute_result"
    }
   ],
   "source": [
    "lag = 1\n",
    "vl = pd.Series(v.values, index = v.index+lag, name = f'v[t-{lag}]')\n",
    "pd.concat([v, vl],axis = 1).sort_index()"
   ]
  },
  {
   "cell_type": "markdown",
   "id": "5cc40e3d-0253-433a-abc9-2ef49faa848f",
   "metadata": {},
   "source": [
    "The interpretation of the symbol $v_{t-1}(t)$ is that when the index $t$ evaluates to $1$, then $v_{t-1}(1) = v(0)$. As we can see above, this lag poses a question: The original index $t$ runs from $0-3$, but how do we treat the endpoints of the system? The ```adjMI``` includes a couple of options to choose from here:\n",
    "* Option 1: fkeep = False. Only uses the part of the index where $t-lag$ maps to an element in original index. In our instance, we lose the $t=4$ observation. \n",
    "* Option 2 bfill = 'exo'. Options $\\in$ {False, 'SS', 'Exo'}.\n",
    "    * If bfill == False: Drop nan values.\n",
    "    * If bfill == 'ss': Impose steady state for values.\n",
    "    * IF bfill == 'exo': Add values exogenously."
   ]
  },
  {
   "cell_type": "markdown",
   "id": "3cef66bc-0b23-4bb0-8b8c-5b38bfcee020",
   "metadata": {},
   "source": [
    "This is done using the Lag class:"
   ]
  },
  {
   "cell_type": "code",
   "execution_count": 16,
   "id": "d1cae62c-84f3-4e57-b193-cf5c8656f5e2",
   "metadata": {},
   "outputs": [
    {
     "data": {
      "text/plain": [
       "t\n",
       "0    0.000000\n",
       "1    1.000000\n",
       "2    1.333333\n",
       "3    1.666667\n",
       "dtype: float64"
      ]
     },
     "execution_count": 16,
     "metadata": {},
     "output_type": "execute_result"
    }
   ],
   "source": [
    "Lag.series(v, lag, fkeep = False, bfill = 'exo', exo = 0) # default options - drops the value with t=4 and adds the new value for t = 0 as 0"
   ]
  },
  {
   "cell_type": "code",
   "execution_count": 17,
   "id": "5069b4b3-68c2-456f-bcc9-56cd9ecb4ca7",
   "metadata": {},
   "outputs": [
    {
     "data": {
      "text/plain": [
       "t\n",
       "0    0.000000\n",
       "1    1.000000\n",
       "2    1.333333\n",
       "3    1.666667\n",
       "4    2.000000\n",
       "dtype: float64"
      ]
     },
     "execution_count": 17,
     "metadata": {},
     "output_type": "execute_result"
    }
   ],
   "source": [
    "Lag.series(v, lag, fkeep = True) # If we do not drop t = 4 "
   ]
  },
  {
   "cell_type": "code",
   "execution_count": 18,
   "id": "13d1a088-b3fa-429c-9084-95b8d17d0150",
   "metadata": {},
   "outputs": [
    {
     "data": {
      "text/plain": [
       "t\n",
       "1    1.000000\n",
       "2    1.333333\n",
       "3    1.666667\n",
       "dtype: float64"
      ]
     },
     "execution_count": 18,
     "metadata": {},
     "output_type": "execute_result"
    }
   ],
   "source": [
    "Lag.series(v, lag, fkeep = False, bfill = False) # Drop outside values (t=0)"
   ]
  },
  {
   "cell_type": "code",
   "execution_count": 19,
   "id": "b92135dc-8513-4754-b7f9-a7f0cd9c8d26",
   "metadata": {},
   "outputs": [
    {
     "data": {
      "text/plain": [
       "t\n",
       "0    1.000000\n",
       "1    1.000000\n",
       "2    1.333333\n",
       "3    1.666667\n",
       "dtype: float64"
      ]
     },
     "execution_count": 19,
     "metadata": {},
     "output_type": "execute_result"
    }
   ],
   "source": [
    "Lag.series(v, lag, fkeep = False, bfill = 'ss') # use steady state assumption for missing data (t=0)"
   ]
  },
  {
   "cell_type": "markdown",
   "id": "b77690cb-a2b7-4c07-8cf5-c026539b4dc0",
   "metadata": {},
   "source": [
    "**Example: Symbols defined over nd index**"
   ]
  },
  {
   "cell_type": "code",
   "execution_count": 20,
   "id": "43eb619a-58c3-4529-8f30-e2af6e28b5e0",
   "metadata": {},
   "outputs": [],
   "source": [
    "v = pd.Series(np.linspace(1, 2, 16), index = pd.MultiIndex.from_product([pd.Index(range(4), name = 't'), pd.Index(np.arange(10,10+5*4, 5), name = 'i')]), name = 'v')"
   ]
  },
  {
   "cell_type": "markdown",
   "id": "6d355101-0235-4780-af31-5c1aa3da8bea",
   "metadata": {},
   "source": [
    "Similar procedure:"
   ]
  },
  {
   "cell_type": "code",
   "execution_count": 21,
   "id": "6c23ebfb-fe10-416b-a69c-07e0205a8e5f",
   "metadata": {},
   "outputs": [
    {
     "data": {
      "text/plain": [
       "t  i \n",
       "0  10    0.000000\n",
       "   15    0.000000\n",
       "   20    0.000000\n",
       "   25    0.000000\n",
       "1  10    1.000000\n",
       "   15    1.066667\n",
       "   20    1.133333\n",
       "   25    1.200000\n",
       "2  10    1.266667\n",
       "   15    1.333333\n",
       "   20    1.400000\n",
       "   25    1.466667\n",
       "3  10    1.533333\n",
       "   15    1.600000\n",
       "   20    1.666667\n",
       "   25    1.733333\n",
       "dtype: float64"
      ]
     },
     "execution_count": 21,
     "metadata": {},
     "output_type": "execute_result"
    }
   ],
   "source": [
    "lag = 1\n",
    "level = 't'\n",
    "# lag = {'t': 1} # equivalent\n",
    "Lag.series(v, lag, level = level, fkeep = False, bfill = 'exo', exo = 0) # default options - drops the value with t=4 and adds the new value for t = 0 as 0"
   ]
  },
  {
   "cell_type": "code",
   "execution_count": 22,
   "id": "79d37b1a-80d5-4667-972b-3aeae876b1b2",
   "metadata": {},
   "outputs": [
    {
     "data": {
      "text/plain": [
       "t  i \n",
       "0  10    0.000000\n",
       "   15    0.000000\n",
       "   20    0.000000\n",
       "   25    0.000000\n",
       "1  10    1.000000\n",
       "   15    1.066667\n",
       "   20    1.133333\n",
       "   25    1.200000\n",
       "2  10    1.266667\n",
       "   15    1.333333\n",
       "   20    1.400000\n",
       "   25    1.466667\n",
       "3  10    1.533333\n",
       "   15    1.600000\n",
       "   20    1.666667\n",
       "   25    1.733333\n",
       "4  10    1.800000\n",
       "   15    1.866667\n",
       "   20    1.933333\n",
       "   25    2.000000\n",
       "dtype: float64"
      ]
     },
     "execution_count": 22,
     "metadata": {},
     "output_type": "execute_result"
    }
   ],
   "source": [
    "Lag.series(v, lag, level = level, fkeep = True) # If we do not drop t = 4 "
   ]
  },
  {
   "cell_type": "code",
   "execution_count": 23,
   "id": "c9ef5e20-df71-41c3-81be-0a61425672ff",
   "metadata": {},
   "outputs": [
    {
     "data": {
      "text/plain": [
       "t  i \n",
       "1  10    1.000000\n",
       "   15    1.066667\n",
       "   20    1.133333\n",
       "   25    1.200000\n",
       "2  10    1.266667\n",
       "   15    1.333333\n",
       "   20    1.400000\n",
       "   25    1.466667\n",
       "3  10    1.533333\n",
       "   15    1.600000\n",
       "   20    1.666667\n",
       "   25    1.733333\n",
       "dtype: float64"
      ]
     },
     "execution_count": 23,
     "metadata": {},
     "output_type": "execute_result"
    }
   ],
   "source": [
    "Lag.series(v, lag, level = level, fkeep = False, bfill = False) # Drop outside values (t=0)"
   ]
  },
  {
   "cell_type": "code",
   "execution_count": 24,
   "id": "7950a172-5972-44e0-945f-95a921f8fdce",
   "metadata": {},
   "outputs": [
    {
     "data": {
      "text/plain": [
       "t  i \n",
       "0  10    1.000000\n",
       "   15    1.066667\n",
       "   20    1.133333\n",
       "   25    1.200000\n",
       "1  10    1.000000\n",
       "   15    1.066667\n",
       "   20    1.133333\n",
       "   25    1.200000\n",
       "2  10    1.266667\n",
       "   15    1.333333\n",
       "   20    1.400000\n",
       "   25    1.466667\n",
       "3  10    1.533333\n",
       "   15    1.600000\n",
       "   20    1.666667\n",
       "   25    1.733333\n",
       "dtype: float64"
      ]
     },
     "execution_count": 24,
     "metadata": {},
     "output_type": "execute_result"
    }
   ],
   "source": [
    "Lag.series(v, lag, level = level, fkeep = False, bfill = 'ss') # use steady state assumption for missing data (t=0)"
   ]
  },
  {
   "cell_type": "markdown",
   "id": "d4824fc4-9da5-44ff-8bb6-62f054e366e1",
   "metadata": {},
   "source": [
    "**Example: Symbols defined over nd index - adjust multiple indices**"
   ]
  },
  {
   "cell_type": "code",
   "execution_count": 25,
   "id": "f77ae71c-29f1-41c7-9789-4d731a3e4b57",
   "metadata": {},
   "outputs": [
    {
     "data": {
      "text/plain": [
       "t  i \n",
       "0  10    0.000000\n",
       "   15    0.000000\n",
       "   20    0.000000\n",
       "   25    0.000000\n",
       "1  10    0.000000\n",
       "   15    1.000000\n",
       "   20    1.066667\n",
       "   25    1.133333\n",
       "2  10    0.000000\n",
       "   15    1.266667\n",
       "   20    1.333333\n",
       "   25    1.400000\n",
       "3  10    0.000000\n",
       "   15    1.533333\n",
       "   20    1.600000\n",
       "   25    1.666667\n",
       "dtype: float64"
      ]
     },
     "execution_count": 25,
     "metadata": {},
     "output_type": "execute_result"
    }
   ],
   "source": [
    "lag = {'t': 1, 'i': 5}\n",
    "Lag.series(v, lag, fkeep = False, bfill = 'exo', exo = 0) # default options - drops the value with t=4, i = 30 and adds the new value for t = 0 as 0"
   ]
  },
  {
   "cell_type": "code",
   "execution_count": 26,
   "id": "fa9fc211-dbbb-4d9c-86ce-39ace72188eb",
   "metadata": {},
   "outputs": [
    {
     "data": {
      "text/plain": [
       "t  i \n",
       "0  10    0.000000\n",
       "   15    0.000000\n",
       "   20    0.000000\n",
       "   25    0.000000\n",
       "1  10    0.000000\n",
       "   15    1.000000\n",
       "   20    1.066667\n",
       "   25    1.133333\n",
       "   30    1.200000\n",
       "2  10    0.000000\n",
       "   15    1.266667\n",
       "   20    1.333333\n",
       "   25    1.400000\n",
       "   30    1.466667\n",
       "3  10    0.000000\n",
       "   15    1.533333\n",
       "   20    1.600000\n",
       "   25    1.666667\n",
       "   30    1.733333\n",
       "4  15    1.800000\n",
       "   20    1.866667\n",
       "   25    1.933333\n",
       "   30    2.000000\n",
       "dtype: float64"
      ]
     },
     "execution_count": 26,
     "metadata": {},
     "output_type": "execute_result"
    }
   ],
   "source": [
    "Lag.series(v, lag, fkeep = True) # If we do not drop t = 4, i = 30"
   ]
  },
  {
   "cell_type": "code",
   "execution_count": 27,
   "id": "a5a6203d-6f46-4abd-a4ed-77c3c5415f13",
   "metadata": {},
   "outputs": [
    {
     "data": {
      "text/plain": [
       "t  i \n",
       "1  15    1.000000\n",
       "   20    1.066667\n",
       "   25    1.133333\n",
       "2  15    1.266667\n",
       "   20    1.333333\n",
       "   25    1.400000\n",
       "3  15    1.533333\n",
       "   20    1.600000\n",
       "   25    1.666667\n",
       "dtype: float64"
      ]
     },
     "execution_count": 27,
     "metadata": {},
     "output_type": "execute_result"
    }
   ],
   "source": [
    "Lag.series(v, lag, fkeep = False, bfill = False) # Drop outside values (t=0, i = 10)"
   ]
  },
  {
   "cell_type": "code",
   "execution_count": 28,
   "id": "91f89652-3463-448b-9b04-2a473bbc8a8f",
   "metadata": {},
   "outputs": [
    {
     "data": {
      "text/plain": [
       "t  i \n",
       "0  10    1.000000\n",
       "   15    1.066667\n",
       "   20    1.133333\n",
       "   25    1.200000\n",
       "1  10    1.266667\n",
       "   15    1.000000\n",
       "   20    1.066667\n",
       "   25    1.133333\n",
       "2  10    1.533333\n",
       "   15    1.266667\n",
       "   20    1.333333\n",
       "   25    1.400000\n",
       "3  10    1.800000\n",
       "   15    1.533333\n",
       "   20    1.600000\n",
       "   25    1.666667\n",
       "dtype: float64"
      ]
     },
     "execution_count": 28,
     "metadata": {},
     "output_type": "execute_result"
    }
   ],
   "source": [
    "Lag.series(v, lag, fkeep = False, bfill = 'ss') # use steady state assumption for missing data (t=0)"
   ]
  },
  {
   "cell_type": "markdown",
   "id": "23407645-9d87-4c70-b3c7-63993ef0b639",
   "metadata": {},
   "source": [
    "### 3.B. Lags and leads in the global index"
   ]
  },
  {
   "cell_type": "markdown",
   "id": "b904e588-3a16-4dd6-9a48-19a897ee4144",
   "metadata": {},
   "source": [
    "*To do: Create mapping to global linear index and define auxiliary symbols from the stacked vector $x$.* "
   ]
  },
  {
   "cell_type": "markdown",
   "id": "c7d75137-e390-4924-befd-3b231ca138d8",
   "metadata": {},
   "source": [
    "### 3.C. Rolling/shifting"
   ]
  },
  {
   "cell_type": "markdown",
   "id": "6af17487-f8b9-4dc4-9ab0-7d9f3c5fb484",
   "metadata": {},
   "source": [
    "A related operation to the \"lagging\", is to shift or roll an index a certain number of elements. The lagging requires the index to be numerical and the operation is done directly on set elements. Rolling uses the defined index and rolls them. That is, this relies on the ordering of the main symbol. Shifts are similar to rolls, but it keeps a break between first and last element in an index. For example, rolling the index $\\lbrace 1,2,3\\rbrace$ one element yields $\\lbrace 3,1,2 \\rbrace$, whereas shifting it leaves $\\lbrace NaN, 1,2 \\rbrace$ or some other value that we use to fill in for ```NaN```. "
   ]
  },
  {
   "cell_type": "markdown",
   "id": "fa2aace4-8961-4f3d-b826-0956173d3bdb",
   "metadata": {},
   "source": [
    "Test rolling (for circular indices):"
   ]
  },
  {
   "cell_type": "code",
   "execution_count": 25,
   "id": "5a1545d4-fe6f-40e3-a774-46f05c27eedf",
   "metadata": {},
   "outputs": [
    {
     "data": {
      "text/plain": [
       "t  i \n",
       "1  10    1.000000\n",
       "   15    1.066667\n",
       "   20    1.133333\n",
       "   25    1.200000\n",
       "2  10    1.266667\n",
       "   15    1.333333\n",
       "   20    1.400000\n",
       "   25    1.466667\n",
       "3  10    1.533333\n",
       "   15    1.600000\n",
       "   20    1.666667\n",
       "   25    1.733333\n",
       "0  10    1.800000\n",
       "   15    1.866667\n",
       "   20    1.933333\n",
       "   25    2.000000\n",
       "dtype: float64"
      ]
     },
     "execution_count": 25,
     "metadata": {},
     "output_type": "execute_result"
    }
   ],
   "source": [
    "Roll.series(v, -1, level = 't')"
   ]
  },
  {
   "cell_type": "markdown",
   "id": "86a35151-b868-4e89-b362-6e694b05664f",
   "metadata": {},
   "source": [
    "Shifting: Akin to lag operations, but on categorical indices."
   ]
  },
  {
   "cell_type": "code",
   "execution_count": 26,
   "id": "fc685bba-5e4e-45bc-95ab-3dc3c9e2b75d",
   "metadata": {},
   "outputs": [],
   "source": [
    "shift = 1\n",
    "x = np.roll(v.index.levels[0],shift)"
   ]
  }
 ],
 "metadata": {
  "kernelspec": {
   "display_name": "Python 3 (ipykernel)",
   "language": "python",
   "name": "python3"
  },
  "language_info": {
   "codemirror_mode": {
    "name": "ipython",
    "version": 3
   },
   "file_extension": ".py",
   "mimetype": "text/x-python",
   "name": "python",
   "nbconvert_exporter": "python",
   "pygments_lexer": "ipython3",
   "version": "3.13.5"
  }
 },
 "nbformat": 4,
 "nbformat_minor": 5
}
