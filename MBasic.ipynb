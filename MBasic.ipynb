{
 "cells": [
  {
   "cell_type": "code",
   "execution_count": 1,
   "id": "33b4644f",
   "metadata": {},
   "outputs": [],
   "source": [
    "import numpy as np, scipy, pandas as pd\n",
    "from scipy import stats\n",
    "rng = np.random.default_rng(seed = 105)\n",
    "stats.truncnorm.random_state = rng\n",
    "from symMaps.__init__ import *\n",
    "from symMaps.lpSys import _adjF\n",
    "_numtypes = (int,float,np.generic)"
   ]
  },
  {
   "cell_type": "markdown",
   "id": "18f6ca9a",
   "metadata": {},
   "source": [
    "# MBasic class"
   ]
  },
  {
   "cell_type": "markdown",
   "id": "959553d3",
   "metadata": {},
   "source": [
    "The model is a very simple power system model that is defined over four indices:\n",
    "* ```idxGen```: Set of electricity generators.\n",
    "* ```idxF```: Set of fuel types that generators may use.\n",
    "* ```idxEm```: Set of emission types included in the model.\n",
    "* ```idxCons```: Set of consumers in the power market.\n",
    "\n",
    "\n",
    "The model requires the following data to run:\n",
    "* ```pFuel(idxF)```: Fuel price. Default unit: €/GJ.\n",
    "* ```uEm(idxF, idxEm)```: Emission intensity. Default unit: Ton emission/GJ fuel input. \n",
    "* ```VOM(idxGen)```: variable operating and maintenance costs. Default unit: €/GJ output.\n",
    "* ```uFuel(idxF, idxGen)```: Fuelmix. Default unit: GJ input/GJ output.\n",
    "* ```taxEm(idxEm)```: Tax on emissions. Default unit: €/ton emission output.\n",
    "* ```genCap(idxGen)```: Generating capacity. Default unit: GJ/hour.\n",
    "* ```mwp(idxCons)```: Marginal willingness to pay for consumers. Default unit: €/GJ. \n",
    "* ```load(idxCons)```: Total demand for consumers if the price does not exceed their marginal willingness to pay. Default unit: GJ."
   ]
  },
  {
   "cell_type": "code",
   "execution_count": null,
   "id": "8bec5831",
   "metadata": {},
   "outputs": [],
   "source": []
  },
  {
   "cell_type": "code",
   "execution_count": null,
   "id": "eb6afa62",
   "metadata": {},
   "outputs": [],
   "source": []
  }
 ],
 "metadata": {
  "kernelspec": {
   "display_name": "symMaps",
   "language": "python",
   "name": "python3"
  },
  "language_info": {
   "codemirror_mode": {
    "name": "ipython",
    "version": 3
   },
   "file_extension": ".py",
   "mimetype": "text/x-python",
   "name": "python",
   "nbconvert_exporter": "python",
   "pygments_lexer": "ipython3",
   "version": "3.13.5"
  }
 },
 "nbformat": 4,
 "nbformat_minor": 5
}
